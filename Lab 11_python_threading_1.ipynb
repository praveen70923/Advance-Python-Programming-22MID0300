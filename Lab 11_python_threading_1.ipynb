{
 "cells": [
  {
   "cell_type": "markdown",
   "id": "f492a714-06e3-4c57-85a4-ed7a9c1cc42c",
   "metadata": {},
   "source": [
    "# Python Threading and ThreadPoolExecutor Demonstration  \r\n",
    "\r\n",
    "**Author:** Praveen Kumar G (22MID0300)  \r\n",
    "**Date:** September 2, 2025  \r\n",
    "\r\n",
    "## Purpose  \r\n",
    "To demonstrate how threading works in Python for I/O-bound tasks.  \r\n",
    "\r\n",
    "- The program starts with sequential execution.  \r\n",
    "- Then it uses manual threading with `start()` and `join()`.  \r\n",
    "- Finally, it introduces **ThreadPoolExecutor** from the `concurrent.futures` module.  \r\n",
    "- Examples show the effect of threading on execution time, including running multiple tasks in parallel and handling different sleep durations.  \r\n"
   ]
  },
  {
   "cell_type": "markdown",
   "id": "dfffda71-bcf5-4c93-b187-08517b0c664b",
   "metadata": {},
   "source": [
    "#  Introduction to Python Threading\n",
    "\n",
    "Threading in Python allows us to achieve **concurrency**, which means running multiple tasks seemingly at the same time.  \n",
    "A **thread** is the smallest unit of execution inside a process, and all threads within a process share the same memory space.  \n",
    "\n",
    "---\n",
    "\n",
    "##  Why Threading?\n",
    "- To perform multiple tasks at once (e.g., downloading files, handling users).  \n",
    "- Best for **I/O-bound tasks** such as file operations, network requests, or database queries.  \n",
    "- Improves efficiency by allowing one thread to run while another waits for I/O.  \n",
    "\n",
    "---\n",
    "\n",
    "##  Key Concepts Before Learning Threading\n",
    "\n",
    "1. **Basic Python Knowledge**\n",
    "   - Functions, classes, and exception handling.  \n",
    "\n",
    "2. **Process vs Thread**\n",
    "   - **Process** → Independent program with its own memory space.  \n",
    "   - **Thread** → Lightweight unit inside a process that shares memory.  \n",
    "\n",
    "3. **Global Interpreter Lock (GIL)**\n",
    "   - In CPython, only one thread runs Python bytecode at a time.  \n",
    "   - Threading is most effective for I/O-bound tasks, not CPU-heavy tasks.  \n",
    "\n",
    "4. **Synchronization**\n",
    "   - Shared data across threads can cause **race conditions**.  \n",
    "   - Use tools like `Lock`, `RLock`, `Semaphore`, `Event`, or `queue.Queue` for safe communication.  \n",
    "\n",
    "5. **Thread Lifecycle**\n",
    "   - Create: `threading.Thread(target=...)`  \n",
    "   - Start: `.start()`  \n",
    "   - Wait: `.join()`  \n",
    "   - Daemon threads → run in background and exit when the main program ends.  \n",
    "\n",
    "---\n",
    "\n",
    "##  Alternatives\n",
    "- **Multiprocessing** → for CPU-bound tasks.  \n",
    "- **Async (asyncio)** → for very large-scale I/O-bound tasks.  \n",
    "\n",
    "---\n",
    "\n"
   ]
  },
  {
   "cell_type": "markdown",
   "id": "1d87ca92-0f63-4445-9caa-5edfd93e233d",
   "metadata": {},
   "source": [
    "##  Example 1: Running a Function Sequentially (Without Threading)\n",
    "\n",
    "In this example, we define a simple function `do_something()` that simulates work by sleeping for 1 second.  \n",
    "We call this function normally (sequential execution). The program measures the total time taken using `time.perf_counter()`.\n",
    "\n",
    "This example helps us understand the baseline execution time before applying threading.\n"
   ]
  },
  {
   "cell_type": "code",
   "execution_count": 6,
   "id": "e466d636-f3d4-43a3-96a0-538115282374",
   "metadata": {},
   "outputs": [
    {
     "name": "stdout",
     "output_type": "stream",
     "text": [
      "Sleeping 1 second...\n",
      "Done Sleeping\n",
      "Finished in 1.0 seconds\n"
     ]
    }
   ],
   "source": [
    "# Import the time module to measure execution time\n",
    "import time\n",
    "\n",
    "# Start a performance counter to measure total time taken\n",
    "start = time.perf_counter()\n",
    "\n",
    "# Define a function that simulates some work by sleeping for 1 second\n",
    "def do_something():\n",
    "    print('Sleeping 1 second...')\n",
    "    time.sleep(1)   # Program waits for 1 second\n",
    "    print('Done Sleeping')\n",
    "\n",
    "# Call the function normally (sequential execution)\n",
    "do_something()\n",
    "\n",
    "# Stop the performance counter\n",
    "finish = time.perf_counter()\n",
    "\n",
    "# Print the total time taken for execution\n",
    "print(f'Finished in {round(finish-start,2)} seconds')\n"
   ]
  },
  {
   "cell_type": "code",
   "execution_count": 8,
   "id": "1f099e04-a4f1-424c-8bbd-5694813fc6c3",
   "metadata": {},
   "outputs": [
    {
     "name": "stdout",
     "output_type": "stream",
     "text": [
      "Sleeping 1 second...\n",
      "Done Sleeping\n",
      "Sleeping 1 second...\n",
      "Done Sleeping\n",
      "Finished in 2.0 seconds\n"
     ]
    }
   ],
   "source": [
    "# We will run the function twice\n",
    "# We use threading when we want to significantly speed up the program, but it depends on the task that you are doing\n",
    "import time\n",
    "\n",
    "start = time.perf_counter() #to find the time the entrire sequecnce takes from here\n",
    "\n",
    "def do_something():\n",
    "    print('Sleeping 1 second...')\n",
    "    time.sleep(1)\n",
    "    print('Done Sleeping')\n",
    "\n",
    "do_something()\n",
    "do_something()\n",
    "\n",
    "finish = time.perf_counter() #to find the time the entrire sequecnce till here\n",
    "\n",
    "\n",
    "print(f'Finished in {round(finish-start,2)} seconds')"
   ]
  },
  {
   "cell_type": "markdown",
   "id": "94df1bc4-f0ee-4536-8471-baaee2890878",
   "metadata": {},
   "source": [
    "#### The function is not doing anything on the CPU, just waiting for a second"
   ]
  },
  {
   "attachments": {
    "c353b37d-4a4d-4c36-9f77-ff74c1c1b5cb.png": {
     "image/png": "[encoded data removed]"
    }
   },
   "cell_type": "markdown",
   "id": "bdc63dd5-8060-435a-87a1-e6046a8ca3a8",
   "metadata": {},
   "source": [
    "![Threading Figure 1.png](attachment:c353b37d-4a4d-4c36-9f77-ff74c1c1b5cb.png)"
   ]
  },
  {
   "cell_type": "markdown",
   "id": "cf0c9f0e-494c-4c58-a2c8-dee62104f55f",
   "metadata": {},
   "source": [
    "#### There are two kinds of tasks - CPU bound (Working on huge datasets) and I/O Bound (Not CPU intensive, just reading and writing data from disk, files, network operations, downloading files etc.,)"
   ]
  },
  {
   "cell_type": "markdown",
   "id": "3c014bdd-ce65-4796-bab2-fbf77d571097",
   "metadata": {},
   "source": [
    "##  Threading vs Multiprocessing in Python\n",
    "\n",
    "- **Threading** is useful mainly for **I/O-bound tasks** (e.g., file read/write, network requests).  \n",
    "- It is **not very beneficial for CPU-bound tasks** (e.g., heavy calculations), because of the **Global Interpreter Lock (GIL)**.  \n",
    "- In fact, threading CPU-heavy tasks can sometimes be a **disadvantage** due to the overhead of creating and destroying threads.  \n",
    "\n",
    "---\n",
    "\n",
    "###  How Threads Work\n",
    "- Threads do not literally run Python code at the same time (because of the GIL).  \n",
    "- Instead, they give the **illusion of parallelism** by switching between tasks:  \n",
    "  - When one thread has to **wait** (e.g., for I/O), the Python interpreter switches to another thread.  \n",
    "  - This makes programs **more efficient for waiting tasks** but not faster for CPU-heavy calculations.  \n",
    "\n",
    "---\n",
    "\n",
    "###  Multiprocessing vs Threading\n",
    "- **Multiprocessing** is better for CPU-bound tasks since it can use **multiple cores** to run in true parallel.  \n",
    "- **Threading** is better for I/O-bound tasks since it allows other tasks to run while waiting for input/output operations.\n"
   ]
  },
  {
   "attachments": {
    "a09526b6-54c8-49a7-ae27-f5bb120a711b.png": {
     "image/png": "[encoded data removed]"
    }
   },
   "cell_type": "markdown",
   "id": "8e8194de-ec2f-427f-a388-9754a66abd39",
   "metadata": {},
   "source": [
    "![Threading (Actual) Figure 2.png](attachment:a09526b6-54c8-49a7-ae27-f5bb120a711b.png)"
   ]
  },
  {
   "cell_type": "markdown",
   "id": "1403cf27-a80b-4941-ac0d-0ccb7ad45a98",
   "metadata": {},
   "source": [
    "##  Thread Behavior in Python\n",
    "\n",
    "When a threaded function starts executing, if it reaches a point where it needs to **wait**  \n",
    "(for example, `time.sleep()` or waiting for I/O), the thread will **pause** and let other threads run.  \n",
    "\n",
    "This creates the **illusion of parallel execution** because while one thread is waiting,  \n",
    "another thread can continue working.\n"
   ]
  },
  {
   "cell_type": "code",
   "execution_count": 14,
   "id": "919fadaf-f0e5-4318-8379-45604be04d7c",
   "metadata": {},
   "outputs": [
    {
     "name": "stdout",
     "output_type": "stream",
     "text": [
      "Sleeping 1 second...\n",
      "Sleeping 1 second...\n",
      "Done Sleeping\n",
      "Done Sleeping\n",
      "Finished in 1.01 seconds\n"
     ]
    }
   ],
   "source": [
    "import threading\n",
    "import time\n",
    "\n",
    "start = time.perf_counter()\n",
    "\n",
    "def do_something():\n",
    "    print('Sleeping 1 second...')\n",
    "    time.sleep(1)   # As soon as this thread starts waiting, Python can switch to another thread\n",
    "    print('Done Sleeping')\n",
    "\n",
    "# Create two threads for the same function\n",
    "t1 = threading.Thread(target=do_something)\n",
    "t2 = threading.Thread(target=do_something)\n",
    "\n",
    "# Start both threads\n",
    "t1.start()\n",
    "t2.start()\n",
    "\n",
    "# Ensure the main program waits for both threads to finish\n",
    "t1.join()\n",
    "t2.join()\n",
    "\n",
    "finish = time.perf_counter()\n",
    "\n",
    "print(f'Finished in {round(finish-start,2)} seconds')\n"
   ]
  },
  {
   "cell_type": "code",
   "execution_count": 16,
   "id": "cbcc62d8-8377-4f07-9ddb-da0a71315cf5",
   "metadata": {},
   "outputs": [
    {
     "name": "stdout",
     "output_type": "stream",
     "text": [
      "Finished in 0.0 seconds\n"
     ]
    }
   ],
   "source": [
    "import threading     #no need to install, its already a part of python package, this is the traditional way of doing threading, more effective ways are done with pools\n",
    "import time\n",
    "\n",
    "start = time.perf_counter() \n",
    "\n",
    "def do_something():\n",
    "    print('Sleeping 1 second...')\n",
    "    time.sleep(1)\n",
    "    print('Done Sleeping')\n",
    "\n",
    "#instead the running the two functions like this, threads are used both of these\n",
    "#do_something()\n",
    "#do_something()\n",
    "\n",
    "t1 = threading.Thread(target = do_something) #do not pass the function with (), as we dont intend to run the function, just pass it\n",
    "t2 = threading.Thread(target = do_something)\n",
    "\n",
    "finish = time.perf_counter() #using to find the time the entrirer sequecnce takes from here\n",
    "\n",
    "\n",
    "print(f'Finished in {round(finish-start,2)} seconds')\n",
    "#If I need to handle thousands of I/O-bound tasks (like network requests), should I prefer threading or async programming in Python, and why?"
   ]
  },
  {
   "cell_type": "markdown",
   "id": "4b512cb3-c276-42a4-a0fe-b4ba8960bde9",
   "metadata": {},
   "source": [
    "##### when you run the above code you can see that it did not run anything\n",
    "##### To get the threads to run, we need to use start methods on these threads"
   ]
  },
  {
   "cell_type": "code",
   "execution_count": 22,
   "id": "6046ccbf-2d87-4fad-84b2-6bd86f605fc3",
   "metadata": {},
   "outputs": [
    {
     "name": "stdout",
     "output_type": "stream",
     "text": [
      "Sleeping 1 second...\n",
      "Sleeping 1 second...\n",
      "Finished in 0.01 seconds\n"
     ]
    }
   ],
   "source": [
    "import threading     #no need to install, its already a part of python package, this is the traditional way of doing threading, more effective ways are done with pools\n",
    "import time\n",
    "\n",
    "start = time.perf_counter() #using to find the time the entrirer sequecnce takes from here\n",
    "\n",
    "def do_something():\n",
    "    print('Sleeping 1 second...')\n",
    "    time.sleep(1)\n",
    "    print('Done Sleeping')\n",
    "\n",
    "#instead the running the two functions like this, threads are used both of these\n",
    "#do_something()\n",
    "#do_something()\n",
    "\n",
    "t1 = threading.Thread(target = do_something) #do not pass the function with (), as we dont intend to run the function, just pass it\n",
    "t2 = threading.Thread(target = do_something)\n",
    "\n",
    "t1.start()\n",
    "t2.start()\n",
    "\n",
    "finish = time.perf_counter() #using to find the time the entrirer sequecnce takes from here\n",
    "\n",
    "\n",
    "print(f'Finished in {round(finish-start,2)} seconds')"
   ]
  },
  {
   "cell_type": "markdown",
   "id": "bd94598a-f6eb-4231-b250-5a2738832b02",
   "metadata": {},
   "source": [
    "## Observation: Threads without `.join()`\n",
    "\n",
    "When we start threads using `t1.start()` and `t2.start()`, the program does **not wait** for them to finish before moving to the next line of code.  \n",
    "\n",
    "- Both threads immediately print **\"Sleeping 1 second...\"**.  \n",
    "- While they are sleeping, the main program calculates the `finish` time and prints something like **\"Finished in 0.0 seconds\"**.  \n",
    "- After ~1 second, both threads complete and print **\"Done Sleeping\"**.  \n",
    "\n",
    "### Why does this happen?\n",
    "Because without `.join()`, the main thread (the program itself) does not wait for child threads to complete.  \n",
    "It simply **moves ahead**, giving the illusion that the program finished instantly, even though background threads are still running.  \n",
    "\n",
    " This is why we use `.join()` — to ensure that the main program waits until all threads have finished before measuring execution time.\n"
   ]
  },
  {
   "cell_type": "markdown",
   "id": "55519817-85e3-4040-9ccc-24d63019b8a7",
   "metadata": {},
   "source": [
    "## Using `.join()` with Threads\n",
    "\n",
    "When we create threads in Python, the main program does not automatically wait for them to finish.  \n",
    "To ensure that all threads complete before moving forward, we use the **`.join()`** method.  \n",
    "\n",
    "- `t1.start()` and `t2.start()` → start both threads.  \n",
    "- `t1.join()` and `t2.join()` → block the main thread until both threads are done.  \n",
    "\n",
    "This way, the `finish` time is measured **after** the threads complete, showing the correct execution time.\n"
   ]
  },
  {
   "cell_type": "code",
   "execution_count": 26,
   "id": "fcd50c0a-6305-4166-aff4-92c65dce1645",
   "metadata": {},
   "outputs": [
    {
     "name": "stdout",
     "output_type": "stream",
     "text": [
      "Sleeping 1 second...\n",
      "Sleeping 1 second...\n",
      "Done Sleeping\n",
      "Done Sleeping\n",
      "Finished in 1.01 seconds\n"
     ]
    }
   ],
   "source": [
    "import threading    \n",
    "import time\n",
    "\n",
    "start = time.perf_counter() \n",
    "def do_something():\n",
    "    print('Sleeping 1 second...')\n",
    "    time.sleep(1)\n",
    "    print('Done Sleeping')\n",
    "\n",
    "#instead the running the two functions like this, threads are used both of these\n",
    "#do_something()\n",
    "#do_something()\n",
    "\n",
    "t1 = threading.Thread(target = do_something) #do not pass the function with (), as we dont intend to run the function, just pass it\n",
    "t2 = threading.Thread(target = do_something)\n",
    "\n",
    "t1.start()\n",
    "t2.start()\n",
    "\n",
    "t1.join()\n",
    "t2.join()\n",
    "\n",
    "finish = time.perf_counter() #using to find the time the entrirer sequecnce takes from here\n",
    "\n",
    "\n",
    "print(f'Finished in {round(finish-start,2)} seconds')"
   ]
  },
  {
   "cell_type": "markdown",
   "id": "3d8d7783-3f4d-446b-a696-54d644691e77",
   "metadata": {},
   "source": [
    "## The threads started almost at the same time and were done in a second and printed\n",
    "\n",
    "## Observation  \n",
    "when it took 2 seconds before, with threading, it took 1 second, might seem insignificant, but when big time slots are required, threading is useful\n",
    "\n",
    "## Extension: Using `ThreadPoolExecutor`\n",
    "\n",
    "Manually starting and joining threads works fine for a few threads,  \n",
    "but if we want to handle many tasks (like 10, 50, or 100), it becomes repetitive.  \n",
    "\n",
    "Instead, Python provides the **`ThreadPoolExecutor`** (from `concurrent.futures`),  \n",
    "which makes managing multiple threads easier.\n"
   ]
  },
  {
   "cell_type": "code",
   "execution_count": 30,
   "id": "556a3b35-2643-4a93-a52d-259b510074b7",
   "metadata": {},
   "outputs": [
    {
     "name": "stdout",
     "output_type": "stream",
     "text": [
      "Sleeping 1 second...\n",
      "Sleeping 1 second...\n",
      "Sleeping 1 second...\n",
      "Sleeping 1 second...\n",
      "Sleeping 1 second...\n",
      "Sleeping 1 second...\n",
      "Sleeping 1 second...\n",
      "Sleeping 1 second...\n",
      "Sleeping 1 second...\n",
      "Sleeping 1 second...\n",
      "Finished in 0.01 seconds\n"
     ]
    }
   ],
   "source": [
    "import threading     #no need to install, its already a part of python package, this is the traditional way of doing threading, more effective ways are done with pools\n",
    "import time\n",
    "\n",
    "start = time.perf_counter() #using to find the time the entrirer sequecnce takes from here\n",
    "\n",
    "def do_something():\n",
    "    print('Sleeping 1 second...')\n",
    "    time.sleep(1)\n",
    "    print('Done Sleeping')\n",
    "\n",
    "for _ in range(10):      # underscore variable is a throwaway variable to simply loop for 10 times and we are not doing anything else with it in the loop\n",
    "    t = threading.Thread(target = do_something)\n",
    "    t.start()            # We cant use join() within the loop as it will join on the thread before looping through, creating and starting the next thread, it becomes like synchronous execution as shown in the first diagram\n",
    "                         # To do this we can create a list of threads and perform join()\n",
    "\n",
    "\n",
    "finish = time.perf_counter() #using to find the time the entrirer sequecnce takes from here\n",
    "\n",
    "\n",
    "print(f'Finished in {round(finish-start,2)} seconds')"
   ]
  },
  {
   "cell_type": "code",
   "execution_count": 34,
   "id": "38f3fc88-3224-4ad9-b87a-651f983b1c3d",
   "metadata": {},
   "outputs": [
    {
     "name": "stdout",
     "output_type": "stream",
     "text": [
      "Sleeping 1 second...\n",
      "Sleeping 1 second...\n",
      "Sleeping 1 second...\n",
      "Sleeping 1 second...\n",
      "Sleeping 1 second...\n",
      "Sleeping 1 second...\n",
      "Sleeping 1 second...\n",
      "Sleeping 1 second...\n",
      "Sleeping 1 second...\n",
      "Sleeping 1 second...\n",
      "Done Sleeping\n",
      "Done Sleeping\n",
      "Done Sleeping\n",
      "Done Sleeping\n",
      "Done Sleeping\n",
      "Done Sleeping\n",
      "Done Sleeping\n",
      "Done Sleeping\n",
      "Done Sleeping\n",
      "Done Sleeping\n",
      "Finished in 1.01 seconds\n"
     ]
    }
   ],
   "source": [
    "# Threading effect with 10 calls\n",
    "\n",
    "import threading    # threading module for creating and managing threads\n",
    "import time         # time module to simulate waiting (sleep) and measure execution time\n",
    "\n",
    "start = time.perf_counter()   # record the start time of execution\n",
    "\n",
    "# Function to simulate an I/O-bound task (sleep for 1 second)\n",
    "def do_something():\n",
    "    print('Sleeping 1 second...')\n",
    "    time.sleep(1)   # simulate blocking operation\n",
    "    print('Done Sleeping')\n",
    "\n",
    "threads = []   # list to keep track of all threads\n",
    "    \n",
    "# Create and start 10 threads\n",
    "for _ in range(10):     \n",
    "    t = threading.Thread(target=do_something)   # create a new thread\n",
    "    t.start()                                   # start the thread\n",
    "    threads.append(t)                           # store thread reference for later\n",
    "\n",
    "# Ensure all threads complete before moving ahead\n",
    "for thread in threads:\n",
    "    thread.join()   # wait for each thread to finish\n",
    "\n",
    "finish = time.perf_counter()   # record the end time\n",
    "\n",
    "# Print total execution time\n",
    "print(f'Finished in {round(finish-start, 2)} seconds')\n"
   ]
  },
  {
   "cell_type": "code",
   "execution_count": 36,
   "id": "e61501b3-6c0d-4053-943c-b3d566956db9",
   "metadata": {},
   "outputs": [
    {
     "name": "stdout",
     "output_type": "stream",
     "text": [
      "Sleeping 1 second...\n",
      "Sleeping 1 second...\n",
      "Sleeping 1 second...\n",
      "Sleeping 1 second...\n",
      "Sleeping 1 second...\n",
      "Sleeping 1 second...\n",
      "Sleeping 1 second...\n",
      "Sleeping 1 second...\n",
      "Sleeping 1 second...\n",
      "Sleeping 1 second...\n",
      "Done Sleeping\n",
      "Done Sleeping\n",
      "Done Sleeping\n",
      "Done Sleeping\n",
      "Done Sleeping\n",
      "Done Sleeping\n",
      "Done Sleeping\n",
      "Done Sleeping\n",
      "Done Sleeping\n",
      "Done Sleeping\n",
      "Finished in 1.01 seconds\n"
     ]
    }
   ],
   "source": [
    "# Threading effect with 10 calls\n",
    "import threading    \n",
    "import time\n",
    "\n",
    "start = time.perf_counter()   # record the start time\n",
    "\n",
    "def do_something():\n",
    "    # Function that simulates an I/O-bound task\n",
    "    print('Sleeping 1 second...')\n",
    "    time.sleep(1)   # simulate blocking operation (like file I/O or network delay)\n",
    "    print('Done Sleeping')\n",
    "\n",
    "threads = []   # list to keep track of all created threads\n",
    "    \n",
    "# Create and start 10 threads\n",
    "for _ in range(10):     \n",
    "    t = threading.Thread(target=do_something)   # create a new thread\n",
    "    t.start()   # start the thread (runs do_something in parallel)\n",
    "    threads.append(t)   # keep track of the thread\n",
    "\n",
    "# Ensure all threads complete before moving ahead\n",
    "for thread in threads:\n",
    "    thread.join()    # block until each thread finishes\n",
    "\n",
    "finish = time.perf_counter()   # record the end time\n",
    "\n",
    "# Print the total time taken\n",
    "print(f'Finished in {round(finish-start,2)} seconds')\n"
   ]
  },
  {
   "cell_type": "markdown",
   "id": "0e724d0b-6899-426f-a4b5-1bb4eef13330",
   "metadata": {},
   "source": [
    "## ThreadPoolExecutor (Python 3.2+)\n",
    "\n",
    "So far, we created and managed threads manually using `threading.Thread()`.  \n",
    "While this works, it becomes **repetitive** when we need to create many threads.  \n",
    "\n",
    "Python 3.2 introduced the **`ThreadPoolExecutor`** inside the `concurrent.futures` module.  \n",
    "- It allows us to easily manage a pool of worker threads.  \n",
    "- We don’t have to manually call `start()` and `join()` for each thread.  \n",
    "- It also makes switching between **threading** and **multiprocessing** easier (by using `ProcessPoolExecutor`).  \n",
    "\n",
    "This approach is **cleaner, scalable, and less error-prone** compared to manual threading.\n"
   ]
  },
  {
   "cell_type": "code",
   "execution_count": 39,
   "id": "a8dbb93f-e582-4caf-ac49-56e5613b38ab",
   "metadata": {},
   "outputs": [
    {
     "name": "stdout",
     "output_type": "stream",
     "text": [
      "Sleeping 1 second(s)...\n",
      "Done Sleeping...\n",
      "Finished in 1.01 seconds\n"
     ]
    }
   ],
   "source": [
    "import concurrent.futures   # module for high-level threading/multiprocessing\n",
    "# import threading    - Not required when using ThreadPoolExecutor\n",
    "import time\n",
    "\n",
    "start = time.perf_counter()   # record the start time\n",
    "\n",
    "def do_something(seconds):                    \n",
    "    # Function that simulates an I/O-bound task\n",
    "    print(f'Sleeping {seconds} second(s)...') \n",
    "    time.sleep(seconds)   # block for given seconds\n",
    "    #print('Done Sleeping')   # optional direct print, not needed if we return\n",
    "    return 'Done Sleeping...'   # return message to the future object\n",
    "\n",
    "# Use ThreadPoolExecutor to manage threads\n",
    "with concurrent.futures.ThreadPoolExecutor() as executor:\n",
    "    # submit() schedules the function to run in a separate thread\n",
    "    # It returns a Future object (a placeholder for the result)\n",
    "    f1 = executor.submit(do_something, 1)  \n",
    "    print(f1.result())   # .result() waits for the function to complete and gets the return value\n",
    "\n",
    "finish = time.perf_counter()   # record the end time\n",
    "\n",
    "# Print total execution time\n",
    "print(f'Finished in {round(finish-start,2)} seconds')\n"
   ]
  },
  {
   "cell_type": "code",
   "execution_count": 31,
   "id": "153e7d9f-1079-4138-b9f1-1600437b3057",
   "metadata": {},
   "outputs": [],
   "source": [
    "# Running the above code multiple times\n",
    "# submit will have to be run multiple times"
   ]
  },
  {
   "cell_type": "code",
   "execution_count": 41,
   "id": "c1ce19db-4ecc-49ef-9224-fe1ee5e3bd9a",
   "metadata": {},
   "outputs": [
    {
     "name": "stdout",
     "output_type": "stream",
     "text": [
      "Sleeping 1 second(s)...\n",
      "Sleeping 1 second(s)...\n",
      "Done Sleeping...\n",
      "Done Sleeping...\n",
      "Finished in 1.01 seconds\n"
     ]
    }
   ],
   "source": [
    "import concurrent.futures   # high-level API for threading/multiprocessing\n",
    "# import threading    - Not required\n",
    "import time\n",
    "\n",
    "start = time.perf_counter()   # record the start time\n",
    "\n",
    "def do_something(seconds):                    \n",
    "    # Function simulating an I/O-bound task\n",
    "    print(f'Sleeping {seconds} second(s)...') \n",
    "    time.sleep(seconds)   # block for given seconds\n",
    "    #print('Done Sleeping')   # optional, since we return instead\n",
    "    return 'Done Sleeping...'   # returned result captured by Future object\n",
    "\n",
    "with concurrent.futures.ThreadPoolExecutor() as executor:\n",
    "    # Submit the same task twice (each runs in a separate thread)\n",
    "    # Each submit returns a Future object\n",
    "    f1 = executor.submit(do_something, 1)  \n",
    "    f2 = executor.submit(do_something, 1)\n",
    "    \n",
    "    # Calling .result() waits for the thread to finish and retrieves its return value\n",
    "    print(f1.result())\n",
    "    print(f2.result())\n",
    "\n",
    "finish = time.perf_counter()   # record the end time\n",
    "\n",
    "# Print total execution time\n",
    "print(f'Finished in {round(finish-start,2)} seconds')\n"
   ]
  },
  {
   "cell_type": "code",
   "execution_count": 43,
   "id": "e54c7d43-7f33-4a1c-b3f0-522498a0b269",
   "metadata": {},
   "outputs": [
    {
     "name": "stdout",
     "output_type": "stream",
     "text": [
      "Sleeping 1 second(s)...\n",
      "Sleeping 1 second(s)...\n",
      "Sleeping 1 second(s)...\n",
      "Sleeping 1 second(s)...\n",
      "Sleeping 1 second(s)...\n",
      "Sleeping 1 second(s)...\n",
      "Sleeping 1 second(s)...\n",
      "Sleeping 1 second(s)...\n",
      "Sleeping 1 second(s)...\n",
      "Sleeping 1 second(s)...\n",
      "Done Sleeping...\n",
      "Done Sleeping...\n",
      "Done Sleeping...\n",
      "Done Sleeping...\n",
      "Done Sleeping...\n",
      "Done Sleeping...\n",
      "Done Sleeping...\n",
      "Done Sleeping...\n",
      "Done Sleeping...\n",
      "Done Sleeping...\n",
      "Finished in 1.02 seconds\n"
     ]
    }
   ],
   "source": [
    "import concurrent.futures   # for ThreadPoolExecutor\n",
    "import time\n",
    "\n",
    "start = time.perf_counter()   # record the start time\n",
    "\n",
    "def do_something(seconds):                    \n",
    "    # Function that simulates an I/O-bound task\n",
    "    print(f'Sleeping {seconds} second(s)...') \n",
    "    time.sleep(seconds)   # block for given seconds\n",
    "    return 'Done Sleeping...'   # returned result captured by Future object\n",
    "\n",
    "with concurrent.futures.ThreadPoolExecutor() as executor:\n",
    "    # Submit the same function 10 times using list comprehension\n",
    "    # Each submit returns a Future object stored in the list\n",
    "    results = [executor.submit(do_something, 1) for _ in range(10)] \n",
    "\n",
    "    # as_completed() yields futures as they finish (not in order of submission)\n",
    "    for f in concurrent.futures.as_completed(results):\n",
    "        print(f.result())   # get result of each thread when done\n",
    "\n",
    "finish = time.perf_counter()   # record the end time\n",
    "\n",
    "# Print total time taken\n",
    "print(f'Finished in {round(finish-start,2)} seconds')\n"
   ]
  },
  {
   "cell_type": "code",
   "execution_count": 45,
   "id": "d3afb000-fb48-4479-9b56-17de0c3057bd",
   "metadata": {},
   "outputs": [
    {
     "name": "stdout",
     "output_type": "stream",
     "text": [
      "Sleeping 5 second(s)...\n",
      "Sleeping 4 second(s)...\n",
      "Sleeping 3 second(s)...\n",
      "Sleeping 2 second(s)...\n",
      "Sleeping 1 second(s)...\n",
      "Done Sleeping...1\n",
      "Done Sleeping...2\n",
      "Done Sleeping...3\n",
      "Done Sleeping...4\n",
      "Done Sleeping...5\n",
      "Finished in 5.01 seconds\n"
     ]
    }
   ],
   "source": [
    "import concurrent.futures   # for ThreadPoolExecutor\n",
    "import time\n",
    "\n",
    "start = time.perf_counter()   # record the start time\n",
    "\n",
    "def do_something(seconds):                    \n",
    "    # Function simulating an I/O-bound task with variable sleep time\n",
    "    print(f'Sleeping {seconds} second(s)...') \n",
    "    time.sleep(seconds)   # block for 'seconds' time\n",
    "    return f'Done Sleeping...{seconds}'   # return message with sleep duration\n",
    "\n",
    "with concurrent.futures.ThreadPoolExecutor() as executor:\n",
    "    s = [5,4,3,2,1]   # different sleeping times for threads\n",
    "    \n",
    "    # Submit tasks with different sleep times\n",
    "    # Each submit returns a Future object\n",
    "    results = [executor.submit(do_something, sec) for sec in s] \n",
    "    \n",
    "    # as_completed() yields results as soon as each thread finishes\n",
    "    for f in concurrent.futures.as_completed(results):\n",
    "        print(f.result())   # print the result in order of completion (not submission)\n",
    "\n",
    "finish = time.perf_counter()   # record the end time\n",
    "\n",
    "# Print total time taken\n",
    "print(f'Finished in {round(finish-start,2)} seconds')\n"
   ]
  }
 ],
 "metadata": {
  "kernelspec": {
   "display_name": "Python 3 (ipykernel)",
   "language": "python",
   "name": "python3"
  },
  "language_info": {
   "codemirror_mode": {
    "name": "ipython",
    "version": 3
   },
   "file_extension": ".py",
   "mimetype": "text/x-python",
   "name": "python",
   "nbconvert_exporter": "python",
   "pygments_lexer": "ipython3",
   "version": "3.12.4"
  }
 },
 "nbformat": 4,
 "nbformat_minor": 5
}
