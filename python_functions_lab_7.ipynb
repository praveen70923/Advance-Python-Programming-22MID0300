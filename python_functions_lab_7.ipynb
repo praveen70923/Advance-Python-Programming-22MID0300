{
 "cells": [
  {
   "cell_type": "code",
   "execution_count": 3,
   "id": "3b0fbcdd-5f3d-443a-8ae5-ebbdfb740977",
   "metadata": {},
   "outputs": [
    {
     "data": {
      "text/plain": [
       "'Author: Praveen Kumar G (22MID0300)\\nDate: August 2, 2025\\nPurpose:\\n    This lab explores various aspects of Python functions including argument types (positional, keyword, default),\\n    return values, optional arguments, working with lists, arbitrary arguments, and importing from modules.'"
      ]
     },
     "execution_count": 3,
     "metadata": {},
     "output_type": "execute_result"
    }
   ],
   "source": [
    "\"\"\"Author: Praveen Kumar G (22MID0300)\n",
    "Date: August 2, 2025\n",
    "Purpose:\n",
    "    This lab explores various aspects of Python functions including argument types (positional, keyword, default),\n",
    "    return values, optional arguments, working with lists, arbitrary arguments, and importing from modules.\"\"\""
   ]
  },
  {
   "cell_type": "markdown",
   "id": "29b9f60a-6e06-4aa8-99f8-c5b22264799b",
   "metadata": {},
   "source": [
    "### 1. Passing Arguments - Positional Arguments, Keyword Arguments"
   ]
  },
  {
   "cell_type": "code",
   "execution_count": 7,
   "id": "59e68d90-2467-453d-b7cb-62a8c8b6e8d8",
   "metadata": {},
   "outputs": [
    {
     "name": "stdout",
     "output_type": "stream",
     "text": [
      "\n",
      "I have a dog.\n",
      "My dog's name is Bruno.\n",
      "\n",
      "I have a dog.\n",
      "My dog's name is Bruno.\n"
     ]
    }
   ],
   "source": [
    "def describe_pet(animal_type, pet_name):\n",
    "    print(f\"\\nI have a {animal_type}.\")\n",
    "    print(f\"My {animal_type}'s name is {pet_name.title()}.\")\n",
    "# Positional Arguments – order matters\n",
    "describe_pet('dog', 'bruno')\n",
    "\n",
    "# Keyword Arguments – order doesn't matter\n",
    "describe_pet(pet_name='bruno', animal_type='dog')\n"
   ]
  },
  {
   "cell_type": "markdown",
   "id": "0415b45b-4331-4d02-ba4c-5942d1e8e5f3",
   "metadata": {},
   "source": [
    "### 2. Multiple Function Calls"
   ]
  },
  {
   "cell_type": "code",
   "execution_count": 10,
   "id": "d980eae7-de96-41c8-b651-4a3fc546b5f4",
   "metadata": {},
   "outputs": [
    {
     "name": "stdout",
     "output_type": "stream",
     "text": [
      "\n",
      "I have a cat.\n",
      "My cat's name is Tom.\n",
      "\n",
      "I have a rabbit.\n",
      "My rabbit's name is Snowy.\n"
     ]
    }
   ],
   "source": [
    "describe_pet('cat', 'tom')\n",
    "describe_pet('rabbit', 'snowy')"
   ]
  },
  {
   "cell_type": "markdown",
   "id": "dcf8db96-15c9-4065-8660-19912f8156a5",
   "metadata": {},
   "source": [
    "### 3. Order Matters in Positional Arguments"
   ]
  },
  {
   "cell_type": "code",
   "execution_count": 17,
   "id": "bf4f5431-5eb0-4904-9049-72ce1362506b",
   "metadata": {},
   "outputs": [
    {
     "name": "stdout",
     "output_type": "stream",
     "text": [
      "\n",
      " I have a pet Harry.\n",
      "My Harry's name is Hamster.\n"
     ]
    }
   ],
   "source": [
    "#what if we change the order ?\n",
    "def describe_pet(animal_type, pet_name): #defining a function\n",
    "    \"\"\"Display information about a pet\"\"\"\n",
    "    print(f\"\\n I have a pet {animal_type}.\") \n",
    "    print(f\"My {animal_type}'s name is {pet_name.title()}.\")\n",
    "\n",
    "describe_pet(\"Harry\",\"Hamster\")  # function call"
   ]
  },
  {
   "cell_type": "markdown",
   "id": "e5ac7f43-6a60-4fdd-8b6a-1a35a81fb604",
   "metadata": {},
   "source": [
    "### 4. Keyword Arguments"
   ]
  },
  {
   "cell_type": "code",
   "execution_count": 20,
   "id": "96af0775-63ea-49d8-a0cc-4985528c89e5",
   "metadata": {},
   "outputs": [
    {
     "name": "stdout",
     "output_type": "stream",
     "text": [
      "\n",
      " I have a pet Hamster.\n",
      "My Hamster's name is Harry.\n"
     ]
    }
   ],
   "source": [
    "def describe_pet(animal_type, pet_name): #function definition\n",
    "    \"\"\"Display information about a pet\"\"\"\n",
    "    print(f\"\\n I have a pet {animal_type}.\") \n",
    "    print(f\"My {animal_type}'s name is {pet_name.title()}.\")\n",
    "\n",
    "describe_pet(animal_type = \"Hamster\",pet_name = \"Harry\") # function call (using keyword arguments)"
   ]
  },
  {
   "cell_type": "markdown",
   "id": "7ca11788-f676-4fdb-9db3-b5adce32645a",
   "metadata": {},
   "source": [
    "### 5. Default Values"
   ]
  },
  {
   "cell_type": "code",
   "execution_count": 23,
   "id": "631ee18a-bbec-4d3e-9d9f-bc62e1fb160f",
   "metadata": {},
   "outputs": [
    {
     "name": "stdout",
     "output_type": "stream",
     "text": [
      "\n",
      " I have a pet dog.\n",
      "My dog's name is Bruno.\n"
     ]
    }
   ],
   "source": [
    "def describe_pet(pet_name, animal_type = \"dog\"): #function defition\n",
    "    \"\"\"Display information about a pet\"\"\"\n",
    "    print(f\"\\n I have a pet {animal_type}.\")\n",
    "    print(f\"My {animal_type}'s name is {pet_name.title()}.\")\n",
    "\n",
    "describe_pet(pet_name = \"Bruno\") # function call ( calling default value)"
   ]
  },
  {
   "cell_type": "markdown",
   "id": "2f85a753-af15-45b1-9837-bfdf1e884ffc",
   "metadata": {},
   "source": [
    "### 6. Many Ways to Call a Function"
   ]
  },
  {
   "cell_type": "code",
   "execution_count": 27,
   "id": "2f20c4f0-6a03-435c-8ff2-19ae26560c91",
   "metadata": {},
   "outputs": [
    {
     "name": "stdout",
     "output_type": "stream",
     "text": [
      "\n",
      " I have a pet dog.\n",
      "My dog's name is Bruno.\n",
      "\n",
      " I have a pet dog.\n",
      "My dog's name is Bruno.\n",
      "\n",
      " I have a pet hamster.\n",
      "My hamster's name is Harry.\n",
      "\n",
      " I have a pet hamster.\n",
      "My hamster's name is Harry.\n",
      "\n",
      " I have a pet hamster.\n",
      "My hamster's name is Harry.\n"
     ]
    }
   ],
   "source": [
    "# Positional argument with default animal_type='dog'\n",
    "describe_pet('bruno')\n",
    "\n",
    "# Keyword argument\n",
    "describe_pet(pet_name='bruno')\n",
    "\n",
    "# Both positional\n",
    "describe_pet('harry', 'hamster')\n",
    "\n",
    "# Both keyword\n",
    "describe_pet(pet_name='harry', animal_type='hamster')\n",
    "\n",
    "# Keyword – order reversed (still works)\n",
    "describe_pet(animal_type='hamster', pet_name='harry')\n"
   ]
  },
  {
   "cell_type": "markdown",
   "id": "a0d4c11d-a050-42b9-a85d-8264c4fbb0b3",
   "metadata": {},
   "source": [
    "### 7. Returning a simple value"
   ]
  },
  {
   "cell_type": "code",
   "execution_count": 32,
   "id": "9cc278af-3a89-4929-9689-602012049324",
   "metadata": {},
   "outputs": [
    {
     "name": "stdout",
     "output_type": "stream",
     "text": [
      "Praveen Kumar\n"
     ]
    }
   ],
   "source": [
    "def get_full_name(first, last):\n",
    "    return f\"{first.title()} {last.title()}\"\n",
    "full_name = get_full_name('praveen', 'kumar')\n",
    "print(full_name)\n"
   ]
  },
  {
   "cell_type": "markdown",
   "id": "9f71c8fc-9833-44d4-9267-486f7a4fef34",
   "metadata": {},
   "source": [
    "### 8. Making an Argument Optional"
   ]
  },
  {
   "cell_type": "code",
   "execution_count": 37,
   "id": "b990efe1-4402-47c7-b591-3ad860ec6c65",
   "metadata": {},
   "outputs": [
    {
     "name": "stdout",
     "output_type": "stream",
     "text": [
      "Praveen G Kumar\n",
      "Praveen Kumar\n"
     ]
    }
   ],
   "source": [
    "#Optional arguments always come after required ones in a function definition.\n",
    "def get_formatted_name(first_name, last_name, middle_name=''): #defining a function with optional arguments\n",
    "    \"\"\"Return a full name, neatly formatted.\"\"\"\n",
    "    if middle_name:\n",
    "        full_name = f\"{first_name} {middle_name} {last_name}\" #using format string to make a name\n",
    "    else:\n",
    "        full_name = f\"{first_name} {last_name}\"\n",
    "    return full_name.title() #returning name as value\n",
    "\n",
    "#function call\n",
    "musician1 = get_formatted_name('praveen', 'kumar', 'G') #with middle name\n",
    "print(musician1) \n",
    "\n",
    "musician2 = get_formatted_name('praveen', 'kumar') #without middle name\n",
    "print(musician2)"
   ]
  },
  {
   "cell_type": "markdown",
   "id": "6a4fd939-a878-4c23-82a6-51e183a2e5ff",
   "metadata": {},
   "source": [
    "### 9. Returning a dictionary"
   ]
  },
  {
   "cell_type": "code",
   "execution_count": 40,
   "id": "1ef463d7-d093-4f77-83ce-40ec4d96c4f9",
   "metadata": {},
   "outputs": [
    {
     "name": "stdout",
     "output_type": "stream",
     "text": [
      "{'first_name': 'Praveen', 'last_name': 'Kumar G', 'full_name': 'Praveen Kumar G'}\n"
     ]
    }
   ],
   "source": [
    "# Function to return a dictionary with formatted full name, first name, and last name\n",
    "def get_formatted_name(first_name, last_name):  # Function definition with parameters\n",
    "    \"\"\"Return a dictionary with full name, first name, and last name, neatly formatted\"\"\"\n",
    "    \n",
    "    # Combining first and last name into a full name, formatted with title case\n",
    "    full_name = f\"{first_name} {last_name}\".title()\n",
    "    \n",
    "    # Returning a dictionary with individual and full names\n",
    "    return {\n",
    "        'first_name': first_name.title(),   # Capitalizing first name\n",
    "        'last_name': last_name.title(),     # Capitalizing last name\n",
    "        'full_name': full_name              # Storing the full name\n",
    "    }\n",
    "\n",
    "# Calling the function with your name as arguments\n",
    "student = get_formatted_name('praveen', 'kumar g')\n",
    "\n",
    "# Displaying the returned dictionary\n",
    "print(student)\n"
   ]
  },
  {
   "cell_type": "markdown",
   "id": "481ea311-1395-4609-83fa-d2d02408cfe9",
   "metadata": {},
   "source": [
    "### 10. Passing a list"
   ]
  },
  {
   "cell_type": "code",
   "execution_count": 43,
   "id": "e9c618e5-5b91-4ba8-8405-863e032f17cc",
   "metadata": {},
   "outputs": [
    {
     "name": "stdout",
     "output_type": "stream",
     "text": [
      "Hello, praveen\n",
      "Hello, gaurav\n",
      "Hello, krishna\n",
      "Hello, raja\n"
     ]
    }
   ],
   "source": [
    "def greet_user(names): #function defition\n",
    "    # printing a list of elements\n",
    "    for name in names:\n",
    "        msg = f\"Hello, {name}\"\n",
    "        print(msg)\n",
    "\n",
    "names = ['praveen','gaurav','krishna','raja'] #list of names\n",
    "greet_user(names)"
   ]
  },
  {
   "cell_type": "markdown",
   "id": "5d07e94e-3930-4963-8073-d63c2ceebb5a",
   "metadata": {},
   "source": [
    "### 11. Modifying a list"
   ]
  },
  {
   "cell_type": "code",
   "execution_count": 46,
   "id": "82cb6714-20ea-448d-9dab-b89b435bd126",
   "metadata": {},
   "outputs": [
    {
     "name": "stdout",
     "output_type": "stream",
     "text": [
      "['apple', 'blueberry', 'cherry']\n"
     ]
    }
   ],
   "source": [
    "fruits = ['apple', 'banana', 'cherry'] #lists\n",
    "fruits[1] = 'blueberry' #modifying the elements through index\n",
    "print(fruits) \n"
   ]
  },
  {
   "cell_type": "markdown",
   "id": "5edb8eff-7c40-4e02-9aae-ac51eb68d6d4",
   "metadata": {},
   "source": [
    "### 12. Protecting a list from updates"
   ]
  },
  {
   "cell_type": "code",
   "execution_count": 49,
   "id": "f42ba31b-3b12-4bf0-a63c-320f3c9e7a4e",
   "metadata": {},
   "outputs": [
    {
     "name": "stdout",
     "output_type": "stream",
     "text": [
      "('red', 'green', 'blue')\n"
     ]
    }
   ],
   "source": [
    "#1 Changing a list into tuple\n",
    "colors = ['red', 'green', 'blue']  # Tuple instead of list\n",
    "my_tuple = tuple(colors)\n",
    "\n",
    "print(my_tuple)\n"
   ]
  },
  {
   "cell_type": "markdown",
   "id": "7df90139-b4a4-47ec-8cf6-c317c1e7d925",
   "metadata": {},
   "source": [
    "### 13. Passing Arbitrary Number of Arguments"
   ]
  },
  {
   "cell_type": "code",
   "execution_count": 52,
   "id": "56d70ab6-0aa2-4d8c-9f4a-fa19eca6ef85",
   "metadata": {},
   "outputs": [
    {
     "name": "stdout",
     "output_type": "stream",
     "text": [
      "['a', 'b', 'c']\n",
      "['a', 'b', 'c', 'd']\n"
     ]
    }
   ],
   "source": [
    "#2 Return a Copy of the List (not the original)\n",
    "def get_items_copy(items):\n",
    "    return items[:]  # or list(items)\n",
    "\n",
    "original = ['a', 'b', 'c']\n",
    "copy = get_items_copy(original) # this allows us to protect the original list\n",
    "copy.append('d')\n",
    "\n",
    "print(original)  # ['a', 'b', 'c']\n",
    "print(copy)      # ['a', 'b', 'c', 'd']\n"
   ]
  },
  {
   "cell_type": "markdown",
   "id": "66dabfde-1fea-488a-a664-b31da4d859b8",
   "metadata": {},
   "source": [
    "### 13. Mixing Positional and Arbitrary Arguments"
   ]
  },
  {
   "cell_type": "code",
   "execution_count": 55,
   "id": "5c6a0747-caed-48fb-8974-b159f34cfcb3",
   "metadata": {},
   "outputs": [
    {
     "name": "stdout",
     "output_type": "stream",
     "text": [
      "('pepperoni',)\n",
      "('pepperoni', 'mushrooms', 'green pepper', 'extra cheese')\n"
     ]
    }
   ],
   "source": [
    "def make_pizza(*toppings): #sequence unpacking \n",
    "    # printing n number of arguments\n",
    "    print(toppings)\n",
    "    \n",
    "make_pizza(\"pepperoni\") #function call with single argument\n",
    "make_pizza(\"pepperoni\",\"mushrooms\", \"green pepper\",\"extra cheese\") #function call with multiple arguments"
   ]
  },
  {
   "cell_type": "markdown",
   "id": "bab3a0a4-0219-4ec2-9651-ae7b50c4f1a5",
   "metadata": {},
   "source": [
    "### 14. Mixing Positional and Arbitrary Arguments"
   ]
  },
  {
   "cell_type": "code",
   "execution_count": 60,
   "id": "5330e784-2df2-4a03-b299-b8ab7c10322f",
   "metadata": {},
   "outputs": [
    {
     "name": "stdout",
     "output_type": "stream",
     "text": [
      "\n",
      "Making a 16-inch pizza with the following toppings:\n",
      " - pepperoni\n",
      "\n",
      "Making a 22-inch pizza with the following toppings:\n",
      " - pepperoni\n",
      " - mushrooms\n",
      " - green pepper\n",
      " - extra cheese\n"
     ]
    }
   ],
   "source": [
    "# Function to demonstrate positional argument and sequence unpacking using *args\n",
    "def make_pizza(size, *toppings):  # 'size' is positional, '*toppings' collects extra args as a tuple\n",
    "    print(f\"\\nMaking a {size}-inch pizza with the following toppings:\")\n",
    "\n",
    "    # Looping through each topping and printing it\n",
    "    for topping in toppings:\n",
    "        print(f\" - {topping}\")  # clean individual topping print\n",
    "\n",
    "# Function call with one topping (positional + *args)\n",
    "make_pizza(16, \"pepperoni\")\n",
    "\n",
    "# Function call with multiple toppings (sequence unpacking)\n",
    "make_pizza(22, \"pepperoni\", \"mushrooms\", \"green pepper\", \"extra cheese\")\n"
   ]
  },
  {
   "cell_type": "markdown",
   "id": "368d593f-29bc-4567-8cd4-128b34c5aaec",
   "metadata": {},
   "source": [
    "### 15. Using Arbitrary Keyword Arguments"
   ]
  },
  {
   "cell_type": "code",
   "execution_count": 63,
   "id": "491a0d02-aa56-4194-a649-16cd47fbaac7",
   "metadata": {},
   "outputs": [
    {
     "name": "stdout",
     "output_type": "stream",
     "text": [
      "{'location': 'vellore', 'field': 'data science', 'college': 'VIT', 'first_name': 'Praveen', 'last_name': 'Kumar'}\n"
     ]
    }
   ],
   "source": [
    "# Function to build a user profile using dictionary unpacking (**kwargs)\n",
    "def build_profile(first, last, **user_info):  # 'first' and 'last' are positional, '**user_info' captures extra keyword arguments\n",
    "    \"\"\"\n",
    "    Return a dictionary containing user profile info.\n",
    "    Combines positional arguments with arbitrary keyword arguments.\n",
    "    \"\"\"\n",
    "    user_info['first_name'] = first.title()   # Add first name to the dictionary\n",
    "    user_info['last_name'] = last.title()     # Add last name to the dictionary\n",
    "    return user_info  # Return the complete profile dictionary\n",
    "\n",
    "# Calling the function with additional keyword arguments\n",
    "user_profile = build_profile(\n",
    "    'praveen', \n",
    "    'kumar', \n",
    "    location='vellore', \n",
    "    field='data science',\n",
    "    college='VIT'\n",
    ")\n",
    "\n",
    "# Display the returned dictionary\n",
    "print(user_profile)\n"
   ]
  },
  {
   "cell_type": "code",
   "execution_count": 78,
   "id": "de9d9e8a-30f5-479d-9bf1-81bca6ce33ae",
   "metadata": {},
   "outputs": [
    {
     "name": "stdout",
     "output_type": "stream",
     "text": [
      "Hello, Kumar! Welcome to the module demo.\n",
      "\n",
      "I have a parrot.\n",
      "My parrot's name is Tweety.\n",
      "\n",
      "Making a 16-inch pizza with the following toppings:\n",
      "- Capsicum\n",
      "- Corn\n"
     ]
    }
   ],
   "source": [
    "# Importing the entire module\n",
    "import my_module\n",
    "\n",
    "my_module.greet_user(\"kumar\")\n",
    "my_module.describe_pet(\"tweety\", \"parrot\")\n",
    "my_module.make_pizza(16, \"capsicum\", \"corn\")\n"
   ]
  },
  {
   "cell_type": "markdown",
   "id": "63a1ef60-15bd-4771-9d7d-0b5d97c0ebf6",
   "metadata": {},
   "source": [
    "### 16. Storing your function in modules"
   ]
  },
  {
   "cell_type": "code",
   "execution_count": 66,
   "id": "0e6a311f-5554-4528-a5f1-8c6159252046",
   "metadata": {},
   "outputs": [],
   "source": [
    "##refer to the new notebook ;"
   ]
  },
  {
   "cell_type": "code",
   "execution_count": 76,
   "id": "ad5a5804-c650-4b12-8e37-9f79883d7d39",
   "metadata": {},
   "outputs": [
    {
     "name": "stdout",
     "output_type": "stream",
     "text": [
      "Hello, Praveen! Welcome to the module demo.\n",
      "\n",
      "I have a dog.\n",
      "My dog's name is Bruno.\n",
      "\n",
      "I have a cat.\n",
      "My cat's name is Whiskers.\n",
      "\n",
      "Making a 12-inch pizza with the following toppings:\n",
      "- Mushrooms\n",
      "- Onions\n",
      "- Extra Cheese\n"
     ]
    }
   ],
   "source": [
    "# Importing specific functions from the module\n",
    "from my_module import greet_user, describe_pet, make_pizza\n",
    "\n",
    "# Call the imported functions\n",
    "greet_user(\"praveen\")\n",
    "\n",
    "describe_pet(\"bruno\")  # default animal_type='dog'\n",
    "describe_pet(\"whiskers\", animal_type=\"cat\")\n",
    "\n",
    "make_pizza(12, \"mushrooms\", \"onions\", \"extra cheese\")\n"
   ]
  },
  {
   "cell_type": "markdown",
   "id": "3e77836a-358f-419f-a99c-44e76af223c8",
   "metadata": {},
   "source": [
    "### 17.Importing Specific Functions"
   ]
  },
  {
   "cell_type": "code",
   "execution_count": 80,
   "id": "7e139abf-5260-4d65-88ac-42b01bd2529b",
   "metadata": {},
   "outputs": [
    {
     "name": "stdout",
     "output_type": "stream",
     "text": [
      "\n",
      "I have a dog.\n",
      "My dog's name is Bruno.\n"
     ]
    }
   ],
   "source": [
    "# my_module.py (already has functions like greet_user, describe_pet, etc.)\n",
    "\n",
    "from my_module import describe_pet  # only importing describe_pet\n",
    "\n",
    "# Call the function\n",
    "describe_pet(\"bruno\")\n"
   ]
  },
  {
   "cell_type": "markdown",
   "id": "a7c864ba-13f8-40a0-a8ae-3c7a3c35827b",
   "metadata": {},
   "source": [
    "### 18. Give a Function an Alias using 'as'"
   ]
  },
  {
   "cell_type": "code",
   "execution_count": 87,
   "id": "9b3efecf-5070-43d8-b35d-3a71a44d1a7c",
   "metadata": {},
   "outputs": [
    {
     "name": "stdout",
     "output_type": "stream",
     "text": [
      "\n",
      "I have a cat.\n",
      "My cat's name is Whiskers.\n"
     ]
    }
   ],
   "source": [
    "from my_module import describe_pet as dp  # alias for the function\n",
    "\n",
    "dp(\"whiskers\", \"cat\")  # calling the function with alias\n"
   ]
  },
  {
   "cell_type": "markdown",
   "id": "f0c7ed54-9bd6-4614-98f5-6e6aec3b768e",
   "metadata": {},
   "source": [
    "### 19. Giving a Module an Alias using as"
   ]
  },
  {
   "cell_type": "code",
   "execution_count": 89,
   "id": "c42d67fa-0e98-4545-be5f-aaa42368d7be",
   "metadata": {},
   "outputs": [
    {
     "name": "stdout",
     "output_type": "stream",
     "text": [
      "Hello, Praveen! Welcome to the module demo.\n",
      "\n",
      "Making a 10-inch pizza with the following toppings:\n",
      "- Paneer\n",
      "- Jalapenos\n"
     ]
    }
   ],
   "source": [
    "import my_module as mm  # alias for the module\n",
    "\n",
    "mm.greet_user(\"praveen\")\n",
    "mm.make_pizza(10, \"paneer\", \"jalapenos\")\n"
   ]
  },
  {
   "cell_type": "markdown",
   "id": "c2039e16-fb05-4243-aa99-7a29a5f11f81",
   "metadata": {},
   "source": [
    "### 20. Importing All Functions in a Module"
   ]
  },
  {
   "cell_type": "code",
   "execution_count": 92,
   "id": "421a9849-6eb2-413b-b692-4b0305c7a07f",
   "metadata": {},
   "outputs": [
    {
     "name": "stdout",
     "output_type": "stream",
     "text": [
      "Hello, Kumar! Welcome to the module demo.\n",
      "\n",
      "I have a parrot.\n",
      "My parrot's name is Tweety.\n",
      "\n",
      "Making a 14-inch pizza with the following toppings:\n",
      "- Olive\n",
      "- Onion\n"
     ]
    }
   ],
   "source": [
    "from my_module import *  # imports all functions\n",
    "\n",
    "greet_user(\"kumar\")\n",
    "describe_pet(\"tweety\", \"parrot\")\n",
    "make_pizza(14, \"olive\", \"onion\")\n"
   ]
  },
  {
   "cell_type": "code",
   "execution_count": 94,
   "id": "daafb332-c4f9-4745-ab97-f26137c9af81",
   "metadata": {},
   "outputs": [
    {
     "data": {
      "text/plain": [
       "'Lab 7 – Common Errors and Troubleshooting (Questions 1–20)\\nAuthor: Praveen Kumar G (22MID0300)\\nDate: August 2, 2025\\nPurpose: To understand and demonstrate the types of errors that may occur while working with Python functions,\\n    argument unpacking, module importing, and more.'"
      ]
     },
     "execution_count": 94,
     "metadata": {},
     "output_type": "execute_result"
    }
   ],
   "source": [
    "\"\"\"\n",
    "Lab 7 – Common Errors and Troubleshooting (Questions 1–20)\n",
    "Author: Praveen Kumar G (22MID0300)\n",
    "Date: August 2, 2025\n",
    "Purpose: To understand and demonstrate the types of errors that may occur while working with Python functions,\n",
    "    argument unpacking, module importing, and more.\"\"\""
   ]
  },
  {
   "cell_type": "markdown",
   "id": "85082460-8a94-4c07-826f-6825a82aa13e",
   "metadata": {},
   "source": [
    "### 1.TypeError – Missing Positional Arguments"
   ]
  },
  {
   "cell_type": "code",
   "execution_count": 104,
   "id": "e708d63e-39f2-4a79-bf2b-f6cf5aee2598",
   "metadata": {},
   "outputs": [],
   "source": [
    "def greet_user(name):\n",
    "    print(f\"Hello, {name}\")\n",
    "\n",
    "# greet_user()  #  Error: missing 1 required positional argument\n"
   ]
  },
  {
   "cell_type": "markdown",
   "id": "e2d66813-7ede-4537-84b2-4891db15d11a",
   "metadata": {},
   "source": [
    "### 2. TypeError – Multiple Values for Same Argument"
   ]
  },
  {
   "cell_type": "code",
   "execution_count": 107,
   "id": "6881431b-8ccf-43c1-983a-b1ef5a929243",
   "metadata": {},
   "outputs": [],
   "source": [
    "def describe_pet(animal, name):\n",
    "    print(f\"I have a {animal} named {name}\")\n",
    "\n",
    "# describe_pet('dog', animal='cat')  #  Error: multiple values for 'animal'\n"
   ]
  },
  {
   "cell_type": "markdown",
   "id": "7aef5cb1-d5bb-4901-b911-b0598b87eb60",
   "metadata": {},
   "source": [
    "### 3. NameError – Function or Variable Not Defined"
   ]
  },
  {
   "cell_type": "code",
   "execution_count": 110,
   "id": "b22c0738-9e55-4a62-ad6d-89d333c795fc",
   "metadata": {},
   "outputs": [],
   "source": [
    "# print_user('Kumar')  #  Error: name 'print_user' is not defined"
   ]
  },
  {
   "cell_type": "markdown",
   "id": "25ed24f6-5b36-4876-a82a-f0ed90f657bd",
   "metadata": {},
   "source": [
    "### 4. SyntaxError – Incorrect Function Definition"
   ]
  },
  {
   "cell_type": "code",
   "execution_count": 113,
   "id": "2b9505aa-6d1a-4e7e-8c30-e383a3cfbc7b",
   "metadata": {},
   "outputs": [],
   "source": [
    "# def show():  #  Correct\n",
    "# def show()  #  Missing colon → SyntaxError"
   ]
  },
  {
   "cell_type": "markdown",
   "id": "99885c31-86d5-4fa4-9eec-7ad6f8bdf6ba",
   "metadata": {},
   "source": [
    "###  5. AttributeError – Wrong Method on Object"
   ]
  },
  {
   "cell_type": "code",
   "execution_count": 116,
   "id": "95a0d0f9-0afd-4c6d-88ca-0a87b23d5999",
   "metadata": {},
   "outputs": [],
   "source": [
    "name = \"kumar\"\n",
    "# name.append('g')  #  Error: 'str' object has no attribute 'append'\n"
   ]
  },
  {
   "cell_type": "markdown",
   "id": "67b5ba01-0765-4f76-bc77-c10fe4c85952",
   "metadata": {},
   "source": [
    "### 6. IndentationError – Wrong Block Structure"
   ]
  },
  {
   "cell_type": "code",
   "execution_count": 119,
   "id": "6e295be8-40c2-443d-9f63-28ced48e9d51",
   "metadata": {},
   "outputs": [],
   "source": [
    "# def add(x, y):\n",
    "# print(x + y)  #  Must be indented"
   ]
  },
  {
   "cell_type": "markdown",
   "id": "077bff89-207b-4386-a151-723353bd77b7",
   "metadata": {},
   "source": [
    "###  7. ImportError – Wrong Function or Module Name"
   ]
  },
  {
   "cell_type": "code",
   "execution_count": 122,
   "id": "5c75f74f-2748-460d-804e-797ad3eb0097",
   "metadata": {},
   "outputs": [],
   "source": [
    "# from my_module import pizza  #  If 'pizza' not defined in my_module.py"
   ]
  },
  {
   "cell_type": "markdown",
   "id": "3f338d11-fbcd-4d51-90eb-e05520e1acf9",
   "metadata": {},
   "source": [
    "### 9. TypeError – Unexpected Keyword Argument"
   ]
  },
  {
   "cell_type": "code",
   "execution_count": 125,
   "id": "847dfc69-331d-4221-b30f-8061c430bc7c",
   "metadata": {},
   "outputs": [],
   "source": [
    "def student(name, age):\n",
    "    print(name, age)\n",
    "\n",
    "# student(name=\"Kumar\", marks=90)  # 'marks' is not a valid keyword"
   ]
  },
  {
   "cell_type": "markdown",
   "id": "7621fd7f-7d24-4edd-8b3b-b9a0dd496fb3",
   "metadata": {},
   "source": [
    "### 10. KeyError – Accessing Wrong Key in Dictionary"
   ]
  },
  {
   "cell_type": "code",
   "execution_count": 129,
   "id": "d5db4dba-18c0-4502-b383-d19762732155",
   "metadata": {},
   "outputs": [],
   "source": [
    "student = {'name': 'Kumar'}\n",
    "# print(student['age'])  # KeyError: 'age'\n"
   ]
  },
  {
   "cell_type": "markdown",
   "id": "51896588-cd87-4a47-8b03-c587027955b2",
   "metadata": {},
   "source": [
    " 11. UnboundLocalError – Using Variable Before Declaring"
   ]
  }
 ],
 "metadata": {
  "kernelspec": {
   "display_name": "Python 3 (ipykernel)",
   "language": "python",
   "name": "python3"
  },
  "language_info": {
   "codemirror_mode": {
    "name": "ipython",
    "version": 3
   },
   "file_extension": ".py",
   "mimetype": "text/x-python",
   "name": "python",
   "nbconvert_exporter": "python",
   "pygments_lexer": "ipython3",
   "version": "3.12.4"
  }
 },
 "nbformat": 4,
 "nbformat_minor": 5
}
