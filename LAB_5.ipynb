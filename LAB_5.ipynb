{
 "cells": [
  {
   "cell_type": "code",
   "execution_count": 21,
   "id": "9f790342-64e2-4409-99ab-84a32de5958e",
   "metadata": {},
   "outputs": [],
   "source": [
    "days=[12,26,1,3,6,10]"
   ]
  },
  {
   "cell_type": "code",
   "execution_count": 24,
   "id": "f14d191b-a75e-4eb7-8679-7a5fe9abc3e9",
   "metadata": {},
   "outputs": [
    {
     "name": "stdout",
     "output_type": "stream",
     "text": [
      "[12, 26]\n",
      "[6, 10]\n",
      "[1, 3, 6, 10]\n",
      "[1, 3]\n"
     ]
    }
   ],
   "source": [
    "print(days[:2])\n",
    "print(days[-2:])\n",
    "print(days[2:])\n",
    "print(days[2:4])\n"
   ]
  },
  {
   "cell_type": "code",
   "execution_count": 1,
   "id": "cf61675e-611d-48d6-8f89-4f04ddb3eed3",
   "metadata": {},
   "outputs": [],
   "source": [
    "my_fav=[\"cake\",\"pizza\",\"stew\"]\n",
    "friend_fav1=my_fav[:]\n",
    "friend_fav2=my_fav"
   ]
  },
  {
   "cell_type": "code",
   "execution_count": 2,
   "id": "9b69bcad-0a67-4f00-8390-bd11de00028c",
   "metadata": {},
   "outputs": [
    {
     "name": "stdout",
     "output_type": "stream",
     "text": [
      "['cake', 'pizza', 'stew']\n"
     ]
    }
   ],
   "source": [
    "print(friend_fav2)"
   ]
  },
  {
   "cell_type": "code",
   "execution_count": 3,
   "id": "02cb02b4-15fd-4b8f-9606-9cd56fb328c3",
   "metadata": {},
   "outputs": [
    {
     "name": "stdout",
     "output_type": "stream",
     "text": [
      "['cake', 'pizza', 'stew']\n"
     ]
    }
   ],
   "source": [
    "print(friend_fav1)"
   ]
  },
  {
   "cell_type": "code",
   "execution_count": 4,
   "id": "3a9c29d7-5301-45cd-82d6-ff08b4857979",
   "metadata": {},
   "outputs": [
    {
     "name": "stdout",
     "output_type": "stream",
     "text": [
      "['cake', 'pizza', 'stew']\n"
     ]
    }
   ],
   "source": [
    "print(my_fav)"
   ]
  },
  {
   "cell_type": "code",
   "execution_count": 5,
   "id": "15f508a7-ddef-417e-806c-5e1466bc45b7",
   "metadata": {},
   "outputs": [
    {
     "name": "stdout",
     "output_type": "stream",
     "text": [
      "['cake', 'chocolate', 'stew']\n",
      "['cake', 'pizza', 'stew']\n",
      "['cake', 'pizza', 'stew']\n"
     ]
    }
   ],
   "source": [
    "friend_fav1[1]=\"chocolate\"\n",
    "print(friend_fav1)\n",
    "print(my_fav)\n",
    "print(friend_fav2)"
   ]
  },
  {
   "cell_type": "code",
   "execution_count": 6,
   "id": "7cf20440-7d72-437b-aa39-326401e9db1c",
   "metadata": {},
   "outputs": [
    {
     "name": "stdout",
     "output_type": "stream",
     "text": [
      "['cake', 'icecream', 'stew']\n",
      "['cake', 'icecream', 'stew']\n"
     ]
    }
   ],
   "source": [
    "friend_fav2[1]=\"icecream\"\n",
    "print(friend_fav2)\n",
    "print(my_fav)"
   ]
  },
  {
   "cell_type": "code",
   "execution_count": 18,
   "id": "6f1cdb9b-f02e-4003-9702-d8c2a635b06f",
   "metadata": {},
   "outputs": [
    {
     "name": "stdout",
     "output_type": "stream",
     "text": [
      "Cake\n",
      "Icecream\n",
      "Stew\n"
     ]
    }
   ],
   "source": [
    "for i in my_fav[:3]:\n",
    "    print(i.title())"
   ]
  },
  {
   "cell_type": "markdown",
   "id": "5efde501-072c-4ea6-b850-91cd014f3c04",
   "metadata": {},
   "source": [
    "### can i slice in tupule"
   ]
  },
  {
   "cell_type": "code",
   "execution_count": 20,
   "id": "95a1528e-0fd8-4e53-a596-1184baec2bb9",
   "metadata": {},
   "outputs": [
    {
     "name": "stdout",
     "output_type": "stream",
     "text": [
      "(2, 3)\n"
     ]
    }
   ],
   "source": [
    "my_tuple=(1,2,3,4,5)\n",
    "print(my_tuple[1:3])"
   ]
  },
  {
   "cell_type": "code",
   "execution_count": 26,
   "id": "4bf80456-f68c-416a-b6e8-3ef0c497a0d4",
   "metadata": {},
   "outputs": [],
   "source": [
    "student_1={\"reg_no\":\"22MID0300\",\"programme\":\"MID\",\"CGPA\":9.7,\"attendance\":100}"
   ]
  },
  {
   "cell_type": "code",
   "execution_count": 27,
   "id": "5a38d981-12cd-49c1-82a2-e7ee2944ec78",
   "metadata": {},
   "outputs": [
    {
     "name": "stdout",
     "output_type": "stream",
     "text": [
      "{'reg_no': '22MID0300', 'programme': 'MID', 'CGPA': 9.7, 'attendance': 100}\n"
     ]
    }
   ],
   "source": [
    "print(student_1)"
   ]
  },
  {
   "cell_type": "code",
   "execution_count": 28,
   "id": "760b7037-fd52-4412-a551-5cb210ffceaf",
   "metadata": {},
   "outputs": [],
   "source": [
    "student_2={\"reg_no\":\"22MID0300\",\"programme\":\"MID\",\"CGPA\":9.7,\"attendance\":100,\"reg_no\":\"22MID0296\"}"
   ]
  },
  {
   "cell_type": "code",
   "execution_count": 29,
   "id": "936a4b95-ff62-42e7-8142-f02c26035d65",
   "metadata": {},
   "outputs": [
    {
     "name": "stdout",
     "output_type": "stream",
     "text": [
      "{'reg_no': '22MID0296', 'programme': 'MID', 'CGPA': 9.7, 'attendance': 100}\n"
     ]
    }
   ],
   "source": [
    "print(student_2)"
   ]
  },
  {
   "cell_type": "code",
   "execution_count": null,
   "id": "0355fb8f-48bb-47f2-b8cf-f5d0c68a2f28",
   "metadata": {},
   "outputs": [],
   "source": []
  }
 ],
 "metadata": {
  "kernelspec": {
   "display_name": "Python 3 (ipykernel)",
   "language": "python",
   "name": "python3"
  },
  "language_info": {
   "codemirror_mode": {
    "name": "ipython",
    "version": 3
   },
   "file_extension": ".py",
   "mimetype": "text/x-python",
   "name": "python",
   "nbconvert_exporter": "python",
   "pygments_lexer": "ipython3",
   "version": "3.12.4"
  }
 },
 "nbformat": 4,
 "nbformat_minor": 5
}
