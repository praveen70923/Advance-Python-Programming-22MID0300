{
 "cells": [
  {
   "cell_type": "markdown",
   "id": "fe64981b-402b-4f87-b5aa-5f9e64d9e03d",
   "metadata": {},
   "source": [
    "# 1) List"
   ]
  },
  {
   "cell_type": "code",
   "execution_count": 2,
   "id": "dfcce539-920b-4fd1-ba9a-5228765cc853",
   "metadata": {},
   "outputs": [
    {
     "data": {
      "text/plain": [
       "'\\nAssignment 5 – List Slicing in Python\\nAuthor: Praveen Kumar G (22MID0300)  \\nDate: July 30, 2025  \\nPurpose: To demonstrate list slicing techniques using Python and understand index-based access with positive and negative slicing.\\n'"
      ]
     },
     "execution_count": 2,
     "metadata": {},
     "output_type": "execute_result"
    }
   ],
   "source": [
    "\"\"\"\n",
    "Assignment 5 – List Slicing in Python\n",
    "Author: Praveen Kumar G (22MID0300)  \n",
    "Date: July 30, 2025  \n",
    "Purpose: To demonstrate list slicing techniques using Python and understand index-based access with positive and negative slicing.\n",
    "\"\"\""
   ]
  },
  {
   "cell_type": "markdown",
   "id": "f42a3332-ddb7-4770-bdf1-67f2a58b3f9f",
   "metadata": {},
   "source": [
    "## Off-by-one behaviour"
   ]
  },
  {
   "cell_type": "code",
   "execution_count": 4,
   "id": "5760eade-7b13-4dfd-93ba-04e2c8c8cdd5",
   "metadata": {},
   "outputs": [
    {
     "name": "stdout",
     "output_type": "stream",
     "text": [
      "[12, 26, 1, 3, 6, 10]\n"
     ]
    }
   ],
   "source": [
    "days = [12, 26, 1, 3, 6, 10]\n",
    "print(days)         # Prints the entire list"
   ]
  },
  {
   "cell_type": "code",
   "execution_count": 5,
   "id": "2a9af776-fa97-42ae-ac03-dfc1b87880f2",
   "metadata": {},
   "outputs": [
    {
     "name": "stdout",
     "output_type": "stream",
     "text": [
      "[12, 26]\n",
      "[6, 10]\n",
      "[1, 3, 6, 10]\n",
      "[1, 3]\n"
     ]
    }
   ],
   "source": [
    "print(days[:2])     # Prints first 2 elements: [12, 26]\n",
    "print(days[-2:])    # Prints last 2 elements: [6, 10]\n",
    "print(days[2:])     # Prints from index 2 to the end: [1, 3, 6, 10]\n",
    "print(days[2:4])    # Prints elements from index 2 to 3 (not including 4): [1, 3]"
   ]
  },
  {
   "cell_type": "code",
   "execution_count": 6,
   "id": "4ea7bd40-806f-4aaa-812c-d2c752e95048",
   "metadata": {},
   "outputs": [
    {
     "data": {
      "text/plain": [
       "' Assignment 5 – List Copy: By Value vs. By Reference  \\nAuthor: Praveen Kumar G (22MID0300)  \\nDate: July 30, 2025  \\nPurpose: To demonstrate the difference between copying a list by value (creating a new list) and by reference (pointing to the same list) in Python.\\n'"
      ]
     },
     "execution_count": 6,
     "metadata": {},
     "output_type": "execute_result"
    }
   ],
   "source": [
    "\"\"\" Assignment 5 – List Copy: By Value vs. By Reference  \n",
    "Author: Praveen Kumar G (22MID0300)  \n",
    "Date: July 30, 2025  \n",
    "Purpose: To demonstrate the difference between copying a list by value (creating a new list) and by reference (pointing to the same list) in Python.\n",
    "\"\"\""
   ]
  },
  {
   "cell_type": "code",
   "execution_count": 7,
   "id": "95b4c774-2b79-40d6-baa7-f4ac6db351cd",
   "metadata": {},
   "outputs": [
    {
     "name": "stdout",
     "output_type": "stream",
     "text": [
      "my_fav: ['cake', 'pizza', 'stew', 'juice', 'icecream']\n"
     ]
    }
   ],
   "source": [
    "# Original list of favorite foods\n",
    "my_fav = [\"cake\", \"pizza\", \"stew\", \"juice\",\"icecream\"]\n",
    "print(\"my_fav:\", my_fav)  # Original list\n"
   ]
  },
  {
   "cell_type": "code",
   "execution_count": 8,
   "id": "24ea51eb-43b3-497d-a882-f152820a5e9e",
   "metadata": {},
   "outputs": [
    {
     "name": "stdout",
     "output_type": "stream",
     "text": [
      "friend_fav1: ['cake', 'pizza', 'stew', 'juice', 'icecream']\n"
     ]
    }
   ],
   "source": [
    "# Copying the list by value \n",
    "friend_fav1 = my_fav[:]\n",
    "print(\"friend_fav1:\", friend_fav1)  # This is a new list with same values\n"
   ]
  },
  {
   "cell_type": "code",
   "execution_count": 9,
   "id": "685e7be7-8c15-4f17-952d-8167f77aed9c",
   "metadata": {},
   "outputs": [
    {
     "name": "stdout",
     "output_type": "stream",
     "text": [
      "friend_fav2: ['cake', 'pizza', 'stew', 'juice', 'icecream']\n"
     ]
    }
   ],
   "source": [
    "# Copying the list by reference \n",
    "friend_fav2 = my_fav\n",
    "print(\"friend_fav2:\", friend_fav2)  # This points to the same list as my_fav\n"
   ]
  },
  {
   "cell_type": "code",
   "execution_count": 10,
   "id": "51374715-8525-407c-b1d9-cdaae60ba318",
   "metadata": {},
   "outputs": [
    {
     "name": "stdout",
     "output_type": "stream",
     "text": [
      "my_fav: ['cake', 'pizza', 'stew', 'juice', 'icecream']\n",
      "friend_fav1: ['cake', 'pudding', 'stew', 'juice', 'icecream']\n"
     ]
    }
   ],
   "source": [
    "#  Changes in copied list (by value) do not affect the original list\n",
    "friend_fav1[1] = \"pudding\"\n",
    "\n",
    "print(\"my_fav:\", my_fav)           # Original list remains unchanged\n",
    "print(\"friend_fav1:\", friend_fav1) # Only copied list is updated\n"
   ]
  },
  {
   "cell_type": "code",
   "execution_count": 11,
   "id": "c4994e65-9a90-4c07-9b09-db0a45722014",
   "metadata": {},
   "outputs": [
    {
     "name": "stdout",
     "output_type": "stream",
     "text": [
      "my_fav: ['cake', 'pizza', 'rice', 'juice', 'icecream']\n",
      "friend_fav2: ['cake', 'pizza', 'rice', 'juice', 'icecream']\n"
     ]
    }
   ],
   "source": [
    "#  Changes in referenced list affect the original list too\n",
    "friend_fav2[2] = \"rice\"\n",
    "\n",
    "print(\"my_fav:\", my_fav)           # Original list is also changed\n",
    "print(\"friend_fav2:\", friend_fav2) # Same reference, so both lists are updated\n"
   ]
  },
  {
   "cell_type": "markdown",
   "id": "9d114870-7cf7-4431-93c1-c1fb1776a169",
   "metadata": {},
   "source": [
    "### errors in list"
   ]
  },
  {
   "cell_type": "markdown",
   "id": "cd0bb616-e3b1-42cf-93db-4027355d23cc",
   "metadata": {},
   "source": [
    "#### Example 1: IndexError - Trying to access an index that doesn't exist"
   ]
  },
  {
   "cell_type": "code",
   "execution_count": 14,
   "id": "b4962c42-8119-4162-b539-2d481c20b8e3",
   "metadata": {},
   "outputs": [
    {
     "name": "stdout",
     "output_type": "stream",
     "text": [
      "IndexError: list index out of range\n"
     ]
    }
   ],
   "source": [
    "try:\n",
    "    print(friend_fav1[10])  # Index 10 doesn't exist in the list\n",
    "except IndexError as e:\n",
    "    print(\"IndexError:\", e)\n"
   ]
  },
  {
   "cell_type": "code",
   "execution_count": 15,
   "id": "92332520-bc73-4035-858c-a623318cc132",
   "metadata": {},
   "outputs": [
    {
     "data": {
      "text/plain": [
       "'1. **IndexError**  \\n   - Occurs when trying to access an element at an index that doesn’t exist in the list.\\n   - Fix: Always check list length using `len(list_name)` before accessing an index.'"
      ]
     },
     "execution_count": 15,
     "metadata": {},
     "output_type": "execute_result"
    }
   ],
   "source": [
    "\"\"\"1. **IndexError**  \n",
    "   - Occurs when trying to access an element at an index that doesn’t exist in the list.\n",
    "   - Fix: Always check list length using `len(list_name)` before accessing an index.\"\"\""
   ]
  },
  {
   "cell_type": "markdown",
   "id": "973d8253-c861-4f7d-aafb-b27ee143e25d",
   "metadata": {},
   "source": [
    "#### Example 2: TypeError - Trying to assign to a string index (immutable object)"
   ]
  },
  {
   "cell_type": "code",
   "execution_count": 17,
   "id": "f2dc631a-27de-4d5b-b8bb-4daf2e1d92e5",
   "metadata": {},
   "outputs": [
    {
     "name": "stdout",
     "output_type": "stream",
     "text": [
      "TypeError: 'str' object does not support item assignment\n"
     ]
    }
   ],
   "source": [
    "try:\n",
    "    my_fav[0][0] = \"C\"  # Strings are immutable; can't change a single character\n",
    "except TypeError as e:\n",
    "    print(\"TypeError:\", e)\n"
   ]
  },
  {
   "cell_type": "code",
   "execution_count": 18,
   "id": "5fcdaee5-4254-435e-b66d-365d73da4f3d",
   "metadata": {},
   "outputs": [
    {
     "data": {
      "text/plain": [
       "'2. **TypeError**  \\n   - Happens when trying to modify an immutable object like a string.\\n   - Fix: If you want to modify strings, you need to create a new one.'"
      ]
     },
     "execution_count": 18,
     "metadata": {},
     "output_type": "execute_result"
    }
   ],
   "source": [
    "\"\"\"2. **TypeError**  \n",
    "   - Happens when trying to modify an immutable object like a string.\n",
    "   - Fix: If you want to modify strings, you need to create a new one.\"\"\""
   ]
  },
  {
   "cell_type": "markdown",
   "id": "ac5bf95c-111a-45c8-9e22-b4af09584f05",
   "metadata": {},
   "source": [
    "#### Example 3: NameError - Using a variable that hasn't been defined"
   ]
  },
  {
   "cell_type": "code",
   "execution_count": 20,
   "id": "2b7ff9de-647e-4f79-8499-6fc2b976090d",
   "metadata": {},
   "outputs": [
    {
     "name": "stdout",
     "output_type": "stream",
     "text": [
      "NameError: name 'friend_fav3' is not defined\n"
     ]
    }
   ],
   "source": [
    "try:\n",
    "    print(friend_fav3)  # This list was never created\n",
    "except NameError as e:\n",
    "    print(\"NameError:\", e)\n"
   ]
  },
  {
   "cell_type": "code",
   "execution_count": 21,
   "id": "d81716a0-9443-4d5c-8ad4-ef5190de8ac8",
   "metadata": {},
   "outputs": [
    {
     "data": {
      "text/plain": [
       "'3. **NameError**  \\n   - Raised when the code references a variable that hasn’t been defined.\\n   - ✅ Fix: Always declare and initialize your variables before using them.'"
      ]
     },
     "execution_count": 21,
     "metadata": {},
     "output_type": "execute_result"
    }
   ],
   "source": [
    "\"\"\"3. **NameError**  \n",
    "   - Raised when the code references a variable that hasn’t been defined.\n",
    "   - ✅ Fix: Always declare and initialize your variables before using them.\"\"\""
   ]
  },
  {
   "cell_type": "markdown",
   "id": "737619e6-965a-4b1b-8093-44a67a925d0f",
   "metadata": {},
   "source": [
    "### Loop using for loop"
   ]
  },
  {
   "cell_type": "code",
   "execution_count": 23,
   "id": "2b9240e2-766a-4b18-ba5d-efbfb91a645a",
   "metadata": {},
   "outputs": [
    {
     "name": "stdout",
     "output_type": "stream",
     "text": [
      "Loop using for loop:\n",
      "cake\n",
      "pizza\n",
      "stew\n",
      "juice\n",
      "icecream\n"
     ]
    }
   ],
   "source": [
    "# Original list\n",
    "my_fav = [\"cake\", \"pizza\", \"stew\", \"juice\",\"icecream\"]\n",
    "\n",
    "# Loop using for loop\n",
    "print(\"Loop using for loop:\")\n",
    "for item in my_fav:\n",
    "    print(item)\n"
   ]
  },
  {
   "cell_type": "markdown",
   "id": "fcce68a9-bd03-48c2-b873-7e8f4b75ee8f",
   "metadata": {},
   "source": [
    "### Loop using index"
   ]
  },
  {
   "cell_type": "code",
   "execution_count": 25,
   "id": "0361cf3f-78e7-45e4-a7ff-271cbfac7ab8",
   "metadata": {},
   "outputs": [
    {
     "name": "stdout",
     "output_type": "stream",
     "text": [
      "Loop using index:\n",
      "cake\n",
      "pizza\n",
      "stew\n",
      "juice\n",
      "icecream\n"
     ]
    }
   ],
   "source": [
    "print(\"Loop using index:\")\n",
    "for i in range(len(my_fav)):\n",
    "    print(my_fav[i])\n"
   ]
  },
  {
   "cell_type": "markdown",
   "id": "5b69682d-0ef3-467a-81b4-b543b062d289",
   "metadata": {},
   "source": [
    "### Loop using while loop"
   ]
  },
  {
   "cell_type": "code",
   "execution_count": 27,
   "id": "82e30eb8-817a-45ad-a7d6-fabd953e1435",
   "metadata": {},
   "outputs": [
    {
     "name": "stdout",
     "output_type": "stream",
     "text": [
      "Loop using while loop:\n",
      "cake\n",
      "pizza\n",
      "stew\n",
      "juice\n",
      "icecream\n"
     ]
    }
   ],
   "source": [
    "print(\"Loop using while loop:\")\n",
    "i = 0\n",
    "while i < len(my_fav):\n",
    "    print(my_fav[i])\n",
    "    i += 1\n"
   ]
  },
  {
   "cell_type": "markdown",
   "id": "984dad34-a83d-4471-972e-9c52bc7370bc",
   "metadata": {},
   "source": [
    "## 2) Tuples"
   ]
  },
  {
   "cell_type": "code",
   "execution_count": 29,
   "id": "c81d852d-6240-4c98-ba02-e9d079b7fd3b",
   "metadata": {},
   "outputs": [
    {
     "data": {
      "text/plain": [
       "' What is a Tuple?\\n\\n- A tuple is **like a list**, but **immutable** (cannot be changed).\\n- Tuples are written using **round brackets `()`**.\\n- Once created, the values inside a tuple **cannot be modified**.\\n\\n Example: `fruits = (\"apple\", \"banana\", \"cherry\")`'"
      ]
     },
     "execution_count": 29,
     "metadata": {},
     "output_type": "execute_result"
    }
   ],
   "source": [
    "\"\"\" What is a Tuple?\n",
    "\n",
    "- A tuple is **like a list**, but **immutable** (cannot be changed).\n",
    "- Tuples are written using **round brackets `()`**.\n",
    "- Once created, the values inside a tuple **cannot be modified**.\n",
    "\n",
    " Example: `fruits = (\"apple\", \"banana\", \"cherry\")`\"\"\"\n"
   ]
  },
  {
   "cell_type": "code",
   "execution_count": 30,
   "id": "aab58767-197b-48c5-8947-b41b6aedbed6",
   "metadata": {},
   "outputs": [
    {
     "name": "stdout",
     "output_type": "stream",
     "text": [
      "Fruits Tuple: ('apple', 'banana', 'cherry')\n",
      "First fruit: apple\n",
      "Last fruit: cherry\n"
     ]
    }
   ],
   "source": [
    "# Creating a tuple\n",
    "fruits = (\"apple\", \"banana\", \"cherry\")\n",
    "print(\"Fruits Tuple:\", fruits)\n",
    "\n",
    "# Accessing elements\n",
    "print(\"First fruit:\", fruits[0])\n",
    "print(\"Last fruit:\", fruits[-1])\n"
   ]
  },
  {
   "cell_type": "code",
   "execution_count": 31,
   "id": "c39abdf9-b971-4bb5-ab08-215e38e8432d",
   "metadata": {},
   "outputs": [
    {
     "name": "stdout",
     "output_type": "stream",
     "text": [
      "Error: 'tuple' object does not support item assignment\n"
     ]
    }
   ],
   "source": [
    "# Tuples are immutable – this will raise an error\n",
    "try:\n",
    "    fruits[1] = \"orange\"\n",
    "except TypeError as e:\n",
    "    print(\"Error:\", e)\n"
   ]
  },
  {
   "cell_type": "code",
   "execution_count": 32,
   "id": "3e1c83f9-5065-4a38-ba61-08700d563056",
   "metadata": {},
   "outputs": [
    {
     "name": "stdout",
     "output_type": "stream",
     "text": [
      "Fruit: apple\n",
      "Fruit: banana\n",
      "Fruit: cherry\n"
     ]
    }
   ],
   "source": [
    "# Loop through tuple\n",
    "for fruit in fruits:\n",
    "    print(\"Fruit:\", fruit)\n"
   ]
  },
  {
   "cell_type": "markdown",
   "id": "bd98f9eb-2f4b-40d2-bbd1-26e643ab326c",
   "metadata": {},
   "source": [
    "## 3) Dictionary "
   ]
  },
  {
   "cell_type": "code",
   "execution_count": 34,
   "id": "ceb9947c-c690-4f4b-a422-0ab520057ae6",
   "metadata": {},
   "outputs": [
    {
     "name": "stdout",
     "output_type": "stream",
     "text": [
      "Name: Praveen Kumar\n",
      "Age: 21\n",
      "Course: Data Science\n"
     ]
    }
   ],
   "source": [
    "# Creating a dictionary\n",
    "student = {\n",
    "    \"name\": \"Praveen Kumar\",\n",
    "    \"age\": 21,\n",
    "    \"course\": \"Data Science\"\n",
    "}\n",
    "\n",
    "# Accessing dictionary items\n",
    "print(\"Name:\", student[\"name\"])\n",
    "print(\"Age:\", student[\"age\"])\n",
    "print(\"Course:\", student[\"course\"])\n"
   ]
  },
  {
   "cell_type": "code",
   "execution_count": 35,
   "id": "9f21ec7a-720c-461e-9ab7-b3f138cc309d",
   "metadata": {},
   "outputs": [
    {
     "name": "stdout",
     "output_type": "stream",
     "text": [
      "After adding grade: {'name': 'Praveen Kumar', 'age': 21, 'course': 'Data Science', 'grade': 'A'}\n",
      "After updating age: {'name': 'Praveen Kumar', 'age': 22, 'course': 'Data Science', 'grade': 'A'}\n"
     ]
    }
   ],
   "source": [
    "# Adding new item\n",
    "student[\"grade\"] = \"A\"\n",
    "print(\"After adding grade:\", student)\n",
    "\n",
    "# Updating existing item\n",
    "student[\"age\"] = 22\n",
    "print(\"After updating age:\", student)"
   ]
  },
  {
   "cell_type": "code",
   "execution_count": 36,
   "id": "5574039b-8616-4be4-83d8-a1d98fcaaf92",
   "metadata": {},
   "outputs": [
    {
     "name": "stdout",
     "output_type": "stream",
     "text": [
      "After removing 'course': {'name': 'Praveen Kumar', 'age': 22, 'grade': 'A'}\n",
      "After deleting 'grade': {'name': 'Praveen Kumar', 'age': 22}\n"
     ]
    }
   ],
   "source": [
    "# Using pop()\n",
    "student.pop(\"course\")\n",
    "print(\"After removing 'course':\", student)\n",
    "\n",
    "# Using del\n",
    "del student[\"grade\"]\n",
    "print(\"After deleting 'grade':\", student)\n"
   ]
  },
  {
   "cell_type": "code",
   "execution_count": 37,
   "id": "0850e2d8-34d0-4c97-a76e-64d3273ac8da",
   "metadata": {},
   "outputs": [
    {
     "name": "stdout",
     "output_type": "stream",
     "text": [
      "name : Praveen Kumar\n",
      "age : 22\n"
     ]
    }
   ],
   "source": [
    "# Loop through dictionary keys and values\n",
    "for key, value in student.items():\n",
    "    print(key, \":\", value)\n"
   ]
  },
  {
   "cell_type": "code",
   "execution_count": 38,
   "id": "e7897d52-d80f-4e65-aaf3-644c0847937c",
   "metadata": {},
   "outputs": [
    {
     "name": "stdout",
     "output_type": "stream",
     "text": [
      "Error: 'height'\n"
     ]
    }
   ],
   "source": [
    "# Trying to access a key that doesn’t exist (causes error)\n",
    "try:\n",
    "    print(student[\"height\"])\n",
    "except KeyError as e:\n",
    "    print(\"Error:\", e)\n"
   ]
  },
  {
   "cell_type": "code",
   "execution_count": null,
   "id": "d5f979fb-5367-469b-9212-3dc747e8197c",
   "metadata": {},
   "outputs": [],
   "source": []
  }
 ],
 "metadata": {
  "kernelspec": {
   "display_name": "Python 3 (ipykernel)",
   "language": "python",
   "name": "python3"
  },
  "language_info": {
   "codemirror_mode": {
    "name": "ipython",
    "version": 3
   },
   "file_extension": ".py",
   "mimetype": "text/x-python",
   "name": "python",
   "nbconvert_exporter": "python",
   "pygments_lexer": "ipython3",
   "version": "3.12.4"
  }
 },
 "nbformat": 4,
 "nbformat_minor": 5
}
