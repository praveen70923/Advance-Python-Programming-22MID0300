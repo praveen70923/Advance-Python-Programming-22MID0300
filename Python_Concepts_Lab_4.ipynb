{
 "cells": [
  {
   "cell_type": "code",
   "execution_count": 1,
   "id": "d6c8ef49-dac7-4135-b033-0d920f637692",
   "metadata": {},
   "outputs": [
    {
     "data": {
      "text/plain": [
       "\"\\nTitle:   Factorial Program to Demonstrate Python's Handling of Large Integers\\nAuthor:  Praveen Kumar G (22MID0300)\\nDate:    July 25, 2025\\nPurpose: This program calculates the factorial of a user-input number using a custom function.\\n         It shows Python’s ability to compute large factorial values (e.g., 100!) without overflow,\\n         which many other programming languages (like Java) cannot do due to fixed-size integer limits.\\n\""
      ]
     },
     "execution_count": 1,
     "metadata": {},
     "output_type": "execute_result"
    }
   ],
   "source": [
    "\"\"\"\n",
    "Title:   Factorial Program to Demonstrate Python's Handling of Large Integers\n",
    "Author:  Praveen Kumar G (22MID0300)\n",
    "Date:    July 25, 2025\n",
    "Purpose: This program calculates the factorial of a user-input number using a custom function.\n",
    "         It shows Python’s ability to compute large factorial values (e.g., 100!) without overflow,\n",
    "         which many other programming languages (like Java) cannot do due to fixed-size integer limits.\n",
    "\"\"\""
   ]
  },
  {
   "cell_type": "markdown",
   "id": "7ba5c43a-b330-4f72-95c9-e2b52272373a",
   "metadata": {},
   "source": [
    "### Factorial "
   ]
  },
  {
   "cell_type": "code",
   "execution_count": 3,
   "id": "77357afc-931b-4f37-b9ae-0c4b8e84dc54",
   "metadata": {},
   "outputs": [
    {
     "name": "stdin",
     "output_type": "stream",
     "text": [
      "Enter a number:  100\n"
     ]
    },
    {
     "name": "stdout",
     "output_type": "stream",
     "text": [
      "Factorial: 93326215443944152681699238856266700490715968264381621468592963895217599993229915608941463976156518286253697920827223758251185210916864000000000000000000000000\n"
     ]
    }
   ],
   "source": [
    "def factorial(n):\n",
    "    result = 1\n",
    "    for i in range(1, n + 1):\n",
    "        result *= i\n",
    "    return result\n",
    "\n",
    "# Take user input\n",
    "num = int(input(\"Enter a number: \"))\n",
    "\n",
    "# Display result\n",
    "print(\"Factorial:\", factorial(num))\n"
   ]
  },
  {
   "cell_type": "markdown",
   "id": "f96b7521-4eff-4782-8333-b4ac7b1a6842",
   "metadata": {},
   "source": [
    "### Justification – Why Python Handles Large Numbers Well"
   ]
  },
  {
   "cell_type": "code",
   "execution_count": 5,
   "id": "d906e1c4-91cf-4487-a065-4b34cfe9561e",
   "metadata": {},
   "outputs": [
    {
     "data": {
      "text/plain": [
       "\"\\nJustification:\\n\\n    Python can handle very large integers because its 'int' type has no fixed size limit.\\n    It automatically upgrades to a big integer representation internally.\\n\\n    In contrast, languages like Java or C++ use fixed-width integers (e.g., 32-bit or 64-bit),\\n    which can cause overflow when the result exceeds the maximum storable value.\\n\\n  For example:\\n   - 100! has 158 digits.\\n   - Python calculates and displays it entirely without data loss or overflow.\\n\\n    This proves that Python is well-suited for scientific and mathematical computations\\n    involving very large numbers.\\n\""
      ]
     },
     "execution_count": 5,
     "metadata": {},
     "output_type": "execute_result"
    }
   ],
   "source": [
    "\"\"\"\n",
    "Justification:\n",
    "\n",
    "    Python can handle very large integers because its 'int' type has no fixed size limit.\n",
    "    It automatically upgrades to a big integer representation internally.\n",
    "\n",
    "    In contrast, languages like Java or C++ use fixed-width integers (e.g., 32-bit or 64-bit),\n",
    "    which can cause overflow when the result exceeds the maximum storable value.\n",
    "\n",
    "  For example:\n",
    "   - 100! has 158 digits.\n",
    "   - Python calculates and displays it entirely without data loss or overflow.\n",
    "\n",
    "    This proves that Python is well-suited for scientific and mathematical computations\n",
    "    involving very large numbers.\n",
    "\"\"\""
   ]
  },
  {
   "cell_type": "code",
   "execution_count": 6,
   "id": "ac97298a-8b5d-458c-83a5-4c51c4b4cea8",
   "metadata": {},
   "outputs": [
    {
     "data": {
      "text/plain": [
       "'\\nTitle:   Demonstrating String Immutability in Python\\nAuthor:  Praveen Kumar G (22MID0300)\\nDate:    July 25, 2025\\nPurpose: This program demonstrates that strings in Python are immutable, meaning they cannot\\n         be changed after creation. Any operation that appears to modify a string actually\\n         creates a new string object.\\n'"
      ]
     },
     "execution_count": 6,
     "metadata": {},
     "output_type": "execute_result"
    }
   ],
   "source": [
    "\"\"\"\n",
    "Title:   Demonstrating String Immutability in Python\n",
    "Author:  Praveen Kumar G (22MID0300)\n",
    "Date:    July 25, 2025\n",
    "Purpose: This program demonstrates that strings in Python are immutable, meaning they cannot\n",
    "         be changed after creation. Any operation that appears to modify a string actually\n",
    "         creates a new string object.\n",
    "\"\"\"\n"
   ]
  },
  {
   "cell_type": "markdown",
   "id": "cf418446-b29e-4f40-8766-5c8cead535b1",
   "metadata": {},
   "source": [
    "### Code to Prove String Immutability"
   ]
  },
  {
   "cell_type": "code",
   "execution_count": 8,
   "id": "511b2b37-7edb-48f2-afef-9f6bb8b8d874",
   "metadata": {},
   "outputs": [
    {
     "name": "stdout",
     "output_type": "stream",
     "text": [
      "Original String: praveen\n",
      "Memory ID of original string: 1262742243152\n",
      "\n",
      "Modified String: araveen\n",
      "Memory ID of modified string: 1264848605168\n",
      "\n",
      "Is original string same as modified string? False\n"
     ]
    }
   ],
   "source": [
    "# Original string\n",
    "original = \"praveen\"\n",
    "print(\"Original String:\", original)\n",
    "print(\"Memory ID of original string:\", id(original))\n",
    "\n",
    "# Attempt to modify a character (will cause error if uncommented)\n",
    "# original[0] = 'p'  # TypeError: 'str' object does not support item assignment\n",
    "\n",
    "# Perform a modification (actually creates a new string)\n",
    "modified = original.replace(\"p\", \"a\")\n",
    "print(\"\\nModified String:\", modified)\n",
    "print(\"Memory ID of modified string:\", id(modified))\n",
    "\n",
    "# Compare IDs\n",
    "print(\"\\nIs original string same as modified string?\", original is modified)\n"
   ]
  },
  {
   "cell_type": "code",
   "execution_count": 9,
   "id": "b9bc01d7-8325-431b-a406-b692fad08ea6",
   "metadata": {},
   "outputs": [
    {
     "name": "stdout",
     "output_type": "stream",
     "text": [
      "pravnn\n"
     ]
    }
   ],
   "source": [
    "G = \"praveen\"\n",
    "G= G.replace('ee','n')\n",
    "print(G)"
   ]
  },
  {
   "cell_type": "code",
   "execution_count": 10,
   "id": "9f0459f9-7379-4be6-be4c-a1b2313ca3fb",
   "metadata": {},
   "outputs": [
    {
     "name": "stdout",
     "output_type": "stream",
     "text": [
      "1262742243152\n",
      "1262742244784\n",
      "praveenkumar\n"
     ]
    }
   ],
   "source": [
    "g1=\"praveen\"\n",
    "print(id(g1))\n",
    "g2=\"kumar\"\n",
    "print(id(g2))\n",
    "\n",
    "g=g1+g2\n",
    "print(g)"
   ]
  },
  {
   "cell_type": "code",
   "execution_count": 11,
   "id": "3f9a5361-93c3-458b-9958-b54300e3c47a",
   "metadata": {},
   "outputs": [
    {
     "data": {
      "text/plain": [
       "'\\nTitle:   Printing Unicode Characters (Emojis) in Python\\nAuthor:  Praveen Kumar G (22MID0300)\\nDate:    July 25, 2025\\nPurpose: This program demonstrates the use of Unicode values to print emojis using Python.\\n'"
      ]
     },
     "execution_count": 11,
     "metadata": {},
     "output_type": "execute_result"
    }
   ],
   "source": [
    "\"\"\"\n",
    "Title:   Printing Unicode Characters (Emojis) in Python\n",
    "Author:  Praveen Kumar G (22MID0300)\n",
    "Date:    July 25, 2025\n",
    "Purpose: This program demonstrates the use of Unicode values to print emojis using Python.\n",
    "\"\"\"\n"
   ]
  },
  {
   "cell_type": "markdown",
   "id": "4e6dac54-0231-41ad-88c5-fb59619cd7de",
   "metadata": {},
   "source": [
    "### Unicode Emoji Output Code"
   ]
  },
  {
   "cell_type": "code",
   "execution_count": 13,
   "id": "845546eb-bbcd-401e-8bbd-59c5653c1174",
   "metadata": {},
   "outputs": [
    {
     "name": "stdout",
     "output_type": "stream",
     "text": [
      "Smile Emoji: 😄\n",
      "Thumbs Up: 👍\n",
      "Red Heart: ❤\n",
      "Fire: 🔥\n",
      "Rocket: 🚀\n"
     ]
    }
   ],
   "source": [
    "print(\"Smile Emoji: \\U0001F604\")\n",
    "print(\"Thumbs Up: \\U0001F44D\")\n",
    "print(\"Red Heart: \\U00002764\")\n",
    "print(\"Fire: \\U0001F525\")\n",
    "print(\"Rocket: \\U0001F680\")"
   ]
  },
  {
   "cell_type": "code",
   "execution_count": 14,
   "id": "c1ad5d01-beb1-4d39-9e82-e3c301fa5a4f",
   "metadata": {},
   "outputs": [],
   "source": [
    "import unicodedata\n",
    "omega = unicodedata.lookup('GREEK CAPITAL LETTER OMEGA')\n",
    "smiley= unicodedata.lookup('GRINNING FACE')"
   ]
  },
  {
   "cell_type": "code",
   "execution_count": 15,
   "id": "01abf8e3-b57a-4dc4-a8a4-ec9eadf838f1",
   "metadata": {},
   "outputs": [
    {
     "name": "stdout",
     "output_type": "stream",
     "text": [
      "Ω\n"
     ]
    }
   ],
   "source": [
    "print(omega)"
   ]
  },
  {
   "cell_type": "code",
   "execution_count": 16,
   "id": "7a46b807-eb29-445f-9e10-2c83463bc0cf",
   "metadata": {},
   "outputs": [
    {
     "name": "stdout",
     "output_type": "stream",
     "text": [
      "😀\n"
     ]
    }
   ],
   "source": [
    "print(smiley)"
   ]
  },
  {
   "cell_type": "markdown",
   "id": "cdb0aea7-a919-4460-9fda-b3bcea20ff86",
   "metadata": {},
   "source": [
    "### Converting emoji to Unicode code point using ord()"
   ]
  },
  {
   "cell_type": "code",
   "execution_count": 18,
   "id": "e9c7cba2-8c57-40d6-897d-e9253bdec1e7",
   "metadata": {},
   "outputs": [
    {
     "name": "stdout",
     "output_type": "stream",
     "text": [
      "Emoji: 🔥\n",
      "Unicode Code Point: U+1F525\n"
     ]
    }
   ],
   "source": [
    "emoji = '🔥'\n",
    "unicode_point = ord(emoji)\n",
    "\n",
    "print(f\"Emoji: {emoji}\")\n",
    "print(f\"Unicode Code Point: U+{unicode_point:04X}\")\n"
   ]
  },
  {
   "cell_type": "code",
   "execution_count": 19,
   "id": "8f0bd91c-7bca-44bc-afd6-e82714501a18",
   "metadata": {},
   "outputs": [
    {
     "name": "stdin",
     "output_type": "stream",
     "text": [
      "Enter an emoji:  🔥\n"
     ]
    },
    {
     "name": "stdout",
     "output_type": "stream",
     "text": [
      "The Unicode of '🔥' is U+1F525\n",
      "The Unicode of '😀' is U+1F600\n"
     ]
    }
   ],
   "source": [
    "# Function to convert an emoji to its Unicode code point\n",
    "def get_emoji_unicode(emoji_char):\n",
    "    code_point = ord(emoji_char)\n",
    "    return f\"U+{code_point:X}\"\n",
    "\n",
    "# Taking user input\n",
    "emoji_input = input(\"Enter an emoji: \")\n",
    "unicode_output = get_emoji_unicode(emoji_input)\n",
    "print(f\"The Unicode of '{emoji_input}' is {unicode_output}\")\n",
    "\n",
    "# Example with a predefined emoji\n",
    "smiley_emoji = \"😀\"\n",
    "unicode_smiley = get_emoji_unicode(smiley_emoji)\n",
    "print(f\"The Unicode of '{smiley_emoji}' is {unicode_smiley}\")\n"
   ]
  },
  {
   "cell_type": "code",
   "execution_count": 20,
   "id": "925e8fc9-2bd9-4e08-898f-2bda26d1676c",
   "metadata": {},
   "outputs": [
    {
     "name": "stdout",
     "output_type": "stream",
     "text": [
      "Requirement already satisfied: nltk in c:\\users\\hp\\anaconda3\\lib\\site-packages (3.8.1)\n",
      "Requirement already satisfied: click in c:\\users\\hp\\anaconda3\\lib\\site-packages (from nltk) (8.1.7)\n",
      "Requirement already satisfied: joblib in c:\\users\\hp\\anaconda3\\lib\\site-packages (from nltk) (1.4.2)\n",
      "Requirement already satisfied: regex>=2021.8.3 in c:\\users\\hp\\anaconda3\\lib\\site-packages (from nltk) (2023.10.3)\n",
      "Requirement already satisfied: tqdm in c:\\users\\hp\\anaconda3\\lib\\site-packages (from nltk) (4.66.4)\n",
      "Requirement already satisfied: colorama in c:\\users\\hp\\anaconda3\\lib\\site-packages (from click->nltk) (0.4.6)\n",
      "Note: you may need to restart the kernel to use updated packages.\n"
     ]
    }
   ],
   "source": [
    "pip install nltk"
   ]
  },
  {
   "cell_type": "code",
   "execution_count": 21,
   "id": "06d11c97-8926-4ea8-905f-50793c4f0109",
   "metadata": {},
   "outputs": [
    {
     "data": {
      "text/plain": [
       "'\\nTitle:   Unicode of Non-English Characters using ord() Function\\nAuthor:  Praveen Kumar G (22MID0300)\\nDate:    July 25, 2025\\nPurpose: This program demonstrates how Python can handle multilingual characters by printing\\n         the Unicode of each character using the ord() function. It includes examples with\\n         Chinese characters and user input.\\n'"
      ]
     },
     "execution_count": 21,
     "metadata": {},
     "output_type": "execute_result"
    }
   ],
   "source": [
    "\"\"\"\n",
    "Title:   Unicode of Non-English Characters using ord() Function\n",
    "Author:  Praveen Kumar G (22MID0300)\n",
    "Date:    July 25, 2025\n",
    "Purpose: This program demonstrates how Python can handle multilingual characters by printing\n",
    "         the Unicode of each character using the ord() function. It includes examples with\n",
    "         Chinese characters and user input.\n",
    "\"\"\"\n"
   ]
  },
  {
   "cell_type": "markdown",
   "id": "55d5d95d-77ab-45f1-bf44-11709cd6d3c6",
   "metadata": {},
   "source": [
    "###  Unicode Conversion Code"
   ]
  },
  {
   "cell_type": "code",
   "execution_count": 23,
   "id": "c0ea50a5-9ebb-4399-9f8e-5b21440d3021",
   "metadata": {},
   "outputs": [
    {
     "name": "stdout",
     "output_type": "stream",
     "text": [
      "The Unicode of '你' is U+4F60\n",
      "The Unicode of '好' is U+597D\n"
     ]
    },
    {
     "name": "stdin",
     "output_type": "stream",
     "text": [
      "Enter any character:  你\n"
     ]
    },
    {
     "name": "stdout",
     "output_type": "stream",
     "text": [
      "The Unicode of '你' is U+4F60\n"
     ]
    }
   ],
   "source": [
    "# Function to convert a character to its Unicode code point\n",
    "def get_char_unicode(character):\n",
    "    \"\"\"\n",
    "    Returns the Unicode representation (code point) of a single character.\n",
    "    \"\"\"\n",
    "    code_point = ord(character)\n",
    "    return f\"U+{code_point:X}\"\n",
    "\n",
    "# Example with a Chinese word:\n",
    "chinese_char = \"你好\"  # \"ni hao\" means hello in Mandarin\n",
    "for char in chinese_char:\n",
    "    unicode_output = get_char_unicode(char)\n",
    "    print(f\"The Unicode of '{char}' is {unicode_output}\")\n",
    "\n",
    "# User input for a single character\n",
    "input_char = input(\"Enter any character: \")\n",
    "if len(input_char) == 1:\n",
    "    unicode_output = get_char_unicode(input_char)\n",
    "    print(f\"The Unicode of '{input_char}' is {unicode_output}\")\n",
    "else:\n",
    "    print(\"Please enter only one character at a time.\")\n"
   ]
  },
  {
   "cell_type": "code",
   "execution_count": 24,
   "id": "f0d59376-f64a-4aa8-ada9-6f28ce174346",
   "metadata": {},
   "outputs": [
    {
     "data": {
      "text/plain": [
       "'\\nTitle:   POS Tagging using NLTK\\nAuthor:  Praveen Kumar G (22MID0300)\\nDate:    July 25, 2025\\nPurpose: This program demonstrates sentence tokenization, word tokenization,\\n         and Part-of-Speech (POS) tagging using the Natural Language Toolkit (NLTK).\\n'"
      ]
     },
     "execution_count": 24,
     "metadata": {},
     "output_type": "execute_result"
    }
   ],
   "source": [
    "\"\"\"\n",
    "Title:   POS Tagging using NLTK\n",
    "Author:  Praveen Kumar G (22MID0300)\n",
    "Date:    July 25, 2025\n",
    "Purpose: This program demonstrates sentence tokenization, word tokenization,\n",
    "         and Part-of-Speech (POS) tagging using the Natural Language Toolkit (NLTK).\n",
    "\"\"\""
   ]
  },
  {
   "cell_type": "markdown",
   "id": "31a28cec-9541-490f-9100-a9d1645717b6",
   "metadata": {},
   "source": [
    "### NLTK POS Tagging Example"
   ]
  },
  {
   "cell_type": "code",
   "execution_count": 26,
   "id": "1292ec5a-3887-4dc4-989e-bb1c42ab2599",
   "metadata": {},
   "outputs": [
    {
     "name": "stderr",
     "output_type": "stream",
     "text": [
      "[nltk_data] Downloading package punkt to\n",
      "[nltk_data]     C:\\Users\\hp\\AppData\\Roaming\\nltk_data...\n",
      "[nltk_data]   Package punkt is already up-to-date!\n",
      "[nltk_data] Downloading package averaged_perceptron_tagger to\n",
      "[nltk_data]     C:\\Users\\hp\\AppData\\Roaming\\nltk_data...\n",
      "[nltk_data]   Package averaged_perceptron_tagger is already up-to-\n",
      "[nltk_data]       date!\n"
     ]
    },
    {
     "name": "stdout",
     "output_type": "stream",
     "text": [
      "[('Hello', 'NNP'), ('everyone', 'NN'), ('!', '.')]\n",
      "[('This', 'DT'), ('program', 'NN'), ('takes', 'VBZ'), ('an', 'DT'), ('emoji', 'JJ'), ('character', 'NN'), (',', ','), ('finds', 'VBZ'), ('its', 'PRP$'), ('numerical', 'JJ'), ('Unicode', 'NNP'), ('code', 'NN'), ('point', 'NN'), ('using', 'VBG'), ('ord', 'NNP'), ('(', '('), (')', ')'), (',', ','), ('and', 'CC'), ('formats', 'NNS'), ('that', 'IN'), ('number', 'NN'), ('into', 'IN'), ('a', 'DT'), ('standard', 'JJ'), ('``', '``'), ('U+XXXX', 'NNP'), (\"''\", \"''\"), ('hexadecimal', 'NN'), ('string', 'VBG'), ('using', 'VBG'), ('an', 'DT'), ('f-string', 'NN'), ('.', '.')]\n",
      "[('This', 'DT'), ('allows', 'VBZ'), ('users', 'NNS'), ('to', 'TO'), ('discover', 'VB'), ('the', 'DT'), ('underlying', 'VBG'), ('Unicode', 'NNP'), ('value', 'NN'), ('of', 'IN'), ('any', 'DT'), ('emoji', 'NN'), ('.', '.')]\n"
     ]
    }
   ],
   "source": [
    "# Importing NLTK and downloading necessary resources\n",
    "import nltk\n",
    "nltk.download(\"punkt\")\n",
    "nltk.download('averaged_perceptron_tagger') \n",
    "\n",
    "# Input text for analysis\n",
    "texts = \"\"\"Hello everyone! This program takes an emoji character, finds its numerical Unicode code point using ord(), \n",
    "and formats that number into a standard \"U+XXXX\" hexadecimal string using an f-string. \n",
    "This allows users to discover the underlying Unicode value of any emoji.\"\"\"\n",
    "\n",
    "# Sentence Tokenization\n",
    "sentences = nltk.sent_tokenize(texts)\n",
    "\n",
    "# Tokenize words and apply POS tagging\n",
    "for sentence in sentences:\n",
    "    words = nltk.word_tokenize(sentence)\n",
    "    tagged_words = nltk.pos_tag(words)\n",
    "    print(tagged_words)\n"
   ]
  },
  {
   "cell_type": "code",
   "execution_count": 27,
   "id": "a9d9c9ea-2138-4ca2-afc3-f10c8d10772d",
   "metadata": {},
   "outputs": [
    {
     "name": "stderr",
     "output_type": "stream",
     "text": [
      "[nltk_data] Downloading package punkt to\n",
      "[nltk_data]     C:\\Users\\hp\\AppData\\Roaming\\nltk_data...\n",
      "[nltk_data]   Package punkt is already up-to-date!\n"
     ]
    },
    {
     "data": {
      "text/plain": [
       "True"
      ]
     },
     "execution_count": 27,
     "metadata": {},
     "output_type": "execute_result"
    }
   ],
   "source": [
    "# Importing 'request' from urllib to fetch web content\n",
    "from urllib import request\n",
    "\n",
    "# Importing nltk and its word tokenizer\n",
    "import nltk\n",
    "from nltk.tokenize import word_tokenize\n",
    "\n",
    "# Downloading the 'punkt' tokenizer model (only required once per environment)\n",
    "nltk.download('punkt')"
   ]
  },
  {
   "cell_type": "code",
   "execution_count": 28,
   "id": "ee9220c3-b70d-43a0-8234-0b9215237fca",
   "metadata": {},
   "outputs": [],
   "source": [
    "# Step 1: Fetch the raw text from a Project Gutenberg eBook\n",
    "url = \"https://www.gutenberg.org/cache/epub/76503/pg76503.txt\"  # Link to the eBook text\n",
    "response = request.urlopen(url)                                # Sending HTTP request and storing response\n",
    "raw = response.read().decode('utf8')                           # Decoding the byte stream into UTF-8 text"
   ]
  },
  {
   "cell_type": "code",
   "execution_count": 29,
   "id": "04a9d689-e6ac-4fd7-bf3b-b1965bab95e6",
   "metadata": {},
   "outputs": [],
   "source": [
    "# Step 2: Tokenize the fetched text into words and punctuation\n",
    "tokens = word_tokenize(raw)  # Using NLTK's tokenizer to split raw text into individual tokens"
   ]
  },
  {
   "cell_type": "code",
   "execution_count": 30,
   "id": "80f76b24-7827-45a7-9c1d-164c91c596b8",
   "metadata": {},
   "outputs": [
    {
     "name": "stdout",
     "output_type": "stream",
     "text": [
      "First 200 tokens from the eBook:\n",
      "['\\ufeffThe', 'Project', 'Gutenberg', 'eBook', 'of', 'The', 'man', 'who', 'mastered', 'time', 'This', 'ebook', 'is', 'for', 'the', 'use', 'of', 'anyone', 'anywhere', 'in', 'the', 'United', 'States', 'and', 'most', 'other', 'parts', 'of', 'the', 'world', 'at', 'no', 'cost', 'and', 'with', 'almost', 'no', 'restrictions', 'whatsoever', '.', 'You', 'may', 'copy', 'it', ',', 'give', 'it', 'away', 'or', 're-use', 'it', 'under', 'the', 'terms', 'of', 'the', 'Project', 'Gutenberg', 'License', 'included', 'with', 'this', 'ebook', 'or', 'online', 'at', 'www.gutenberg.org', '.', 'If', 'you', 'are', 'not', 'located', 'in', 'the', 'United', 'States', ',', 'you', 'will', 'have', 'to', 'check', 'the', 'laws', 'of', 'the', 'country', 'where', 'you', 'are', 'located', 'before', 'using', 'this', 'eBook', '.', 'Title', ':', 'The', 'man', 'who', 'mastered', 'time', 'Author', ':', 'Ray', 'Cummings', 'Illustrator', ':', 'Ed', 'Valigursky', 'Release', 'date', ':', 'July', '14', ',', '2025', '[', 'eBook', '#', '76503', ']', 'Language', ':', 'English', 'Original', 'publication', ':', 'New', 'York', ',', 'NY', ':', 'Ace', 'Books', ',', '1929', 'Credits', ':', 'Greg', 'Weeks', ',', 'Paul', 'Ereaut', ',', 'Mary', 'Meehan', '&', 'the', 'Online', 'Distributed', 'Proofreading', 'Canada', 'Team', 'at', 'http', ':', '//www.pgdpcanada.net', '*', '*', '*', 'START', 'OF', 'THE', 'PROJECT', 'GUTENBERG', 'EBOOK', 'THE', 'MAN', 'WHO', 'MASTERED', 'TIME', '*', '*', '*', 'THE', 'MAN', 'WHO', 'MASTERED', 'TIME', 'RAY', 'CUMMINGS', 'ACE', 'BOOKS', 'A', 'Division', 'of', 'A', '.', 'A.', 'Wyn', ',', 'Inc.', '23', 'West', '47th', 'Street', ',']\n"
     ]
    }
   ],
   "source": [
    "# Step 3: Display the first 200 tokens to verify the output\n",
    "print(\"First 200 tokens from the eBook:\")\n",
    "print(tokens[:200])\n"
   ]
  },
  {
   "cell_type": "code",
   "execution_count": null,
   "id": "c4d16212-e853-4104-b8df-fa0a36486afb",
   "metadata": {},
   "outputs": [],
   "source": []
  }
 ],
 "metadata": {
  "kernelspec": {
   "display_name": "Python 3 (ipykernel)",
   "language": "python",
   "name": "python3"
  },
  "language_info": {
   "codemirror_mode": {
    "name": "ipython",
    "version": 3
   },
   "file_extension": ".py",
   "mimetype": "text/x-python",
   "name": "python",
   "nbconvert_exporter": "python",
   "pygments_lexer": "ipython3",
   "version": "3.12.4"
  }
 },
 "nbformat": 4,
 "nbformat_minor": 5
}
