{
 "cells": [
  {
   "cell_type": "markdown",
   "id": "86bb0f25-b2a4-4ee2-97ff-00b7b1492a4b",
   "metadata": {},
   "source": [
    "# Lab 9 – Common Python Errors and Fixes Using map(), lambda, and Functions\n",
    "**Author:** Praveen Kumar G (22MID0300)  \n",
    "**Date:** August 5, 2025  \n",
    "**Purpose:**  \n",
    "\n"
   ]
  },
  {
   "cell_type": "markdown",
   "id": "a6dda692-182a-441a-90ce-78e93883f769",
   "metadata": {},
   "source": [
    "#### 1) What is a Class?"
   ]
  },
  {
   "cell_type": "markdown",
   "id": "b984c454-aa5a-4089-b46f-a58ab87f0fd8",
   "metadata": {},
   "source": [
    "##### A class is a blueprint for creating objects.\n",
    "##### It defines:\n",
    "\n",
    "##### Variables → to store data\n",
    "\n",
    "##### Methods (functions) → to define behavior"
   ]
  },
  {
   "cell_type": "code",
   "execution_count": 13,
   "id": "296a1a68-c55e-4ed8-8b49-62c6a9ae0f1a",
   "metadata": {},
   "outputs": [
    {
     "name": "stdout",
     "output_type": "stream",
     "text": [
      "<class '__main__.House'>\n"
     ]
    }
   ],
   "source": [
    "class House:\n",
    "    pass\n",
    "\n",
    "# Creating objects from class\n",
    "house1 = House()\n",
    "house2 = House()\n",
    "\n",
    "print(type(house1))  # <class '__main__.House'>\n"
   ]
  },
  {
   "cell_type": "markdown",
   "id": "6137cc54-0ee6-4c68-8f6d-18392688eb3e",
   "metadata": {},
   "source": [
    "####  2) What is an Object?\n",
    "##### An object is an actual instance created from a class — it contains data (variables) and behavior (methods)."
   ]
  },
  {
   "cell_type": "code",
   "execution_count": 18,
   "id": "713ac10f-6eb5-46e1-89f4-de486761d75c",
   "metadata": {},
   "outputs": [
    {
     "name": "stdout",
     "output_type": "stream",
     "text": [
      "Woof!\n"
     ]
    }
   ],
   "source": [
    "class Dog:\n",
    "    def bark(self):\n",
    "        print(\"Woof!\")\n",
    "\n",
    "dog1 = Dog()\n",
    "dog1.bark()  # Woof!\n"
   ]
  },
  {
   "cell_type": "markdown",
   "id": "84b9d4c0-88b5-4267-8758-7561f0e6e93c",
   "metadata": {},
   "source": [
    "#### 3) Variables in OOP"
   ]
  },
  {
   "cell_type": "markdown",
   "id": "33fda3ab-0f59-4576-ae3c-50b77382dc49",
   "metadata": {},
   "source": [
    "##### There are two types:\n",
    "\n",
    "##### (a) Instance Variables\n",
    "##### Unique for each object.\n",
    "\n",
    "##### Created inside __init__ using self."
   ]
  },
  {
   "cell_type": "code",
   "execution_count": 26,
   "id": "d5647869-f396-4bf7-a722-0c4a99d7a956",
   "metadata": {},
   "outputs": [
    {
     "name": "stdout",
     "output_type": "stream",
     "text": [
      "BMW\n",
      "Audi\n"
     ]
    }
   ],
   "source": [
    "class Car:\n",
    "    def __init__(self, brand):\n",
    "        self.brand = brand  # instance variable\n",
    "\n",
    "car1 = Car(\"BMW\")\n",
    "car2 = Car(\"Audi\")\n",
    "\n",
    "print(car1.brand)  # BMW\n",
    "print(car2.brand)  # Audi\n"
   ]
  },
  {
   "cell_type": "markdown",
   "id": "b93d6c67-12f7-46a9-a271-2aa3e28b2a58",
   "metadata": {},
   "source": [
    "##### (b) Class Variables\n",
    "##### Shared by all objects.\n",
    "\n",
    "##### Defined directly inside the class (not inside __init__)."
   ]
  },
  {
   "cell_type": "code",
   "execution_count": 31,
   "id": "c3ffe0bc-3186-42e9-b97b-ce4276c8c27d",
   "metadata": {},
   "outputs": [
    {
     "name": "stdout",
     "output_type": "stream",
     "text": [
      "4\n",
      "4\n"
     ]
    }
   ],
   "source": [
    "class Car:\n",
    "    wheels = 4  # class variable\n",
    "\n",
    "    def __init__(self, brand):\n",
    "        self.brand = brand\n",
    "\n",
    "car1 = Car(\"BMW\")\n",
    "car2 = Car(\"Audi\")\n",
    "\n",
    "print(car1.wheels)  # 4\n",
    "print(car2.wheels)  # 4\n"
   ]
  },
  {
   "cell_type": "markdown",
   "id": "cb6e4e61-9bbc-4ccd-b334-fce6c51baf0f",
   "metadata": {},
   "source": [
    "#### 4) What is a Constructor? (__init__ method)"
   ]
  },
  {
   "cell_type": "markdown",
   "id": "4ef89b7d-dac7-4d0a-89de-ce3dc27128ec",
   "metadata": {},
   "source": [
    "##### The constructor is a special method in Python:\n",
    "\n",
    "##### Name: __init__\n",
    "\n",
    "##### Runs automatically when a new object is created.\n",
    "\n",
    "##### Used to initialize instance variables."
   ]
  },
  {
   "cell_type": "code",
   "execution_count": 35,
   "id": "9340dad9-11ed-4799-a614-0c7611d87bb8",
   "metadata": {},
   "outputs": [
    {
     "name": "stdout",
     "output_type": "stream",
     "text": [
      "Alice\n"
     ]
    }
   ],
   "source": [
    "class Student:\n",
    "    def __init__(self, name, age):\n",
    "        self.name = name\n",
    "        self.age = age\n",
    "\n",
    "s1 = Student(\"Alice\", 20)\n",
    "print(s1.name)  # Alice\n"
   ]
  },
  {
   "cell_type": "markdown",
   "id": "68e24d3a-acc5-4cb9-9edd-e41a354f0dfd",
   "metadata": {},
   "source": [
    "#### 5) Methods"
   ]
  },
  {
   "cell_type": "markdown",
   "id": "aedf8535-72f1-43c9-b0a2-6b56be3fb582",
   "metadata": {},
   "source": [
    "##### Functions inside a class are called methods.\n",
    "\n",
    "##### Instance Method → Works with self (instance data).\n",
    "\n",
    "##### Class Method → Works with cls (class data).\n",
    "\n",
    "##### Static Method → Doesn’t depend on instance or class."
   ]
  },
  {
   "cell_type": "code",
   "execution_count": 39,
   "id": "774e178a-5253-4a4e-8c98-d90edd8d321f",
   "metadata": {},
   "outputs": [
    {
     "name": "stdout",
     "output_type": "stream",
     "text": [
      "This is an instance method.\n",
      "This is a class method.\n",
      "This is a static method.\n"
     ]
    }
   ],
   "source": [
    "class Example:\n",
    "    class_var = \"shared\"\n",
    "\n",
    "    def instance_method(self):\n",
    "        print(\"This is an instance method.\")\n",
    "\n",
    "    @classmethod\n",
    "    def class_method(cls):\n",
    "        print(\"This is a class method.\")\n",
    "\n",
    "    @staticmethod\n",
    "    def static_method():\n",
    "        print(\"This is a static method.\")\n",
    "\n",
    "obj = Example()\n",
    "obj.instance_method()\n",
    "Example.class_method()\n",
    "Example.static_method()\n"
   ]
  },
  {
   "cell_type": "markdown",
   "id": "4cbfaaf5-dfac-49c8-b3f6-51f283f69134",
   "metadata": {},
   "source": [
    "#### 6)Inheritance"
   ]
  },
  {
   "cell_type": "markdown",
   "id": "c1cd0989-6f03-4707-990b-9909e61eda40",
   "metadata": {},
   "source": [
    "##### Inheritance means a class can use properties and methods of another class.\n",
    "##### It allows code reuse.\n",
    "\n",
    "##### Types of Inheritance in Python:\n",
    "##### Single Inheritance → One parent → One child\n",
    "\n",
    "##### Multiple Inheritance → Multiple parents → One child\n",
    "\n",
    "##### Multilevel Inheritance → Parent → Child → Grandchild\n",
    "\n",
    "##### Hierarchical Inheritance → One parent → Multiple children\n",
    "\n",
    "##### Hybrid Inheritance → Combination of above"
   ]
  },
  {
   "cell_type": "code",
   "execution_count": 43,
   "id": "52e0781a-5824-472a-8bde-b6cb1930cfa9",
   "metadata": {},
   "outputs": [
    {
     "name": "stdout",
     "output_type": "stream",
     "text": [
      "Animal speaks\n",
      "Dog barks\n"
     ]
    }
   ],
   "source": [
    "class Animal:\n",
    "    def speak(self):\n",
    "        print(\"Animal speaks\")\n",
    "\n",
    "class Dog(Animal):\n",
    "    def bark(self):\n",
    "        print(\"Dog barks\")\n",
    "\n",
    "d = Dog()\n",
    "d.speak()  # Inherited from Animal\n",
    "d.bark()\n"
   ]
  },
  {
   "cell_type": "code",
   "execution_count": 1,
   "id": "74706ad6-0d43-4979-95d6-0c756e9771df",
   "metadata": {},
   "outputs": [
    {
     "name": "stdout",
     "output_type": "stream",
     "text": [
      "Objects created: 2\n",
      "Objects created: 4\n",
      "Loaded persons:\n",
      "Person(firstname='', lastname='')\n",
      "Person(firstname='', lastname='')\n",
      "Person(firstname='小明', lastname='王')\n",
      "Person(firstname='丽丽', lastname='张')\n"
     ]
    }
   ],
   "source": [
    "import json\n",
    "\n",
    "class Person:\n",
    "    # Class variable to count instances\n",
    "    count = 0\n",
    "    \n",
    "    def __init__(self, firstname='', lastname=''):\n",
    "        self.firstname = firstname\n",
    "        self.lastname = lastname\n",
    "        Person.count += 1\n",
    "    \n",
    "    def __repr__(self):\n",
    "        return f\"Person(firstname='{self.firstname}', lastname='{self.lastname}')\"\n",
    "    \n",
    "    def to_dict(self):\n",
    "        # Prepare dict for JSON serialization\n",
    "        return {'firstname': self.firstname, 'lastname': self.lastname}\n",
    "\n",
    "    @classmethod\n",
    "    def save_to_file(cls, persons, filename):\n",
    "        # Save list of Person objects to file as JSON, UTF-8 encoded\n",
    "        with open(filename, 'w', encoding='utf-8') as f:\n",
    "            json.dump([p.to_dict() for p in persons], f, ensure_ascii=False, indent=2)\n",
    "\n",
    "    @classmethod\n",
    "    def load_from_file(cls, filename):\n",
    "        # Load JSON file and create list of Person objects\n",
    "        persons = []\n",
    "        with open(filename, 'r', encoding='utf-8') as f:\n",
    "            data = json.load(f)\n",
    "            for item in data:\n",
    "                persons.append(cls(item.get('firstname', ''), item.get('lastname', '')))\n",
    "        return persons\n",
    "\n",
    "\n",
    "# --- Example usage ---\n",
    "\n",
    "# Create empty person objects\n",
    "p1 = Person()\n",
    "p2 = Person()\n",
    "\n",
    "print(f\"Objects created: {Person.count}\")  # Should print 2\n",
    "\n",
    "# Create objects with Chinese names\n",
    "p3 = Person('小明', '王')\n",
    "p4 = Person('丽丽', '张')\n",
    "\n",
    "print(f\"Objects created: {Person.count}\")  # Should print 4\n",
    "\n",
    "# Save these persons to a file\n",
    "persons_list = [p1, p2, p3, p4]\n",
    "Person.save_to_file(persons_list, 'persons.json')\n",
    "\n",
    "# Load persons from file\n",
    "loaded_persons = Person.load_from_file('persons.json')\n",
    "print(\"Loaded persons:\")\n",
    "for p in loaded_persons:\n",
    "    print(p)\n"
   ]
  },
  {
   "cell_type": "code",
   "execution_count": 3,
   "id": "61b41ba6-0cc2-4190-9ceb-828c6252b32e",
   "metadata": {},
   "outputs": [
    {
     "name": "stdout",
     "output_type": "stream",
     "text": [
      "Raise amount (class) BEFORE creating any instance: 1.04\n",
      "Number of employees BEFORE: 0\n",
      "--------------------------------------------------\n",
      "Raise amount (class) AFTER creating an instance: 1.04\n",
      "Raise amount accessed via instance: 1.04\n",
      "Number of employees AFTER: 1\n",
      "--------------------------------------------------\n",
      "Employee pay BEFORE applying raise: 50000\n",
      "Employee pay AFTER applying raise: 52000\n"
     ]
    }
   ],
   "source": [
    "# Completed version of your class example and a small demo that prints raise amount\n",
    "class Empl:\n",
    "    no_of_employees = 0    # class variable (counts employees)\n",
    "    raise_amount = 1.04    # class variable (raise multiplier)\n",
    "\n",
    "    def __init__(self, first, last, pay):\n",
    "        self.first = first\n",
    "        self.last = last\n",
    "        self.pay = pay\n",
    "        Empl.no_of_employees += 1     # increment class counter in constructor\n",
    "\n",
    "    def apply_raise(self):\n",
    "        # use the class-level raise_amount (could also use self.raise_amount)\n",
    "        self.pay = int(self.pay * Empl.raise_amount)\n",
    "\n",
    "\n",
    "# Print raise amount BEFORE creating any instance\n",
    "print(\"Raise amount (class) BEFORE creating any instance:\", Empl.raise_amount)\n",
    "print(\"Number of employees BEFORE:\", Empl.no_of_employees)\n",
    "print(\"-\" * 50)\n",
    "\n",
    "# Create an instance\n",
    "emp1 = Empl(\"Alice\", \"Smith\", 50000)\n",
    "\n",
    "# Print raise amount AFTER creating an instance\n",
    "print(\"Raise amount (class) AFTER creating an instance:\", Empl.raise_amount)\n",
    "print(\"Raise amount accessed via instance:\", emp1.raise_amount)\n",
    "print(\"Number of employees AFTER:\", Empl.no_of_employees)\n",
    "print(\"-\" * 50)\n",
    "\n",
    "# Show apply_raise working\n",
    "print(\"Employee pay BEFORE applying raise:\", emp1.pay)\n",
    "emp1.apply_raise()\n",
    "print(\"Employee pay AFTER applying raise:\", emp1.pay)\n"
   ]
  },
  {
   "cell_type": "code",
   "execution_count": null,
   "id": "4e2ba6bd-d0c1-4b0a-a72d-f7c0f87d2d7c",
   "metadata": {},
   "outputs": [],
   "source": []
  }
 ],
 "metadata": {
  "kernelspec": {
   "display_name": "Python 3 (ipykernel)",
   "language": "python",
   "name": "python3"
  },
  "language_info": {
   "codemirror_mode": {
    "name": "ipython",
    "version": 3
   },
   "file_extension": ".py",
   "mimetype": "text/x-python",
   "name": "python",
   "nbconvert_exporter": "python",
   "pygments_lexer": "ipython3",
   "version": "3.12.4"
  }
 },
 "nbformat": 4,
 "nbformat_minor": 5
}
