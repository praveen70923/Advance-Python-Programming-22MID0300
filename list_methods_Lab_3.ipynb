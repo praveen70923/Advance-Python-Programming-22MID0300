{
 "cells": [
  {
   "cell_type": "code",
   "execution_count": 1,
   "id": "6538ac2a-a757-45f7-8b41-ffe8ec9e066e",
   "metadata": {},
   "outputs": [
    {
     "data": {
      "text/plain": [
       "'\\nTitle:   Demonstration of All List Methods in Python with Explanations\\nAuthor:  Praveen Kumar G (22MID0300)\\nDate:    July 22, 2025\\nPurpose: This notebook demonstrates the usage of all commonly used list methods in Python \\n         through examples and brief explanations. Each method is presented with a simple \\n         use case and output to help understand how and when to use it effectively.\\n'"
      ]
     },
     "execution_count": 1,
     "metadata": {},
     "output_type": "execute_result"
    }
   ],
   "source": [
    "\"\"\"\n",
    "Title:   Demonstration of All List Methods in Python with Explanations\n",
    "Author:  Praveen Kumar G (22MID0300)\n",
    "Date:    July 22, 2025\n",
    "Purpose: This notebook demonstrates the usage of all commonly used list methods in Python \n",
    "         through examples and brief explanations. Each method is presented with a simple \n",
    "         use case and output to help understand how and when to use it effectively.\n",
    "\"\"\""
   ]
  },
  {
   "cell_type": "code",
   "execution_count": 2,
   "id": "a9bffca7-7191-485f-abc8-8af58b91e270",
   "metadata": {},
   "outputs": [
    {
     "name": "stdout",
     "output_type": "stream",
     "text": [
      "Initial list of places: ['Paris', 'Ooty', 'Goa']\n"
     ]
    }
   ],
   "source": [
    "#  Let's say we are collecting a list of places a tourist wants to visit\n",
    "places = [\"Paris\", \"Ooty\", \"Goa\"]\n",
    "print(\"Initial list of places:\", places)"
   ]
  },
  {
   "cell_type": "markdown",
   "id": "00dc718e-0886-4504-a796-11a6c3c7c7f0",
   "metadata": {},
   "source": [
    "### 1️) append(): Add one destination to the list"
   ]
  },
  {
   "cell_type": "code",
   "execution_count": 4,
   "id": "aab70edb-e1e4-4b43-8cad-54fc493fff49",
   "metadata": {},
   "outputs": [
    {
     "name": "stdout",
     "output_type": "stream",
     "text": [
      "\n",
      "1. append('Tokyo') – Add one item at the end: ['Paris', 'Ooty', 'Goa', 'Tokyo']\n"
     ]
    }
   ],
   "source": [
    "# Useful when a tourist adds one more place to their plan\n",
    "places.append(\"Tokyo\")\n",
    "print(\"\\n1. append('Tokyo') – Add one item at the end:\", places)"
   ]
  },
  {
   "cell_type": "markdown",
   "id": "e042b1bd-3abb-4d2e-be54-ea4c8a0fb87b",
   "metadata": {},
   "source": [
    "### 2️) extend(): Add multiple places at once"
   ]
  },
  {
   "cell_type": "code",
   "execution_count": 6,
   "id": "4fcee799-1ce5-4b5f-b649-1b7c6e9df163",
   "metadata": {},
   "outputs": [
    {
     "name": "stdout",
     "output_type": "stream",
     "text": [
      "2. extend(['Manali', 'Dubai']) – Add multiple items: ['Paris', 'Ooty', 'Goa', 'Tokyo', 'Manali', 'Dubai']\n"
     ]
    }
   ],
   "source": [
    "# If tourist adds multiple destinations together\n",
    "places.extend([\"Manali\", \"Dubai\"])\n",
    "print(\"2. extend(['Manali', 'Dubai']) – Add multiple items:\", places)"
   ]
  },
  {
   "cell_type": "markdown",
   "id": "c328d424-24d9-4731-82d4-6017d7f382d7",
   "metadata": {},
   "source": [
    "### 3️) insert(): Insert at a specific position"
   ]
  },
  {
   "cell_type": "code",
   "execution_count": 8,
   "id": "793445b9-45b2-451d-9562-b57bc380ffcc",
   "metadata": {},
   "outputs": [
    {
     "name": "stdout",
     "output_type": "stream",
     "text": [
      "3. insert(2, 'Kodaikanal') – Insert at index 2: ['Paris', 'Ooty', 'Kodaikanal', 'Goa', 'Tokyo', 'Manali', 'Dubai']\n"
     ]
    }
   ],
   "source": [
    "# If tourist wants to prioritize a place in 3rd position\n",
    "places.insert(2, \"Kodaikanal\")\n",
    "print(\"3. insert(2, 'Kodaikanal') – Insert at index 2:\", places)"
   ]
  },
  {
   "cell_type": "markdown",
   "id": "49382d2d-ede4-4ff4-9060-056b8f6cb93d",
   "metadata": {},
   "source": [
    "### 4️) remove(): Remove a specific place from plan"
   ]
  },
  {
   "cell_type": "code",
   "execution_count": 10,
   "id": "03f38da9-69ce-4c0f-9084-55445a8b657c",
   "metadata": {},
   "outputs": [
    {
     "name": "stdout",
     "output_type": "stream",
     "text": [
      "4. remove('Goa') – Remove an item by value: ['Paris', 'Ooty', 'Kodaikanal', 'Tokyo', 'Manali', 'Dubai']\n"
     ]
    }
   ],
   "source": [
    "# Tourist changes mind and removes 'Goa'\n",
    "places.remove(\"Goa\")\n",
    "print(\"4. remove('Goa') – Remove an item by value:\", places)"
   ]
  },
  {
   "cell_type": "markdown",
   "id": "4691e7a1-493a-4bfb-a963-26cc80ba0fc3",
   "metadata": {},
   "source": [
    "### 5️) pop(): Remove last added destination"
   ]
  },
  {
   "cell_type": "code",
   "execution_count": 12,
   "id": "15bcd499-e114-4726-b893-ef0e63c9ab4a",
   "metadata": {},
   "outputs": [
    {
     "name": "stdout",
     "output_type": "stream",
     "text": [
      "5. pop() – Remove last item 'Dubai': ['Paris', 'Ooty', 'Kodaikanal', 'Tokyo', 'Manali']\n"
     ]
    }
   ],
   "source": [
    "# Used if tourist drops the last planned place\n",
    "last_place = places.pop()\n",
    "print(f\"5. pop() – Remove last item '{last_place}':\", places)"
   ]
  },
  {
   "cell_type": "markdown",
   "id": "ebf40824-1e44-4833-a122-1159b834f792",
   "metadata": {},
   "source": [
    "### 6️) index(): Find where a specific place is"
   ]
  },
  {
   "cell_type": "code",
   "execution_count": 14,
   "id": "3b8a9b02-d50f-4628-8adc-77a454e3ab04",
   "metadata": {},
   "outputs": [
    {
     "name": "stdout",
     "output_type": "stream",
     "text": [
      "6. index('Ooty') – 'Ooty' is at position: 1\n"
     ]
    }
   ],
   "source": [
    "# Helps locate where 'Ooty' is in the plan\n",
    "index_ooty = places.index(\"Ooty\")\n",
    "print(f\"6. index('Ooty') – 'Ooty' is at position: {index_ooty}\")"
   ]
  },
  {
   "cell_type": "markdown",
   "id": "d646546f-34e6-45f3-b572-58bceca6c799",
   "metadata": {},
   "source": [
    "### 7️) count(): Count how often a place is repeated"
   ]
  },
  {
   "cell_type": "code",
   "execution_count": 16,
   "id": "ff9d6b0f-c4d3-4b7c-974d-14cfbd42cbb9",
   "metadata": {},
   "outputs": [
    {
     "name": "stdout",
     "output_type": "stream",
     "text": [
      "7. count('Paris') – Number of times 'Paris' appears: 2\n"
     ]
    }
   ],
   "source": [
    "# If a tourist mentions 'Paris' again by mistake\n",
    "places.append(\"Paris\")\n",
    "count_paris = places.count(\"Paris\")\n",
    "print(f\"7. count('Paris') – Number of times 'Paris' appears: {count_paris}\")"
   ]
  },
  {
   "cell_type": "markdown",
   "id": "c335b88f-a9e1-48ff-aab1-eebb83ac6774",
   "metadata": {},
   "source": [
    "### 8️) sort(): Sort places alphabetically for display"
   ]
  },
  {
   "cell_type": "code",
   "execution_count": 18,
   "id": "b5b4923b-42bf-4955-a60b-0455e53db947",
   "metadata": {},
   "outputs": [
    {
     "name": "stdout",
     "output_type": "stream",
     "text": [
      "8. sort() – Sorted list A-Z: ['Kodaikanal', 'Manali', 'Ooty', 'Paris', 'Paris', 'Tokyo']\n"
     ]
    }
   ],
   "source": [
    "places.sort()\n",
    "print(\"8. sort() – Sorted list A-Z:\", places)"
   ]
  },
  {
   "cell_type": "markdown",
   "id": "fdd55b1a-82f1-4728-ad07-bd76e9d19444",
   "metadata": {},
   "source": [
    "### 9️) reverse(): Reverse the sorted list for Z-A view"
   ]
  },
  {
   "cell_type": "code",
   "execution_count": 20,
   "id": "36443566-084a-4ac0-9421-00e1646414a5",
   "metadata": {},
   "outputs": [
    {
     "name": "stdout",
     "output_type": "stream",
     "text": [
      "9. reverse() – Reversed order Z-A: ['Tokyo', 'Paris', 'Paris', 'Ooty', 'Manali', 'Kodaikanal']\n"
     ]
    }
   ],
   "source": [
    "places.reverse()\n",
    "print(\"9. reverse() – Reversed order Z-A:\", places)"
   ]
  },
  {
   "cell_type": "code",
   "execution_count": 21,
   "id": "1c5bc00a-39ed-417f-afe5-a07b088e80fd",
   "metadata": {},
   "outputs": [
    {
     "data": {
      "text/plain": [
       "'\\nTitle:   Tourist Agent Tool – Python List Method Showcase\\nAuthor:  Praveen Kumar G (22MID0300)\\nDate:    July 22, 2025\\nPurpose: To demonstrate the use of 9 essential Python list methods in a real-world simulation\\n         of a tourist agent assistant. The program accepts visited places, identifies hill stations,\\n         manages and modifies a showcase list, and recommends new destinations.\\n\\nList Methods Demonstrated:\\n    1. append()   – Add visited places and duplicates\\n    2. extend()   – Combine lists for showcase and recommendations\\n    3. copy()     – Clone original list to preserve data\\n    4. insert()   – Add featured package at the top\\n    5. remove()   – Delete a featured package\\n    6. pop()      – Remove the last visited place\\n    7. index()    – Find the position of a hill station\\n    8. count()    – Count duplicate visits\\n    9. sort(), reverse() – Sort and reverse the showcase list\\n\\nFinal Output:\\n    Organized visited and recommended places list\\n    Travel suggestions with hill stations prioritized\\n'"
      ]
     },
     "execution_count": 21,
     "metadata": {},
     "output_type": "execute_result"
    }
   ],
   "source": [
    "\"\"\"\n",
    "Title:   Tourist Agent Tool – Python List Method Showcase\n",
    "Author:  Praveen Kumar G (22MID0300)\n",
    "Date:    July 22, 2025\n",
    "Purpose: To demonstrate the use of 9 essential Python list methods in a real-world simulation\n",
    "         of a tourist agent assistant. The program accepts visited places, identifies hill stations,\n",
    "         manages and modifies a showcase list, and recommends new destinations.\n",
    "\n",
    "List Methods Demonstrated:\n",
    "    1. append()   – Add visited places and duplicates\n",
    "    2. extend()   – Combine lists for showcase and recommendations\n",
    "    3. copy()     – Clone original list to preserve data\n",
    "    4. insert()   – Add featured package at the top\n",
    "    5. remove()   – Delete a featured package\n",
    "    6. pop()      – Remove the last visited place\n",
    "    7. index()    – Find the position of a hill station\n",
    "    8. count()    – Count duplicate visits\n",
    "    9. sort(), reverse() – Sort and reverse the showcase list\n",
    "\n",
    "Final Output:\n",
    "    Organized visited and recommended places list\n",
    "    Travel suggestions with hill stations prioritized\n",
    "\"\"\"\n"
   ]
  },
  {
   "cell_type": "markdown",
   "id": "08291cd7-f186-4bd6-b2c4-cc1ac42b7713",
   "metadata": {},
   "source": [
    "###  Step 1: Define known destination categories"
   ]
  },
  {
   "cell_type": "code",
   "execution_count": 23,
   "id": "0b42e33d-7d0e-4740-94db-865905a35908",
   "metadata": {},
   "outputs": [],
   "source": [
    "HILL_STATIONS = [\n",
    "    \"Ooty\", \"Kodaikanal\", \"Munnar\", \"Manali\", \"Shimla\", \"Darjeeling\",\n",
    "    \"Nainital\", \"Gangtok\", \"Coorg\", \"Mount Abu\", \"Gulmarg\", \"Leh\"\n",
    "]\n",
    "\n",
    "RECOMMENDED_MASTER = [\n",
    "    \"Paris\", \"London\", \"New York\", \"Tokyo\", \"Dubai\", \"Rome\", \"Bali\", \"Goa\",\n",
    "    \"Ooty\", \"Manali\", \"Munnar\", \"Jaipur\", \"Singapore\", \"Sydney\"\n",
    "]"
   ]
  },
  {
   "cell_type": "code",
   "execution_count": 24,
   "id": "dbe5c98e-e28c-4d71-a246-9c55a07aa60a",
   "metadata": {},
   "outputs": [],
   "source": [
    "#  Helper functions\n",
    "def normalize(name):\n",
    "    return name.strip().title()\n",
    "\n",
    "def is_hill_station(place):\n",
    "    return normalize(place) in HILL_STATIONS\n"
   ]
  },
  {
   "cell_type": "markdown",
   "id": "afc489b7-c417-45cd-a100-4fd34438603e",
   "metadata": {},
   "source": [
    "### Step 2: Get user input"
   ]
  },
  {
   "cell_type": "code",
   "execution_count": 26,
   "id": "c0a1998d-3b4f-416f-94e1-e979688fac77",
   "metadata": {},
   "outputs": [
    {
     "name": "stdin",
     "output_type": "stream",
     "text": [
      "How many places have you visited?  3\n"
     ]
    },
    {
     "name": "stdout",
     "output_type": "stream",
     "text": [
      "\n",
      "Enter the place names one by one:\n"
     ]
    },
    {
     "name": "stdin",
     "output_type": "stream",
     "text": [
      "  Place 1:  ooty\n",
      "  Place 2:  Tokyo\n",
      "  Place 3:  Coorg\n"
     ]
    },
    {
     "name": "stdout",
     "output_type": "stream",
     "text": [
      "\n",
      " Visited Places: ['Ooty', 'Tokyo', 'Coorg']\n"
     ]
    }
   ],
   "source": [
    "try:\n",
    "    n = int(input(\"How many places have you visited? \"))\n",
    "except ValueError:\n",
    "    print(\"Invalid input. Defaulting to 0.\")\n",
    "    n = 0\n",
    "\n",
    "visited = []\n",
    "print(\"\\nEnter the place names one by one:\")\n",
    "for i in range(n):\n",
    "    place = input(f\"  Place {i+1}: \")\n",
    "    visited.append(normalize(place))  # append()\n",
    "\n",
    "print(\"\\n Visited Places:\", visited)"
   ]
  },
  {
   "cell_type": "markdown",
   "id": "83c1ce50-8a01-45bf-89d1-35c45070b279",
   "metadata": {},
   "source": [
    "### Step 3: Categorize places"
   ]
  },
  {
   "cell_type": "code",
   "execution_count": 28,
   "id": "e4fbea79-832c-4ae7-9d8b-6292c58e1100",
   "metadata": {},
   "outputs": [],
   "source": [
    "visited_hills = []\n",
    "visited_other = []\n",
    "for place in visited:\n",
    "    if is_hill_station(place):\n",
    "        visited_hills.append(place)\n",
    "    else:\n",
    "        visited_other.append(place)"
   ]
  },
  {
   "cell_type": "markdown",
   "id": "21c7c5c0-cd62-432d-90b1-ac46df5e063a",
   "metadata": {},
   "source": [
    "### Step 4: Prioritize hill stations if they are the majority"
   ]
  },
  {
   "cell_type": "code",
   "execution_count": 30,
   "id": "4136c496-a28c-43ad-bed2-71a72cc63778",
   "metadata": {},
   "outputs": [
    {
     "name": "stdout",
     "output_type": "stream",
     "text": [
      "\n",
      " Showcase List: ['Ooty', 'Coorg', 'Tokyo']\n"
     ]
    }
   ],
   "source": [
    "showcase = []\n",
    "if len(visited_hills) >= len(visited) / 2:\n",
    "    showcase.extend(visited_hills)       # extend()\n",
    "    showcase.extend(visited_other)\n",
    "else:\n",
    "    showcase = visited.copy()            # copy()\n",
    "\n",
    "print(\"\\n Showcase List:\", showcase)\n"
   ]
  },
  {
   "cell_type": "markdown",
   "id": "701238a1-7840-4825-8338-b30baea5b944",
   "metadata": {},
   "source": [
    "### insert() example"
   ]
  },
  {
   "cell_type": "code",
   "execution_count": 32,
   "id": "f68c5269-ff83-4bd6-be1f-e67ebc433132",
   "metadata": {},
   "outputs": [
    {
     "name": "stdout",
     "output_type": "stream",
     "text": [
      "\n",
      "After insert(): [' Featured Hill Package', 'Ooty', 'Coorg', 'Tokyo']\n"
     ]
    }
   ],
   "source": [
    "showcase.insert(0, \" Featured Hill Package\")\n",
    "print(\"\\nAfter insert():\", showcase)\n"
   ]
  },
  {
   "cell_type": "markdown",
   "id": "b4826d4e-6621-4b35-a24f-e15d3cc851e6",
   "metadata": {},
   "source": [
    "### remove() example"
   ]
  },
  {
   "cell_type": "code",
   "execution_count": 34,
   "id": "07e820f9-6c8e-44d9-8dff-ffff0b15c1d1",
   "metadata": {},
   "outputs": [
    {
     "name": "stdout",
     "output_type": "stream",
     "text": [
      "\n",
      "After remove(): ['Ooty', 'Coorg', 'Tokyo']\n"
     ]
    }
   ],
   "source": [
    "showcase.remove(\" Featured Hill Package\")\n",
    "print(\"\\nAfter remove():\", showcase)"
   ]
  },
  {
   "cell_type": "markdown",
   "id": "7f4b55c6-ab51-457e-91d1-8bdfca0c0389",
   "metadata": {},
   "source": [
    "###  pop() example"
   ]
  },
  {
   "cell_type": "code",
   "execution_count": 36,
   "id": "236817be-5b77-4972-9b74-d18b1f9a46d2",
   "metadata": {},
   "outputs": [
    {
     "name": "stdout",
     "output_type": "stream",
     "text": [
      "\n",
      "After pop(): Removed 'Tokyo' → ['Ooty', 'Coorg']\n"
     ]
    }
   ],
   "source": [
    "if showcase:\n",
    "    removed = showcase.pop()\n",
    "    print(f\"\\nAfter pop(): Removed '{removed}' →\", showcase)"
   ]
  },
  {
   "cell_type": "markdown",
   "id": "a6a328c4-8602-4976-8378-5cea0a93162a",
   "metadata": {},
   "source": [
    "###  index() example"
   ]
  },
  {
   "cell_type": "code",
   "execution_count": 38,
   "id": "820b1e67-e750-429c-a053-5a529bc5202c",
   "metadata": {},
   "outputs": [
    {
     "name": "stdout",
     "output_type": "stream",
     "text": [
      "\n",
      "First hill station 'Ooty' at index: 0\n"
     ]
    }
   ],
   "source": [
    "for place in showcase:\n",
    "    if is_hill_station(place):\n",
    "        idx = showcase.index(place)\n",
    "        print(f\"\\nFirst hill station '{place}' at index: {idx}\")\n",
    "        break"
   ]
  },
  {
   "cell_type": "markdown",
   "id": "af58e26d-9ab1-4ddc-90b6-233251bb4d12",
   "metadata": {},
   "source": [
    "### count() example"
   ]
  },
  {
   "cell_type": "code",
   "execution_count": 40,
   "id": "f43d2a75-44ec-49ae-8628-aa7963a0a00c",
   "metadata": {},
   "outputs": [
    {
     "name": "stdout",
     "output_type": "stream",
     "text": [
      "\n",
      "After appending duplicate 'Ooty': count = 2\n"
     ]
    }
   ],
   "source": [
    "if visited_hills:\n",
    "    dup = visited_hills[0]\n",
    "    showcase.append(dup)\n",
    "    print(f\"\\nAfter appending duplicate '{dup}': count = {showcase.count(dup)}\")"
   ]
  },
  {
   "cell_type": "markdown",
   "id": "58acee9a-91ac-4629-a41c-bcb4818afc14",
   "metadata": {},
   "source": [
    "### sort() and reverse()"
   ]
  },
  {
   "cell_type": "code",
   "execution_count": 42,
   "id": "4bd6b95a-5550-4ac9-ac62-eef05971f2ce",
   "metadata": {},
   "outputs": [
    {
     "name": "stdout",
     "output_type": "stream",
     "text": [
      "\n",
      " Sorted List: ['Coorg', 'Ooty', 'Ooty']\n",
      " Reversed Sorted List: ['Ooty', 'Ooty', 'Coorg']\n"
     ]
    }
   ],
   "source": [
    "sorted_copy = showcase.copy()\n",
    "sorted_copy.sort()\n",
    "print(\"\\n Sorted List:\", sorted_copy)\n",
    "sorted_copy.reverse()\n",
    "print(\" Reversed Sorted List:\", sorted_copy)"
   ]
  },
  {
   "cell_type": "markdown",
   "id": "82ad5aea-0702-4535-a72b-8e1655d71e69",
   "metadata": {},
   "source": [
    "###  Step 5: Recommend new places"
   ]
  },
  {
   "cell_type": "code",
   "execution_count": 44,
   "id": "3e61ead8-84e0-4fe2-8a58-a79ea3e948d3",
   "metadata": {},
   "outputs": [],
   "source": [
    "recommend = RECOMMENDED_MASTER.copy()\n",
    "for place in visited:\n",
    "    while normalize(place) in recommend:\n",
    "        recommend.remove(normalize(place))"
   ]
  },
  {
   "cell_type": "markdown",
   "id": "49387498-9a2f-4687-89b0-08ce29f6b881",
   "metadata": {},
   "source": [
    "### Step 6: Ticket Suggestions – Hill stations first"
   ]
  },
  {
   "cell_type": "code",
   "execution_count": 46,
   "id": "8ab358fe-61f5-47b0-98ff-04bb2b8df1ca",
   "metadata": {},
   "outputs": [
    {
     "name": "stdout",
     "output_type": "stream",
     "text": [
      "\n",
      " Suggested Ticket List (Hill Stations First): ['Kodaikanal', 'Munnar', 'Manali', 'Shimla', 'Darjeeling', 'Nainital', 'Gangtok', 'Mount Abu', 'Gulmarg', 'Leh', 'Paris', 'London', 'New York', 'Dubai', 'Rome', 'Bali', 'Goa', 'Jaipur', 'Singapore', 'Sydney']\n",
      "\n",
      " All 9 list methods demonstrated professionally!\n"
     ]
    }
   ],
   "source": [
    "to_visit = [p for p in HILL_STATIONS if p not in visited]\n",
    "to_visit.extend([p for p in recommend if p not in to_visit])\n",
    "print(\"\\n Suggested Ticket List (Hill Stations First):\", to_visit)\n",
    "\n",
    "print(\"\\n All 9 list methods demonstrated professionally!\")"
   ]
  },
  {
   "cell_type": "code",
   "execution_count": null,
   "id": "66d6acaa-3261-4a76-b83d-79187dfb8f84",
   "metadata": {},
   "outputs": [],
   "source": []
  }
 ],
 "metadata": {
  "kernelspec": {
   "display_name": "Python 3 (ipykernel)",
   "language": "python",
   "name": "python3"
  },
  "language_info": {
   "codemirror_mode": {
    "name": "ipython",
    "version": 3
   },
   "file_extension": ".py",
   "mimetype": "text/x-python",
   "name": "python",
   "nbconvert_exporter": "python",
   "pygments_lexer": "ipython3",
   "version": "3.12.4"
  }
 },
 "nbformat": 4,
 "nbformat_minor": 5
}
