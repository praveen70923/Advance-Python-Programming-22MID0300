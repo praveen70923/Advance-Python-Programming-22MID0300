{
 "cells": [
  {
   "cell_type": "markdown",
   "id": "ae8a83fa-5d7d-4c23-9f70-bf9e9a9042a8",
   "metadata": {},
   "source": [
    "# Multithreading Example – Printing Names and Ages\n",
    "\n",
    "**Author:** Praveen Kumar G (22MID0300)  \n",
    "**Date:** September 02, 2025  \n",
    "**Course/Assessment:** Python Threading & Concurrency Concepts  \n",
    "\n",
    "---\n",
    "\n",
    "##  Objective\n",
    "To demonstrate sequential execution of two tasks:  \n",
    "1. Printing names with random delays.  \n",
    "2. Printing random ages with random delays.  \n",
    "\n",
    "This helps understand how tasks normally run **one after the other** without threading.\n",
    "\n",
    "---"
   ]
  },
  {
   "cell_type": "code",
   "execution_count": 1,
   "id": "1dca8682-a0d5-4365-a4f9-c496bb7a9c4a",
   "metadata": {},
   "outputs": [
    {
     "name": "stdout",
     "output_type": "stream",
     "text": [
      "John\n",
      "Mark\n",
      "Elon\n",
      "Callahan\n",
      "27\n",
      "33\n",
      "26\n",
      "44\n"
     ]
    }
   ],
   "source": [
    "import threading   # Importing threading module (though not used here, can be used later for parallel execution)\n",
    "import time        # Importing time module for adding delays\n",
    "import random      # Importing random module for generating random numbers and random delays\n",
    "\n",
    "def print_names():\n",
    "    for name in ('John', 'Mark', 'Elon', 'Callahan'):  # Loop through a tuple of names\n",
    "        print(name)                                    # Print the current name\n",
    "        time.sleep(random.uniform(0.5, 1.5))           # Pause for a random time between 0.5 to 1.5 seconds\n",
    "\n",
    "# Function to print random ages with a delay\n",
    "def print_ages():\n",
    "    for _ in range(4):                                 # Loop 4 times (since there are 4 names)\n",
    "        print(random.randint(20, 50))                  # Print a random age between 20 and 50\n",
    "        time.sleep(random.uniform(0.5, 1.5))           # Pause for a random time between 0.5 to 1.5 seconds\n",
    "\n",
    "# Calling the functions sequentially\n",
    "print_names()                                          # Prints names first\n",
    "print_ages()                                          # Prints ages after names are done\n"
   ]
  },
  {
   "cell_type": "code",
   "execution_count": 2,
   "id": "a0fb2354-52a6-4081-96f2-cef95ebaf15f",
   "metadata": {},
   "outputs": [
    {
     "name": "stdout",
     "output_type": "stream",
     "text": [
      "John\n",
      "20\n"
     ]
    }
   ],
   "source": [
    "import threading   # Import threading module to run multiple functions concurrently\n",
    "import time        # Import time module for adding delays\n",
    "import random      # Import random module for random delays and random ages\n",
    "\n",
    "# Function to print names with random delays\n",
    "def print_names():\n",
    "    for name in ('John', 'Mark', 'Elon', 'Callahan'):    # Iterate over a tuple of names\n",
    "        print(name)                                      # Print each name\n",
    "        time.sleep(random.uniform(0.5, 1.5))             # Pause randomly between 0.5–1.5 seconds\n",
    "\n",
    "# Function to print random ages with random delays\n",
    "def print_ages():\n",
    "    for _ in range(4):                                   # Loop 4 times (same as number of names)\n",
    "        print(random.randint(20, 50))                    # Print a random age between 20 and 50\n",
    "        time.sleep(random.uniform(0.5, 1.5))             # Pause randomly between 0.5–1.5 seconds\n",
    "\n",
    "# Create threads that will run the functions concurrently\n",
    "t1 = threading.Thread(target=print_names)   # Thread for printing names\n",
    "t2 = threading.Thread(target=print_ages)    # Thread for printing ages\n",
    "\n",
    "# The threads are created but not yet running\n",
    "# To start execution, we use start()\n",
    "t1.start()    # Start thread t1 (names)\n",
    "t2.start()    # Start thread t2 (ages)\n",
    "\n",
    "# Join ensures the main program waits for the threads to finish before continuing\n",
    "# (Uncomment the lines below if you want to ensure both threads complete before program exits)\n",
    "# t1.join()\n",
    "# t2.join()\n"
   ]
  },
  {
   "cell_type": "markdown",
   "id": "726cc1d5-d14c-4b0b-bcf9-a97eb1695de7",
   "metadata": {},
   "source": [
    "#### How it works now (above code):  \n",
    "\n",
    "t1 and t2 run concurrently.\n",
    "\n",
    "This means names and ages will be printed interleaved instead of sequentially.\n",
    "\n",
    "Without join(), the program may exit before threads finish, but in most short runs, they still complete."
   ]
  },
  {
   "cell_type": "code",
   "execution_count": 3,
   "id": "57106c89-ca80-41ac-8b99-2be8001cb987",
   "metadata": {},
   "outputs": [
    {
     "name": "stdout",
     "output_type": "stream",
     "text": [
      "John\n",
      "41\n",
      "31\n",
      "Mark\n",
      "45\n",
      "Mark\n",
      "Elon\n",
      "Elon\n",
      "28\n",
      "39\n",
      "Callahan\n",
      "Callahan\n",
      "20\n",
      "20\n"
     ]
    }
   ],
   "source": [
    "import threading   # Import threading module to create and manage threads\n",
    "import time        # Import time module to add delays (sleep)\n",
    "import random      # Import random module for random delays and random numbers\n",
    "\n",
    "# Function to print names with a random delay between each\n",
    "def print_names():\n",
    "    for name in ('John', 'Mark', 'Elon', 'Callahan'):     # Loop through a list of names\n",
    "        print(name)                                       # Print the current name\n",
    "        time.sleep(random.uniform(0.5, 1.5))              # Sleep for a random time between 0.5–1.5 seconds\n",
    "\n",
    "# Function to print random ages with a random delay between each\n",
    "def print_ages():\n",
    "    for _ in range(4):                                    # Repeat 4 times (to match 4 names)\n",
    "        print(random.randint(20, 50))                     # Print a random age between 20 and 50\n",
    "        time.sleep(random.uniform(0.5, 1.5))              # Sleep for a random time between 0.5–1.5 seconds\n",
    "\n",
    "# Create two threads to run the functions concurrently\n",
    "t1 = threading.Thread(target=print_names)   # Thread t1 will execute print_names()\n",
    "t2 = threading.Thread(target=print_ages)    # Thread t2 will execute print_ages()\n",
    "\n",
    "# Threads are created but not yet running\n",
    "# Start them to run concurrently\n",
    "t1.start()\n",
    "t2.start()\n",
    "\n",
    "# Use join() to ensure the main program waits\n",
    "# until both threads have finished execution\n",
    "t1.join()\n",
    "t2.join()\n"
   ]
  },
  {
   "cell_type": "markdown",
   "id": "19813b69-55c3-4d06-8ab7-dde30a98ae93",
   "metadata": {},
   "source": [
    "#### Now what happens (above code):    \n",
    "\n",
    "Both threads (t1 and t2) start almost simultaneously.\n",
    "\n",
    "Names and ages will be printed interleaved depending on random delays.\n",
    "\n",
    "Because of join(), the program will not exit prematurely — it will wait until both threads complete."
   ]
  },
  {
   "cell_type": "code",
   "execution_count": 4,
   "id": "77da0874-15bd-4243-b11e-6471333c7f73",
   "metadata": {},
   "outputs": [],
   "source": [
    "#The execution moves between the threads when one is sleeping to the other"
   ]
  },
  {
   "cell_type": "code",
   "execution_count": 5,
   "id": "e00c4fa4-765d-41e3-b254-905cfe0391e8",
   "metadata": {},
   "outputs": [
    {
     "name": "stdout",
     "output_type": "stream",
     "text": [
      "Downloading https://github.com/praveen70923/Advance-Python-Programming-22MID0300/blob/main/Lab%2011_python_threading_1.ipynb to Downloads/Lab%2011_python_threading_1.ipynb\n",
      "Downloading https://github.com/praveen70923/Advance-Python-Programming-22MID0300/blob/main/Lab%2011_python_threading_1.ipynb to Downloads/Lab%2011_python_threading_1.ipynb\n",
      "Finished Downloading Downloads/Lab%2011_python_threading_1.ipynb\n",
      "Finished Downloading Downloads/Lab%2011_python_threading_1.ipynb\n"
     ]
    },
    {
     "data": {
      "text/plain": [
       "[None, None]"
      ]
     },
     "execution_count": 5,
     "metadata": {},
     "output_type": "execute_result"
    }
   ],
   "source": [
    "import threading\n",
    "import requests\n",
    "from pathlib import Path\n",
    "\n",
    "# Function to download a file from a given URL and save it locally\n",
    "def download_file(url, filename):\n",
    "    print(f'Downloading {url} to {filename}')\n",
    "    response = requests.get(url)   # Send HTTP GET request to fetch file content\n",
    "    Path(filename).write_bytes(response.content)  # Save file to local storage\n",
    "    print(f'Finished Downloading {filename}')\n",
    "\n",
    "#  Base URL should point to raw GitHub content, not the repo page\n",
    "# Example format: https://raw.githubusercontent.com/<username>/<repo>/<branch>/<path-to-file>\n",
    "base_url = \"https://github.com/praveen70923/Advance-Python-Programming-22MID0300/blob/main/Lab%2011_python_threading_1.ipynb\"\n",
    "\n",
    "# List of files you want to download from your GitHub repository\n",
    "urls = [\n",
    "    f'{base_url}',   # Example file\n",
    "    f'{base_url}',  # Example file\n",
    "]\n",
    "\n",
    "threads = []  # To store thread objects\n",
    "\n",
    "# Loop through URLs and start downloading files concurrently\n",
    "for url in urls:\n",
    "    filename = \"Downloads/\" + url.split(\"/\")[-1]  # Save files inside Downloads/ folder\n",
    "    t = threading.Thread(target=download_file, args=(url, filename))  \n",
    "    t.start()          # Start the thread (file download begins)\n",
    "    threads.append(t)  # Keep track of all threads\n",
    "\n",
    "# Ensure all downloads finish before moving ahead\n",
    "[t.join() for t in threads]\n"
   ]
  },
  {
   "cell_type": "code",
   "execution_count": null,
   "id": "b8390d28-7bd8-4607-9778-d5340d8ab10b",
   "metadata": {},
   "outputs": [],
   "source": []
  }
 ],
 "metadata": {
  "kernelspec": {
   "display_name": "Python 3 (ipykernel)",
   "language": "python",
   "name": "python3"
  },
  "language_info": {
   "codemirror_mode": {
    "name": "ipython",
    "version": 3
   },
   "file_extension": ".py",
   "mimetype": "text/x-python",
   "name": "python",
   "nbconvert_exporter": "python",
   "pygments_lexer": "ipython3",
   "version": "3.12.4"
  }
 },
 "nbformat": 4,
 "nbformat_minor": 5
}
