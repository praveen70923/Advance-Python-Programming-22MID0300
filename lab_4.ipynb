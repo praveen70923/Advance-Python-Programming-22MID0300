{
 "cells": [
  {
   "cell_type": "code",
   "execution_count": 1,
   "id": "65805e6c-3575-4a41-a10a-ca1a1d77d24c",
   "metadata": {},
   "outputs": [
    {
     "name": "stdout",
     "output_type": "stream",
     "text": [
      "pravnn\n"
     ]
    }
   ],
   "source": [
    "G = \"praveen\"\n",
    "G= G.replace('ee','n')\n",
    "print(G)"
   ]
  },
  {
   "cell_type": "code",
   "execution_count": 18,
   "id": "ae845d28-59bd-4373-8da9-1d1bc2d6ddfd",
   "metadata": {},
   "outputs": [],
   "source": [
    "def factorial(n):\n",
    "    result =1\n",
    "    for i in range(1,n+1):\n",
    "        result*=i\n",
    "    return result"
   ]
  },
  {
   "cell_type": "code",
   "execution_count": 21,
   "id": "f35a9c1e-3019-4dda-9006-8cbc47a5622c",
   "metadata": {},
   "outputs": [
    {
     "name": "stdin",
     "output_type": "stream",
     "text": [
      "enter a number: 100\n"
     ]
    },
    {
     "name": "stdout",
     "output_type": "stream",
     "text": [
      "Factorial: 93326215443944152681699238856266700490715968264381621468592963895217599993229915608941463976156518286253697920827223758251185210916864000000000000000000000000\n"
     ]
    }
   ],
   "source": [
    "num = int(input(\"enter a number:\"))\n",
    "print(\"Factorial:\",factorial(num))"
   ]
  },
  {
   "cell_type": "code",
   "execution_count": 6,
   "id": "f85f0397-add5-426a-8142-4c51116ac3c7",
   "metadata": {},
   "outputs": [
    {
     "name": "stdout",
     "output_type": "stream",
     "text": [
      "128700820785792\n",
      "128700820793520\n",
      "praveenkumar\n"
     ]
    }
   ],
   "source": [
    "g1=\"praveen\"\n",
    "print(id(g1))\n",
    "g2=\"kumar\"\n",
    "print(id(g2))\n",
    "\n",
    "g=g1+g2\n",
    "print(g)"
   ]
  },
  {
   "cell_type": "code",
   "execution_count": 7,
   "id": "3518dd29-140e-4a75-acac-83a947983649",
   "metadata": {},
   "outputs": [
    {
     "name": "stdout",
     "output_type": "stream",
     "text": [
      "Ω\n"
     ]
    }
   ],
   "source": [
    "print('\\u03A9')"
   ]
  },
  {
   "cell_type": "code",
   "execution_count": 8,
   "id": "2725e548-c17b-49fa-8d12-83b3a1704a8f",
   "metadata": {},
   "outputs": [],
   "source": [
    "import unicodedata\n",
    "omega = unicodedata.lookup('GREEK CAPITAL LETTER OMEGA')\n",
    "smiley= unicodedata.lookup('GRINNING FACE')"
   ]
  },
  {
   "cell_type": "code",
   "execution_count": 9,
   "id": "3e38418f-3ed9-4dc6-a78d-a3ac3eaea0db",
   "metadata": {},
   "outputs": [
    {
     "name": "stdout",
     "output_type": "stream",
     "text": [
      "Ω\n"
     ]
    }
   ],
   "source": [
    "print(omega)"
   ]
  },
  {
   "cell_type": "code",
   "execution_count": 10,
   "id": "995c6a57-82a3-4d93-998c-a5bae9d71132",
   "metadata": {},
   "outputs": [
    {
     "name": "stdout",
     "output_type": "stream",
     "text": [
      "😀\n"
     ]
    }
   ],
   "source": [
    "print(smiley)"
   ]
  },
  {
   "cell_type": "code",
   "execution_count": 11,
   "id": "a1770fc9-8e4a-4eb5-9a3d-9a05e4343ce9",
   "metadata": {},
   "outputs": [
    {
     "name": "stdout",
     "output_type": "stream",
     "text": [
      "<class 'type'> 😀\n"
     ]
    }
   ],
   "source": [
    "print(type,smiley)"
   ]
  },
  {
   "cell_type": "code",
   "execution_count": 16,
   "id": "dc24a4a8-f6d9-459a-9cd8-87508160dcce",
   "metadata": {},
   "outputs": [
    {
     "name": "stdin",
     "output_type": "stream",
     "text": [
      "Enter an emoji:  😀\n"
     ]
    },
    {
     "name": "stdout",
     "output_type": "stream",
     "text": [
      "The Unicode of '😀' is U+1F600\n",
      "The Unicode of '😀' is U+1F600\n"
     ]
    }
   ],
   "source": [
    "def get_emoji_unicode(emoji_char):\n",
    "\n",
    "    code_point = ord(emoji_char)\n",
    "    return f\"U+{code_point:X}\"\n",
    "\n",
    "emoji_input = input(\"Enter an emoji: \")\n",
    "unicode_output = get_emoji_unicode(emoji_input)\n",
    "print(f\"The Unicode of '{emoji_input}' is {unicode_output}\")\n",
    "\n",
    "smiley_emoji = \"😀\"\n",
    "unicode_smiley = get_emoji_unicode(smiley_emoji)\n",
    "print(f\"The Unicode of '{smiley_emoji}' is {unicode_smiley}\")\n"
   ]
  },
  {
   "cell_type": "code",
   "execution_count": 22,
   "id": "1398e47d-c9a8-4260-8467-5c9e9363c660",
   "metadata": {},
   "outputs": [
    {
     "name": "stdout",
     "output_type": "stream",
     "text": [
      "Requirement already satisfied: nltk in /home/software/software/lib/python3.12/site-packages (3.8.1)\n",
      "Requirement already satisfied: click in /home/software/software/lib/python3.12/site-packages (from nltk) (8.1.7)\n",
      "Requirement already satisfied: joblib in /home/software/software/lib/python3.12/site-packages (from nltk) (1.4.2)\n",
      "Requirement already satisfied: regex>=2021.8.3 in /home/software/software/lib/python3.12/site-packages (from nltk) (2023.10.3)\n",
      "Requirement already satisfied: tqdm in /home/software/software/lib/python3.12/site-packages (from nltk) (4.66.4)\n",
      "Note: you may need to restart the kernel to use updated packages.\n"
     ]
    }
   ],
   "source": [
    "pip install nltk"
   ]
  },
  {
   "cell_type": "code",
   "execution_count": 23,
   "id": "7f6ef5fd-2c51-4c64-a226-f3fde5e33865",
   "metadata": {},
   "outputs": [
    {
     "name": "stdout",
     "output_type": "stream",
     "text": [
      "The Unicode of '你' is U+4F60\n",
      "The Unicode of '好' is U+597D\n"
     ]
    },
    {
     "name": "stdin",
     "output_type": "stream",
     "text": [
      "Enter any character:  你\n"
     ]
    },
    {
     "name": "stdout",
     "output_type": "stream",
     "text": [
      "The Unicode of '你' is U+4F60\n"
     ]
    }
   ],
   "source": [
    "def get_char_unicode(character):\n",
    "    \"\"\"\n",
    "    Returns the Unicode representation (code point) of a single character.\n",
    "    \"\"\"\n",
    "    code_point = ord(character)\n",
    "    return f\"U+{code_point:X}\"\n",
    "\n",
    "# Example with a Chinese character:\n",
    "chinese_char = \"你好\" # This is \"ni hao\", meaning \"hello\" in Mandarin Chinese\n",
    "for char in chinese_char: # Iterate through each character in the string\n",
    "    unicode_output = get_char_unicode(char)\n",
    "    print(f\"The Unicode of '{char}' is {unicode_output}\")\n",
    "b\n",
    "# You can also get input from the user for any character:\n",
    "input_char = input(\"Enter any character: \")\n",
    "if len(input_char) == 1:\n",
    "    unicode_output = get_char_unicode(input_char)\n",
    "    print(f\"The Unicode of '{input_char}' is {unicode_output}\")\n",
    "else:\n",
    "    print(\"Please enter only one character at a time.\")\n"
   ]
  },
  {
   "cell_type": "code",
   "execution_count": 30,
   "id": "e8c976f3-7d15-45ba-9aff-6b0c895bb9dd",
   "metadata": {},
   "outputs": [
    {
     "name": "stdout",
     "output_type": "stream",
     "text": [
      "[('hello', 'NN'), ('everyone', 'NN'), ('his', 'PRP$'), ('program', 'NN'), ('takes', 'VBZ'), ('an', 'DT'), ('emoji', 'JJ'), ('character', 'NN'), (',', ','), ('finds', 'VBZ'), ('its', 'PRP$'), ('numerical', 'JJ'), ('Unicode', 'NNP'), ('code', 'NN'), ('point', 'NN'), ('using', 'VBG'), ('ord', 'NNP'), ('(', '('), (')', ')'), (',', ','), ('and', 'CC'), ('formats', 'NNS'), ('that', 'IN'), ('number', 'NN'), ('into', 'IN'), ('a', 'DT'), ('standard', 'JJ'), ('``', '``'), ('U+XXXX', 'NNP'), (\"''\", \"''\"), ('hexadecimal', 'NN'), ('string', 'VBG'), ('using', 'VBG'), ('an', 'DT'), ('f-string', 'NN'), ('.', '.')]\n",
      "[('This', 'DT'), ('allows', 'VBZ'), ('users', 'NNS'), ('to', 'TO'), ('discover', 'VB'), ('the', 'DT'), ('underlying', 'VBG'), ('Unicode', 'NNP'), ('value', 'NN'), ('of', 'IN'), ('any', 'DT'), ('emoji', 'NN')]\n"
     ]
    },
    {
     "name": "stderr",
     "output_type": "stream",
     "text": [
      "[nltk_data] Downloading package punkt to /home/matlab/nltk_data...\n",
      "[nltk_data]   Package punkt is already up-to-date!\n",
      "[nltk_data] Downloading package averaged_perceptron_tagger to\n",
      "[nltk_data]     /home/matlab/nltk_data...\n",
      "[nltk_data]   Package averaged_perceptron_tagger is already up-to-\n",
      "[nltk_data]       date!\n"
     ]
    }
   ],
   "source": [
    "import nltk\n",
    "nltk.download(\"punkt\")\n",
    "nltk.download('averaged_perceptron_tagger') \n",
    "\n",
    "texts = \"\"\" hello everyone his program takes an emoji character, finds its numerical Unicode code point using ord(), and formats that number into a standard \"U+XXXX\" hexadecimal string using an f-string. This allows users to discover the underlying Unicode value of any emoji\"\"\"\n",
    "\n",
    "sentences = nltk.sent_tokenize(texts)\n",
    "\n",
    "for sentence in sentences:\n",
    "    words = nltk.word_tokenize(sentence)\n",
    "\n",
    "    tagged_words = nltk.pos_tag(words)\n",
    "    print(tagged_words)\n"
   ]
  },
  {
   "cell_type": "code",
   "execution_count": null,
   "id": "3afa52c8-1ed1-4ec0-86b6-ee5f53451fbb",
   "metadata": {},
   "outputs": [],
   "source": []
  }
 ],
 "metadata": {
  "kernelspec": {
   "display_name": "Python 3 (ipykernel)",
   "language": "python",
   "name": "python3"
  },
  "language_info": {
   "codemirror_mode": {
    "name": "ipython",
    "version": 3
   },
   "file_extension": ".py",
   "mimetype": "text/x-python",
   "name": "python",
   "nbconvert_exporter": "python",
   "pygments_lexer": "ipython3",
   "version": "3.12.4"
  }
 },
 "nbformat": 4,
 "nbformat_minor": 5
}
