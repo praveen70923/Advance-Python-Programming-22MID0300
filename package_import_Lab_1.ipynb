{
 "cells": [
  {
   "cell_type": "code",
   "execution_count": 1,
   "id": "69c53486-5f31-4ab0-b2f5-88fa458159fe",
   "metadata": {},
   "outputs": [
    {
     "data": {
      "text/plain": [
       "'\\nTitle:   ASCII Art Generator using pyfiglet\\nAuthor:  Praveen Kumar G (22MID0300)\\nDate:    July 23, 2025\\nPurpose: To demonstrate installing, importing, and using a third-party Python package with properly explaining code.\\n'"
      ]
     },
     "execution_count": 1,
     "metadata": {},
     "output_type": "execute_result"
    }
   ],
   "source": [
    "\"\"\"\n",
    "Title:   ASCII Art Generator using pyfiglet\n",
    "Author:  Praveen Kumar G (22MID0300)\n",
    "Date:    July 23, 2025\n",
    "Purpose: To demonstrate installing, importing, and using a third-party Python package with properly explaining code.\n",
    "\"\"\"\n"
   ]
  },
  {
   "cell_type": "code",
   "execution_count": 2,
   "id": "549b21da-ef87-4c6a-92e7-b301db0b8218",
   "metadata": {},
   "outputs": [],
   "source": [
    "# This program demonstrates ASCII art text generation using the 'pyfiglet' package.\n",
    "# The output will convert a plain string into large text using characters."
   ]
  },
  {
   "cell_type": "code",
   "execution_count": 3,
   "id": "5ecdf986-e19a-4c68-bece-3fca436f3c6d",
   "metadata": {
    "scrolled": true
   },
   "outputs": [
    {
     "name": "stdout",
     "output_type": "stream",
     "text": [
      "Requirement already satisfied: pyfiglet in c:\\users\\hp\\anaconda3\\lib\\site-packages (1.0.3)\n"
     ]
    }
   ],
   "source": [
    "# Installing the 'pyfiglet' package directly in the Jupyter Notebook\n",
    "!pip install pyfiglet"
   ]
  },
  {
   "cell_type": "code",
   "execution_count": 4,
   "id": "b1fc3485-8cf2-4571-b8d9-40a86be74059",
   "metadata": {},
   "outputs": [
    {
     "name": "stdout",
     "output_type": "stream",
     "text": [
      " _   _      _ _                                              _ \n",
      "| | | | ___| | | ___    _ __  _ __ __ ___   _____  ___ _ __ | |\n",
      "| |_| |/ _ \\ | |/ _ \\  | '_ \\| '__/ _` \\ \\ / / _ \\/ _ \\ '_ \\| |\n",
      "|  _  |  __/ | | (_) | | |_) | | | (_| |\\ V /  __/  __/ | | |_|\n",
      "|_| |_|\\___|_|_|\\___/  | .__/|_|  \\__,_| \\_/ \\___|\\___|_| |_(_)\n",
      "                       |_|                                     \n",
      "\n"
     ]
    }
   ],
   "source": [
    "# Importing pyfiglet to generate ASCII art from text\n",
    "import pyfiglet\n",
    "\n",
    "# Using figlet_format to convert normal text into ASCII styled text\n",
    "ascii_art = pyfiglet.figlet_format(\"Hello praveen!\")\n",
    "\n",
    "print(ascii_art)\n"
   ]
  },
  {
   "cell_type": "code",
   "execution_count": 5,
   "id": "766ebaa8-df2a-4a88-8f92-bfe431e2d571",
   "metadata": {},
   "outputs": [
    {
     "data": {
      "text/plain": [
       "\"\\nTitle:   Fake Data Generator using Faker\\nAuthor:  Praveen Kumar G (22MID0300)\\nDate:    July 23, 2025\\nPurpose: To demonstrate generating random, realistic-looking fake data using the 'faker'package.\\n         This simulates dummy user data useful in testing and development.\\n\""
      ]
     },
     "execution_count": 5,
     "metadata": {},
     "output_type": "execute_result"
    }
   ],
   "source": [
    "\"\"\"\n",
    "Title:   Fake Data Generator using Faker\n",
    "Author:  Praveen Kumar G (22MID0300)\n",
    "Date:    July 23, 2025\n",
    "Purpose: To demonstrate generating random, realistic-looking fake data using the 'faker'package.\n",
    "         This simulates dummy user data useful in testing and development.\n",
    "\"\"\""
   ]
  },
  {
   "cell_type": "code",
   "execution_count": 6,
   "id": "67058af2-62dd-47fc-862d-932b0ce41a53",
   "metadata": {},
   "outputs": [
    {
     "name": "stdout",
     "output_type": "stream",
     "text": [
      "Requirement already satisfied: faker in c:\\users\\hp\\anaconda3\\lib\\site-packages (30.8.2)\n",
      "Requirement already satisfied: python-dateutil>=2.4 in c:\\users\\hp\\anaconda3\\lib\\site-packages (from faker) (2.9.0.post0)\n",
      "Requirement already satisfied: typing-extensions in c:\\users\\hp\\anaconda3\\lib\\site-packages (from faker) (4.11.0)\n",
      "Requirement already satisfied: six>=1.5 in c:\\users\\hp\\anaconda3\\lib\\site-packages (from python-dateutil>=2.4->faker) (1.16.0)\n"
     ]
    }
   ],
   "source": [
    "# Installing the 'faker' package in Jupyter Notebook\n",
    "!pip install faker"
   ]
  },
  {
   "cell_type": "code",
   "execution_count": 7,
   "id": "6c8ea618-ec2f-49e9-bebf-f3c7c3e1a70a",
   "metadata": {},
   "outputs": [
    {
     "name": "stdout",
     "output_type": "stream",
     "text": [
      "Generated Fake User Profile:\n",
      "Name    : Megan Mcintosh\n",
      "Email   : timothywright@example.com\n",
      "Address : 2469 Travis Vista\n",
      "Port Danielchester, AS 18900\n",
      "Phone   : 4544561792\n"
     ]
    }
   ],
   "source": [
    "# Importing the Faker class from the faker module\n",
    "from faker import Faker\n",
    "\n",
    "# Creating an instance of the Faker class to access fake data methods\n",
    "fake = Faker()\n",
    "\n",
    "# Generating and printing a sample fake user profile\n",
    "print(\"Generated Fake User Profile:\")\n",
    "print(\"Name    :\", fake.name())         # Generates a random full name\n",
    "print(\"Email   :\", fake.email())        # Generates a random email address\n",
    "print(\"Address :\", fake.address())      # Generates a full fake address\n",
    "print(\"Phone   :\", fake.phone_number()) # Generates a fake phone number\n"
   ]
  },
  {
   "cell_type": "code",
   "execution_count": 8,
   "id": "2c65f3e4-025d-40b9-8e19-91b796fad47f",
   "metadata": {},
   "outputs": [
    {
     "data": {
      "text/plain": [
       "\"\\nTitle:   Emoji Formatter using the emoji Package\\nAuthor:  Praveen Kumar G (22MID0300)\\nDate:    July 23, 2025\\nPurpose: To demonstrate the use of the 'emoji' Python package which converts text-based emoji names into visual emoji characters.\\n\""
      ]
     },
     "execution_count": 8,
     "metadata": {},
     "output_type": "execute_result"
    }
   ],
   "source": [
    "\"\"\"\n",
    "Title:   Emoji Formatter using the emoji Package\n",
    "Author:  Praveen Kumar G (22MID0300)\n",
    "Date:    July 23, 2025\n",
    "Purpose: To demonstrate the use of the 'emoji' Python package which converts text-based emoji names into visual emoji characters.\n",
    "\"\"\""
   ]
  },
  {
   "cell_type": "code",
   "execution_count": 9,
   "id": "4609e53b-8bea-4648-9cf3-dec869b906d7",
   "metadata": {},
   "outputs": [
    {
     "name": "stdout",
     "output_type": "stream",
     "text": [
      "Requirement already satisfied: emoji in c:\\users\\hp\\anaconda3\\lib\\site-packages (2.14.1)\n"
     ]
    }
   ],
   "source": [
    "# Installing the 'emoji' package in the notebook\n",
    "!pip install emoji"
   ]
  },
  {
   "cell_type": "code",
   "execution_count": 10,
   "id": "2082320b-72de-4e27-a3bb-36efb97084f1",
   "metadata": {},
   "outputs": [
    {
     "name": "stdout",
     "output_type": "stream",
     "text": [
      "Hello World! :earth_asia: :smile:\n",
      "I love Python! 🐍 👍\n"
     ]
    }
   ],
   "source": [
    "# Importing the emoji module to work with emojis in Python\n",
    "import emoji\n",
    "\n",
    "# Using emoji.emojize to convert emoji names (text) into Unicode symbols\n",
    "print(emoji.emojize(\"Hello World! :earth_asia: :smile:\"))  # Displays emojis for earth and smile\n",
    "\n",
    "# Another fun example\n",
    "print(emoji.emojize(\"I love Python! :snake: :thumbs_up:\")) # Shows snake and thumbs up\n"
   ]
  },
  {
   "cell_type": "code",
   "execution_count": null,
   "id": "9383bbac-6085-47d7-9c1c-2c66db231a5b",
   "metadata": {},
   "outputs": [],
   "source": []
  }
 ],
 "metadata": {
  "kernelspec": {
   "display_name": "Python 3 (ipykernel)",
   "language": "python",
   "name": "python3"
  },
  "language_info": {
   "codemirror_mode": {
    "name": "ipython",
    "version": 3
   },
   "file_extension": ".py",
   "mimetype": "text/x-python",
   "name": "python",
   "nbconvert_exporter": "python",
   "pygments_lexer": "ipython3",
   "version": "3.12.4"
  }
 },
 "nbformat": 4,
 "nbformat_minor": 5
}
