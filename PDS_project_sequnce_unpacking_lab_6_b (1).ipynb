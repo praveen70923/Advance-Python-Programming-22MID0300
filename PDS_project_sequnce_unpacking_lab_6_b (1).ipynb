{
 "cells": [
  {
   "cell_type": "code",
   "execution_count": 1,
   "id": "949bddc9-abd5-40e9-9bd1-d149babf957c",
   "metadata": {},
   "outputs": [
    {
     "data": {
      "text/plain": [
       "\"Author: Praveen Kumar G (22MID0300)\\nDate: July 30, 2025\\nPurpose: To demonstrate how Python supports sequence unpacking and dictionary operations using\\n    *args, **kwargs, and methods such as setdefault() and nested loops for structured data access. \\n    This code applies concepts from GeeksforGeeks' Top 30 Python Dictionary Interview Questions to \\n    implement a mini Public Distribution System (PDS) product tracker.\""
      ]
     },
     "execution_count": 1,
     "metadata": {},
     "output_type": "execute_result"
    }
   ],
   "source": [
    "\"\"\"Author: Praveen Kumar G (22MID0300)\n",
    "Date: July 30, 2025\n",
    "Purpose: To demonstrate how Python supports sequence unpacking and dictionary operations using\n",
    "    *args, **kwargs, and methods such as setdefault() and nested loops for structured data access. \n",
    "    This code applies concepts from GeeksforGeeks' Top 30 Python Dictionary Interview Questions to \n",
    "    implement a mini Public Distribution System (PDS) product tracker.\"\"\""
   ]
  },
  {
   "cell_type": "markdown",
   "id": "85196d8e-a1cd-4ce5-96d0-52393c187f14",
   "metadata": {},
   "source": [
    "### Step-1: Initial Data"
   ]
  },
  {
   "cell_type": "code",
   "execution_count": 3,
   "id": "311d0d93-637a-45b9-8541-864a3adf9bfa",
   "metadata": {},
   "outputs": [],
   "source": [
    "# Initial PDS data as a nested dictionary\n",
    "pds_data = {\n",
    "    \"taluk1\": {\n",
    "        \"shop101\": {\n",
    "            \"name\": \"PDS Shop A\",\n",
    "            \"address\": \"123 Main Street, Taluk 1\",\n",
    "            \"products\": [\n",
    "                {\"name\": \"Rice\", \"price\": 20, \"quantity\": 100},\n",
    "                {\"name\": \"Wheat\", \"price\": 15, \"quantity\": 150},\n",
    "                {\"name\": \"Sugar\", \"price\": 30, \"quantity\": 50}\n",
    "            ]\n",
    "        }\n",
    "    },\n",
    "    \"taluk2\": {\n",
    "        \"shop201\": {\n",
    "            \"name\": \"PDS Shop X\",\n",
    "            \"address\": \"789 Pine Lane, Taluk 2\",\n",
    "            \"products\": [\n",
    "                {\"name\": \"Rice\", \"price\": 21, \"quantity\": 200},\n",
    "                {\"name\": \"Oil\", \"price\": 80, \"quantity\": 70}\n",
    "            ]\n",
    "        }\n",
    "    }\n",
    "}\n"
   ]
  },
  {
   "cell_type": "markdown",
   "id": "972b06fa-2218-4361-b4d7-6d3d6889aa83",
   "metadata": {},
   "source": [
    "### step-2: Display Shop Information using **kwargs"
   ]
  },
  {
   "cell_type": "code",
   "execution_count": 5,
   "id": "d7abd408-c715-4de8-a839-a042b9bcc823",
   "metadata": {},
   "outputs": [],
   "source": [
    "# note:\n",
    "# **kwargs — Accepts flexible keyword arguments (GeeksforGeeks Q24)"
   ]
  },
  {
   "cell_type": "code",
   "execution_count": 6,
   "id": "ae79a6ad-7dc3-4b4d-abd3-b81b926f6fd5",
   "metadata": {},
   "outputs": [],
   "source": [
    "# Function to print dictionary details using keyword argument unpacking (**kwargs)\n",
    "def show_info(**kwargs):\n",
    "    for key, value in kwargs.items():\n",
    "        print(f\"{key.capitalize()}: {value}\")"
   ]
  },
  {
   "cell_type": "markdown",
   "id": "6d766713-0f3a-4f9c-99df-6840c0c1e484",
   "metadata": {},
   "source": [
    "### Step-3: Display Shops in a Taluk"
   ]
  },
  {
   "cell_type": "code",
   "execution_count": 8,
   "id": "53871867-2094-462f-8dd9-8b2b2a70fe85",
   "metadata": {},
   "outputs": [],
   "source": [
    "#note:\n",
    "#Sequence unpacking (for shop_id, shop in dict.items())\n",
    "\n",
    "# **kwargs (displaying info)"
   ]
  },
  {
   "cell_type": "code",
   "execution_count": 9,
   "id": "e60bb96e-5d8e-4d49-8d0e-602a0f33d2a7",
   "metadata": {},
   "outputs": [],
   "source": [
    "# Display all shops in a taluk using unpacking\n",
    "def display_shops(taluk):\n",
    "    if taluk in pds_data:\n",
    "        for shop_id, shop in pds_data[taluk].items():  # Sequence unpacking\n",
    "            print(f\"\\nShop ID: {shop_id}\")\n",
    "            show_info(**shop)  # Using **kwargs\n",
    "    else:\n",
    "        print(\"No shops found in this taluk.\")"
   ]
  },
  {
   "cell_type": "markdown",
   "id": "f6b775fe-d790-4e01-8af0-b41e15596c9c",
   "metadata": {},
   "source": [
    "### Step-4: Add or Update Product using *args and setdefault()"
   ]
  },
  {
   "cell_type": "code",
   "execution_count": 11,
   "id": "2a3a1911-070e-4690-80f2-ff8cca631dc9",
   "metadata": {},
   "outputs": [],
   "source": [
    "#note:\n",
    "# *args (GeeksforGeeks Q26)\n",
    "\n",
    "# setdefault() (GeeksforGeeks Q22)\n",
    "# Sequence unpacking for assigning variables"
   ]
  },
  {
   "cell_type": "code",
   "execution_count": 12,
   "id": "ff9aa894-e9ce-4bc2-976f-6264c83dd2c7",
   "metadata": {},
   "outputs": [],
   "source": [
    "# Add or update product details\n",
    "def update_product(*args):\n",
    "    taluk, shop_id, name, price, qty = args  # Sequence unpacking from *args\n",
    "\n",
    "    #  GeeksforGeeks Q22 Concept: Using setdefault to initialize missing taluk/shop\n",
    "    shop = pds_data.setdefault(taluk, {}).setdefault(shop_id, {\n",
    "        \"name\": f\"AutoShop-{shop_id}\",\n",
    "        \"address\": \"Unknown Address\",\n",
    "        \"products\": []\n",
    "    })\n",
    "\n",
    "    # Check if product exists, update if so\n",
    "    for p in shop[\"products\"]:\n",
    "        if p[\"name\"].lower() == name.lower():\n",
    "            p[\"price\"], p[\"quantity\"] = price, qty  # Sequence unpacking\n",
    "            print(f\" Updated {name} in {shop_id}\")\n",
    "            return\n",
    "\n",
    "    # If product not found, add it\n",
    "    shop[\"products\"].append({\"name\": name, \"price\": price, \"quantity\": qty})\n",
    "    print(f\" Added {name} to {shop_id}\")\n"
   ]
  },
  {
   "cell_type": "code",
   "execution_count": 13,
   "id": "cee95cc6-ba70-4f12-a0ed-84a8aee25bac",
   "metadata": {},
   "outputs": [],
   "source": [
    "# Step-5: View All Products in a Taluk"
   ]
  },
  {
   "cell_type": "code",
   "execution_count": 14,
   "id": "260bb038-b216-4954-8f0a-9a05a4ef3f34",
   "metadata": {},
   "outputs": [],
   "source": [
    "# note:\n",
    "\n",
    "# Dictionary access\n",
    "\n",
    "# Sequence unpacking\n",
    "\n",
    "# Nested dictionary traversal (GeeksforGeeks Q7)"
   ]
  },
  {
   "cell_type": "code",
   "execution_count": 15,
   "id": "56e47b89-1bc8-44e4-aece-0026128f766d",
   "metadata": {},
   "outputs": [],
   "source": [
    "# View summary of products in a taluk\n",
    "def view_products(taluk):\n",
    "    if taluk in pds_data:\n",
    "        summary = {}\n",
    "        for shop in pds_data[taluk].values():\n",
    "            for product in shop[\"products\"]:\n",
    "                pname, price, qty = product[\"name\"], product[\"price\"], product[\"quantity\"]  # Unpacking\n",
    "                if pname not in summary:\n",
    "                    summary[pname] = {\"total\": 0, \"details\": []}\n",
    "                summary[pname][\"total\"] += qty\n",
    "                summary[pname][\"details\"].append((shop[\"name\"], price, qty))\n",
    "\n",
    "        for pname, info in summary.items():\n",
    "            print(f\"\\n{pname} - Total Quantity: {info['total']}\")\n",
    "            for shop_name, price, qty in info[\"details\"]:\n",
    "                print(f\"   {shop_name} → ₹{price}, Qty: {qty}\")\n",
    "    else:\n",
    "        print(\" Taluk not found.\")\n"
   ]
  },
  {
   "cell_type": "code",
   "execution_count": 16,
   "id": "82002f67-1004-4dd1-88be-8d2d5c6160f7",
   "metadata": {},
   "outputs": [],
   "source": [
    "### Step-6: Menu-driven Interface (For Repeated Use)"
   ]
  },
  {
   "cell_type": "code",
   "execution_count": 17,
   "id": "5ef990e7-3c9f-401d-8cee-24dfeffe55d1",
   "metadata": {},
   "outputs": [],
   "source": [
    "def run_pds_menu():\n",
    "    while True:\n",
    "        print(\"\\n --- PDS Management Menu ---\")\n",
    "        print(\"1. View Shops in a Taluk\")\n",
    "        print(\"2. Add or Update Product\")\n",
    "        print(\"3. View Product Summary in a Taluk\")\n",
    "        print(\"4. Exit\")\n",
    "\n",
    "        choice = input(\"Enter your choice (1-4): \")\n",
    "\n",
    "        if choice == \"1\":\n",
    "            t = input(\"Enter Taluk name: \")\n",
    "            display_shops(t)\n",
    "\n",
    "        elif choice == \"2\":\n",
    "            data = [\n",
    "                input(\"Taluk: \"),\n",
    "                input(\"Shop ID: \"),\n",
    "                input(\"Product Name: \"),\n",
    "                float(input(\"Price: \")),\n",
    "                int(input(\"Quantity: \"))\n",
    "            ]\n",
    "            update_product(*data)  # Using *args\n",
    "\n",
    "        elif choice == \"3\":\n",
    "            t = input(\"Enter Taluk name: \")\n",
    "            view_products(t)\n",
    "\n",
    "        elif choice == \"4\":\n",
    "            print(\" Exiting. Thank you!\")\n",
    "            break\n",
    "\n",
    "        else:\n",
    "            print(\" Invalid choice. Please try again.\")\n"
   ]
  },
  {
   "cell_type": "markdown",
   "id": "5e13da7c-c9c5-48f1-ae97-35fa99803281",
   "metadata": {},
   "source": [
    "### Step-7: Run the Program"
   ]
  },
  {
   "cell_type": "code",
   "execution_count": 34,
   "id": "29f0dbfc-3d6e-434c-9373-2709ed3fbf3a",
   "metadata": {},
   "outputs": [
    {
     "name": "stdout",
     "output_type": "stream",
     "text": [
      "\n",
      " --- PDS Management Menu ---\n",
      "1. View Shops in a Taluk\n",
      "2. Add or Update Product\n",
      "3. View Product Summary in a Taluk\n",
      "4. Exit\n"
     ]
    },
    {
     "name": "stdin",
     "output_type": "stream",
     "text": [
      "Enter your choice (1-4):  1\n",
      "Enter Taluk name:  taluk1\n"
     ]
    },
    {
     "name": "stdout",
     "output_type": "stream",
     "text": [
      "\n",
      "Shop ID: shop101\n",
      "Name: PDS Shop A\n",
      "Address: 123 Main Street, Taluk 1\n",
      "Products: [{'name': 'Rice', 'price': 20, 'quantity': 100}, {'name': 'Wheat', 'price': 15, 'quantity': 150}, {'name': 'Sugar', 'price': 30, 'quantity': 50}]\n",
      "\n",
      " --- PDS Management Menu ---\n",
      "1. View Shops in a Taluk\n",
      "2. Add or Update Product\n",
      "3. View Product Summary in a Taluk\n",
      "4. Exit\n"
     ]
    },
    {
     "name": "stdin",
     "output_type": "stream",
     "text": [
      "Enter your choice (1-4):  2\n",
      "Taluk:  taluk1\n",
      "Shop ID:  shop101\n",
      "Product Name:  oil\n",
      "Price:  100\n",
      "Quantity:  60\n"
     ]
    },
    {
     "name": "stdout",
     "output_type": "stream",
     "text": [
      " Added oil to shop101\n",
      "\n",
      " --- PDS Management Menu ---\n",
      "1. View Shops in a Taluk\n",
      "2. Add or Update Product\n",
      "3. View Product Summary in a Taluk\n",
      "4. Exit\n"
     ]
    },
    {
     "name": "stdin",
     "output_type": "stream",
     "text": [
      "Enter your choice (1-4):  2\n",
      "Taluk:  taluk2\n",
      "Shop ID:  shop201\n",
      "Product Name:  Ragi\n",
      "Price:  35\n",
      "Quantity:  40\n"
     ]
    },
    {
     "name": "stdout",
     "output_type": "stream",
     "text": [
      " Added Ragi to shop201\n",
      "\n",
      " --- PDS Management Menu ---\n",
      "1. View Shops in a Taluk\n",
      "2. Add or Update Product\n",
      "3. View Product Summary in a Taluk\n",
      "4. Exit\n"
     ]
    },
    {
     "name": "stdin",
     "output_type": "stream",
     "text": [
      "Enter your choice (1-4):  2\n",
      "Taluk:  taluk3\n",
      "Shop ID:  shop301\n",
      "Product Name:  Dal\n",
      "Price:  60\n",
      "Quantity:  90\n"
     ]
    },
    {
     "name": "stdout",
     "output_type": "stream",
     "text": [
      " Added Dal to shop301\n",
      "\n",
      " --- PDS Management Menu ---\n",
      "1. View Shops in a Taluk\n",
      "2. Add or Update Product\n",
      "3. View Product Summary in a Taluk\n",
      "4. Exit\n"
     ]
    },
    {
     "name": "stdin",
     "output_type": "stream",
     "text": [
      "Enter your choice (1-4):  3\n",
      "Enter Taluk name:  taluk1\n"
     ]
    },
    {
     "name": "stdout",
     "output_type": "stream",
     "text": [
      "\n",
      "Rice - Total Quantity: 100\n",
      "   PDS Shop A → ₹20, Qty: 100\n",
      "\n",
      "Wheat - Total Quantity: 150\n",
      "   PDS Shop A → ₹15, Qty: 150\n",
      "\n",
      "Sugar - Total Quantity: 50\n",
      "   PDS Shop A → ₹30, Qty: 50\n",
      "\n",
      "oil - Total Quantity: 60\n",
      "   PDS Shop A → ₹100.0, Qty: 60\n",
      "\n",
      " --- PDS Management Menu ---\n",
      "1. View Shops in a Taluk\n",
      "2. Add or Update Product\n",
      "3. View Product Summary in a Taluk\n",
      "4. Exit\n"
     ]
    },
    {
     "name": "stdin",
     "output_type": "stream",
     "text": [
      "Enter your choice (1-4):  4\n"
     ]
    },
    {
     "name": "stdout",
     "output_type": "stream",
     "text": [
      " Exiting. Thank you!\n"
     ]
    }
   ],
   "source": [
    "# Run the menu system\n",
    "run_pds_menu()"
   ]
  },
  {
   "cell_type": "code",
   "execution_count": null,
   "id": "ae99bdce-dadb-4507-a884-2344ed472f3d",
   "metadata": {},
   "outputs": [],
   "source": [
    "# output summary:\n",
    "\n",
    "Test Case 1: View Shops in taluk1\n",
    "Test Case 2: Add a New Product to an Existing Shop\n",
    "Test Case 3: Add a Product to a New Shop in an Existing Taluk (Auto-created)\n",
    "             Here, shop999 is automatically added using setdefault()\n",
    "             Name will be AutoShop-shop999 and address as \"Unknown Address\"\n",
    "Test Case 4: Add a Product to a New Taluk (Also Auto-created)\n",
    "Test Case 5: View Products in taluk1\n",
    "Test Case 6: Exit\n",
    "\"\"\""
   ]
  }
 ],
 "metadata": {
  "kernelspec": {
   "display_name": "Python 3 (ipykernel)",
   "language": "python",
   "name": "python3"
  },
  "language_info": {
   "codemirror_mode": {
    "name": "ipython",
    "version": 3
   },
   "file_extension": ".py",
   "mimetype": "text/x-python",
   "name": "python",
   "nbconvert_exporter": "python",
   "pygments_lexer": "ipython3",
   "version": "3.12.4"
  }
 },
 "nbformat": 4,
 "nbformat_minor": 5
}
