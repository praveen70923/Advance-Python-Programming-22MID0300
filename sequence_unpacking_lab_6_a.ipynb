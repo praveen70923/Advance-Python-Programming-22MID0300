{
 "cells": [
  {
   "cell_type": "code",
   "execution_count": 1,
   "id": "0182352c-e319-438f-95a9-cef98b3e2105",
   "metadata": {},
   "outputs": [
    {
     "data": {
      "text/plain": [
       "'Author: Praveen Kumar G (22MID0300)\\nDate: July 31, 2025\\nPurpose: To demonstrate how Python supports sequence unpacking using *args, **kwargs, and variable unpacking patterns. \\nThis assignment shows multiple forms of unpacking for lists and function arguments.'"
      ]
     },
     "execution_count": 1,
     "metadata": {},
     "output_type": "execute_result"
    }
   ],
   "source": [
    "\"\"\"Author: Praveen Kumar G (22MID0300)\n",
    "Date: July 31, 2025\n",
    "Purpose: To demonstrate how Python supports sequence unpacking using *args, **kwargs, and variable unpacking patterns. \n",
    "This assignment shows multiple forms of unpacking for lists and function arguments.\"\"\""
   ]
  },
  {
   "cell_type": "code",
   "execution_count": 2,
   "id": "2dc7f89c-567c-4bee-a37e-f2ad5b8bdea4",
   "metadata": {},
   "outputs": [
    {
     "data": {
      "text/plain": [
       "' Short Note: \\nWhat is Sequence Unpacking?\\n    Sequence unpacking in Python refers to the process of assigning elements of a sequence (such as lists, tuples, or strings)\\n    to multiple variables in a single statement. Python allows flexible unpacking with the help of the * operator.'"
      ]
     },
     "execution_count": 2,
     "metadata": {},
     "output_type": "execute_result"
    }
   ],
   "source": [
    "\"\"\" Short Note: \n",
    "What is Sequence Unpacking?\n",
    "    Sequence unpacking in Python refers to the process of assigning elements of a sequence (such as lists, tuples, or strings)\n",
    "    to multiple variables in a single statement. Python allows flexible unpacking with the help of the * operator.\"\"\""
   ]
  },
  {
   "cell_type": "markdown",
   "id": "dea96246-2432-4834-90c7-17d52a3eed72",
   "metadata": {},
   "source": [
    "### 1. Basic Sequence Unpacking from a List"
   ]
  },
  {
   "cell_type": "code",
   "execution_count": 4,
   "id": "6d7fe78e-c2d5-4b19-a714-cd3261949808",
   "metadata": {},
   "outputs": [
    {
     "name": "stdout",
     "output_type": "stream",
     "text": [
      "apple\n",
      "banana\n",
      "cherry\n"
     ]
    }
   ],
   "source": [
    "# Define a list of even numbers\n",
    "fruits = [\"apple\", \"banana\", \"cherry\"]\n",
    "a, b, c = fruits\n",
    "\n",
    "print(a)\n",
    "print(b)\n",
    "print(c)\n"
   ]
  },
  {
   "cell_type": "code",
   "execution_count": 5,
   "id": "f9d2899e-03a2-4f01-9812-e8bc5f7a62a1",
   "metadata": {},
   "outputs": [],
   "source": [
    "even =[2,4,6,8]\n",
    "a,b,c,d = even"
   ]
  },
  {
   "cell_type": "code",
   "execution_count": 6,
   "id": "7c257072-6457-45bb-a83a-b17a872a97d4",
   "metadata": {},
   "outputs": [
    {
     "name": "stdout",
     "output_type": "stream",
     "text": [
      "2\n",
      "4\n",
      "6\n",
      "8\n"
     ]
    }
   ],
   "source": [
    "print(a)\n",
    "print(b)\n",
    "print(c)\n",
    "print(d)"
   ]
  },
  {
   "cell_type": "markdown",
   "id": "a6cacf89-2f03-43f5-8133-243a64dca0c5",
   "metadata": {},
   "source": [
    "### 2. Advanced Unpacking with Starred Expression"
   ]
  },
  {
   "cell_type": "code",
   "execution_count": 8,
   "id": "64441d83-307c-4f7b-9d76-502b6bb50ee5",
   "metadata": {},
   "outputs": [
    {
     "name": "stdout",
     "output_type": "stream",
     "text": [
      "2\n",
      "4\n",
      "[6, 8]\n"
     ]
    }
   ],
   "source": [
    "# Unpack first two values into 'a' and 'b', and the rest into list 'c'\n",
    "a,b,*c=even\n",
    "print(a)\n",
    "print(b)\n",
    "print(c)"
   ]
  },
  {
   "cell_type": "markdown",
   "id": "c0a18d6b-96be-486e-a90e-39c03f7123b9",
   "metadata": {},
   "source": [
    "### 3. Function with Positional Arguments using *"
   ]
  },
  {
   "cell_type": "code",
   "execution_count": 10,
   "id": "2a6eb501-700b-4b6e-9f3d-7537b49ab4c5",
   "metadata": {},
   "outputs": [
    {
     "data": {
      "text/plain": [
       "' Function Argument Unpacking:\\n        Python also supports unpacking arguments using:\\n\\n        *args: For variable-length positional arguments.\\n\\n        **kwargs: For variable-length keyword arguments.'"
      ]
     },
     "execution_count": 10,
     "metadata": {},
     "output_type": "execute_result"
    }
   ],
   "source": [
    "\"\"\" Function Argument Unpacking:\n",
    "        Python also supports unpacking arguments using:\n",
    "\n",
    "        *args: For variable-length positional arguments.\n",
    "\n",
    "        **kwargs: For variable-length keyword arguments.\"\"\""
   ]
  },
  {
   "cell_type": "code",
   "execution_count": 11,
   "id": "07faebf2-b951-4990-b1e5-b1566047ac5d",
   "metadata": {},
   "outputs": [],
   "source": [
    "# List with 4 elements\n",
    "a,*b,c =[4,6,8,10]"
   ]
  },
  {
   "cell_type": "code",
   "execution_count": 12,
   "id": "85696431-4d75-45dd-9d92-284b39b92251",
   "metadata": {},
   "outputs": [
    {
     "name": "stdout",
     "output_type": "stream",
     "text": [
      "4\n",
      "[6, 8]\n",
      "10\n"
     ]
    }
   ],
   "source": [
    "print(a)  # Output: 4\n",
    "print(b)  # Output: [6, 8] -> middle elements\n",
    "print(c)  # Output: 10 -> last element"
   ]
  },
  {
   "cell_type": "code",
   "execution_count": 13,
   "id": "5c9e48ed-e1b9-4c2d-925c-33e9e467c812",
   "metadata": {},
   "outputs": [
    {
     "name": "stdout",
     "output_type": "stream",
     "text": [
      "20\n"
     ]
    }
   ],
   "source": [
    "# Define a list\n",
    "even = [2, 4, 6, 8]\n",
    "\n",
    "# Define a function with 4 parameters\n",
    "def a(w, x, y, z):\n",
    "    return w + x + y + z\n",
    "\n",
    "# Unpack the list directly into the function\n",
    "print(a(*even))  # Output: 20\n"
   ]
  },
  {
   "cell_type": "markdown",
   "id": "5eeeeea9-04d8-4e75-b448-b7ff3ecb758d",
   "metadata": {},
   "source": [
    "###  4. Function Accepting Variable Positional Arguments (*args)"
   ]
  },
  {
   "cell_type": "code",
   "execution_count": 15,
   "id": "441071ed-e24b-449f-9e34-1c78a43582d7",
   "metadata": {},
   "outputs": [
    {
     "name": "stdout",
     "output_type": "stream",
     "text": [
      "hello, praveen\n",
      "hello, kumar\n",
      "hello, data science\n"
     ]
    }
   ],
   "source": [
    "# Define a function that accepts any number of positional arguments\n",
    "def say_hi(*names):\n",
    "    for n in names:\n",
    "        print(f\"hello, {n}\")\n",
    "\n",
    "# Call the function with three names\n",
    "say_hi(\"praveen\", \"kumar\", \"data science\")\n"
   ]
  },
  {
   "cell_type": "markdown",
   "id": "6eb1daa9-bbd5-498d-a3ca-c401619925a4",
   "metadata": {},
   "source": [
    "###  5. Function Accepting Keyword Arguments (**kwargs)"
   ]
  },
  {
   "cell_type": "code",
   "execution_count": 17,
   "id": "c2238dce-fc80-4fae-8acb-57b38424a52f",
   "metadata": {},
   "outputs": [
    {
     "name": "stdout",
     "output_type": "stream",
     "text": [
      "code: csi3007\n",
      "name: python\n",
      "venue: sjt318\n"
     ]
    }
   ],
   "source": [
    "# Define a function that accepts any number of keyword arguments\n",
    "def show_info(**info):\n",
    "    for k, v in info.items():\n",
    "        print(f\"{k}: {v}\")\n",
    "\n",
    "# Call the function with key-value pairs\n",
    "show_info(code=\"csi3007\", name=\"python\", venue=\"sjt318\")\n"
   ]
  },
  {
   "cell_type": "markdown",
   "id": "f769e219-4db2-46f1-85f1-7d7b4f921061",
   "metadata": {},
   "source": [
    "### common errors in unpacking"
   ]
  },
  {
   "cell_type": "code",
   "execution_count": 19,
   "id": "53d13ab6-5170-4242-8d55-5a0b043844bc",
   "metadata": {},
   "outputs": [
    {
     "ename": "SyntaxError",
     "evalue": "positional argument follows keyword argument (3797809554.py, line 4)",
     "output_type": "error",
     "traceback": [
      "\u001b[1;36m  Cell \u001b[1;32mIn[19], line 4\u001b[1;36m\u001b[0m\n\u001b[1;33m    show_info(code=\"csi3007\",name=\"python\",venue:\"sjt318\")\u001b[0m\n\u001b[1;37m                                                ^\u001b[0m\n\u001b[1;31mSyntaxError\u001b[0m\u001b[1;31m:\u001b[0m positional argument follows keyword argument\n"
     ]
    }
   ],
   "source": [
    "def show_info(**info):\n",
    "    for k,v in info.items():\n",
    "        print(f\"{k}:{v}\")\n",
    "show_info(code=\"csi3007\",name=\"python\",venue:\"sjt318\")"
   ]
  },
  {
   "cell_type": "code",
   "execution_count": 20,
   "id": "5e7469d0-6402-4ae9-978e-3244a4d57820",
   "metadata": {},
   "outputs": [
    {
     "ename": "ValueError",
     "evalue": "too many values to unpack (expected 2)",
     "output_type": "error",
     "traceback": [
      "\u001b[1;31m---------------------------------------------------------------------------\u001b[0m",
      "\u001b[1;31mValueError\u001b[0m                                Traceback (most recent call last)",
      "Cell \u001b[1;32mIn[20], line 3\u001b[0m\n\u001b[0;32m      1\u001b[0m \u001b[38;5;66;03m#If the number of variables doesn't match the number of values, you'll get a ValueError.\u001b[39;00m\n\u001b[1;32m----> 3\u001b[0m x, y \u001b[38;5;241m=\u001b[39m [\u001b[38;5;241m1\u001b[39m, \u001b[38;5;241m2\u001b[39m, \u001b[38;5;241m3\u001b[39m]\n",
      "\u001b[1;31mValueError\u001b[0m: too many values to unpack (expected 2)"
     ]
    }
   ],
   "source": [
    "#If the number of variables doesn't match the number of values, you'll get a ValueError.\n",
    "\n",
    "x, y = [1, 2, 3]  # ❌ 3 values, but only 2 variables"
   ]
  },
  {
   "cell_type": "code",
   "execution_count": 22,
   "id": "e994f870-a4e5-4341-8ddc-c3ad1db0b319",
   "metadata": {},
   "outputs": [],
   "source": [
    "# we can handle this using * to gather remaining values:"
   ]
  },
  {
   "cell_type": "code",
   "execution_count": 24,
   "id": "3ffc0550-a918-4f82-810c-d0a857427e52",
   "metadata": {},
   "outputs": [
    {
     "name": "stdout",
     "output_type": "stream",
     "text": [
      "10\n",
      "[20, 30, 40]\n"
     ]
    }
   ],
   "source": [
    "a, *rest = [10, 20, 30, 40]\n",
    "print(a)       # 10\n",
    "print(rest)    # [20, 30, 40]\n"
   ]
  },
  {
   "cell_type": "code",
   "execution_count": 26,
   "id": "87417aa8-7776-443c-85a4-622f38f17476",
   "metadata": {},
   "outputs": [
    {
     "data": {
      "text/plain": [
       "'Conclusion:\\nSequence unpacking makes Python more expressive and readable by allowing compact assignment and flexible argument passing in functions.\\nIt is a widely used feature in Python programming for clean and dynamic code.'"
      ]
     },
     "execution_count": 26,
     "metadata": {},
     "output_type": "execute_result"
    }
   ],
   "source": [
    "\"\"\"Conclusion:\n",
    "Sequence unpacking makes Python more expressive and readable by allowing compact assignment and flexible argument passing in functions.\n",
    "It is a widely used feature in Python programming for clean and dynamic code.\"\"\""
   ]
  }
 ],
 "metadata": {
  "kernelspec": {
   "display_name": "Python 3 (ipykernel)",
   "language": "python",
   "name": "python3"
  },
  "language_info": {
   "codemirror_mode": {
    "name": "ipython",
    "version": 3
   },
   "file_extension": ".py",
   "mimetype": "text/x-python",
   "name": "python",
   "nbconvert_exporter": "python",
   "pygments_lexer": "ipython3",
   "version": "3.12.4"
  }
 },
 "nbformat": 4,
 "nbformat_minor": 5
}
