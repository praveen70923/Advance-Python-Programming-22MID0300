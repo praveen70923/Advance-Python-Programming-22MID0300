{
 "cells": [
  {
   "cell_type": "code",
   "execution_count": 3,
   "id": "799590ca-0e30-4628-82e3-4143b31633ef",
   "metadata": {},
   "outputs": [],
   "source": [
    "import nltk"
   ]
  },
  {
   "cell_type": "code",
   "execution_count": 9,
   "id": "98deccdd-3fe8-4c82-a2ff-c32e2d9ea4af",
   "metadata": {},
   "outputs": [
    {
     "name": "stderr",
     "output_type": "stream",
     "text": [
      "[nltk_data] Downloading package punkt to\n",
      "[nltk_data]     C:\\Users\\hp\\AppData\\Roaming\\nltk_data...\n",
      "[nltk_data]   Unzipping tokenizers\\punkt.zip.\n"
     ]
    },
    {
     "name": "stdout",
     "output_type": "stream",
     "text": [
      "['\\ufeffThe', 'Project', 'Gutenberg', 'eBook', 'of', 'The', 'man', 'who', 'mastered', 'time', 'This', 'ebook', 'is', 'for', 'the', 'use', 'of', 'anyone', 'anywhere', 'in', 'the', 'United', 'States', 'and', 'most', 'other', 'parts', 'of', 'the', 'world', 'at', 'no', 'cost', 'and', 'with', 'almost', 'no', 'restrictions', 'whatsoever', '.', 'You', 'may', 'copy', 'it', ',', 'give', 'it', 'away', 'or', 're-use', 'it', 'under', 'the', 'terms', 'of', 'the', 'Project', 'Gutenberg', 'License', 'included', 'with', 'this', 'ebook', 'or', 'online', 'at', 'www.gutenberg.org', '.', 'If', 'you', 'are', 'not', 'located', 'in', 'the', 'United', 'States', ',', 'you', 'will', 'have', 'to', 'check', 'the', 'laws', 'of', 'the', 'country', 'where', 'you', 'are', 'located', 'before', 'using', 'this', 'eBook', '.', 'Title', ':', 'The', 'man', 'who', 'mastered', 'time', 'Author', ':', 'Ray', 'Cummings', 'Release', 'date', ':', 'July', '14', ',', '2025', '[', 'eBook', '#', '76503', ']', 'Language', ':', 'English', 'Original', 'publication', ':', 'New', 'York', ',', 'NY', ':', 'Ace', 'Books', ',', '1929', 'Credits', ':', 'Greg', 'Weeks', ',', 'Paul', 'Ereaut', ',', 'Mary', 'Meehan', '&', 'the', 'Online', 'Distributed', 'Proofreading', 'Canada', 'Team', 'at', 'http', ':', '//www.pgdpcanada.net', '*', '*', '*', 'START', 'OF', 'THE', 'PROJECT', 'GUTENBERG', 'EBOOK', 'THE', 'MAN', 'WHO', 'MASTERED', 'TIME', '*', '*', '*', 'THE', 'MAN', 'WHO', 'MASTERED', 'TIME', 'RAY', 'CUMMINGS', 'ACE', 'BOOKS', 'A', 'Division', 'of', 'A', '.', 'A.', 'Wyn', ',', 'Inc.', '23', 'West', '47th', 'Street', ',', 'New', 'York', '36', ',']\n"
     ]
    }
   ],
   "source": [
    "from urllib import request\n",
    "import nltk\n",
    "from nltk.tokenize import word_tokenize\n",
    "\n",
    "# Download the required tokenizer once (only needed the first time)\n",
    "nltk.download('punkt')\n",
    "\n",
    "# Step 1: Fetch the text\n",
    "url = \"https://www.gutenberg.org/cache/epub/76503/pg76503.txt\"\n",
    "response = request.urlopen(url)\n",
    "raw = response.read().decode('utf8')\n",
    "\n",
    "# Step 2: Tokenize the text\n",
    "tokens = word_tokenize(raw)\n",
    "\n",
    "# Step 3: Print the first 200 tokens\n",
    "print(tokens[:200])\n"
   ]
  },
  {
   "cell_type": "code",
   "execution_count": null,
   "id": "1e7380ee-8e27-4713-8d10-b76bc3615ae9",
   "metadata": {},
   "outputs": [],
   "source": []
  }
 ],
 "metadata": {
  "kernelspec": {
   "display_name": "Python 3 (ipykernel)",
   "language": "python",
   "name": "python3"
  },
  "language_info": {
   "codemirror_mode": {
    "name": "ipython",
    "version": 3
   },
   "file_extension": ".py",
   "mimetype": "text/x-python",
   "name": "python",
   "nbconvert_exporter": "python",
   "pygments_lexer": "ipython3",
   "version": "3.12.4"
  }
 },
 "nbformat": 4,
 "nbformat_minor": 5
}
