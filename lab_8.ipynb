{
 "cells": [
  {
   "cell_type": "code",
   "execution_count": 6,
   "id": "e12c2a20-870f-4161-aa79-25bef203df21",
   "metadata": {},
   "outputs": [
    {
     "name": "stdout",
     "output_type": "stream",
     "text": [
      "4\n",
      "5\n",
      "6\n",
      "7\n",
      "8\n",
      "9\n"
     ]
    }
   ],
   "source": [
    "c=456789\n",
    "digits=[int(d) for d in str(c)]\n",
    "for digit in digits:\n",
    "        print(digit)"
   ]
  },
  {
   "cell_type": "code",
   "execution_count": 8,
   "id": "8b4087c2-6bbb-4937-a684-b902b5397b8c",
   "metadata": {},
   "outputs": [
    {
     "name": "stdout",
     "output_type": "stream",
     "text": [
      "['__add__', '__class__', '__class_getitem__', '__contains__', '__delattr__', '__delitem__', '__dir__', '__doc__', '__eq__', '__format__', '__ge__', '__getattribute__', '__getitem__', '__getstate__', '__gt__', '__hash__', '__iadd__', '__imul__', '__init__', '__init_subclass__', '__iter__', '__le__', '__len__', '__lt__', '__mul__', '__ne__', '__new__', '__reduce__', '__reduce_ex__', '__repr__', '__reversed__', '__rmul__', '__setattr__', '__setitem__', '__sizeof__', '__str__', '__subclasshook__', 'append', 'clear', 'copy', 'count', 'extend', 'index', 'insert', 'pop', 'remove', 'reverse', 'sort']\n"
     ]
    }
   ],
   "source": [
    "l=[1,2,3,4]\n",
    "print(dir(l))"
   ]
  },
  {
   "cell_type": "code",
   "execution_count": 11,
   "id": "f414045d-885b-4022-aa20-eaf733cc5e49",
   "metadata": {},
   "outputs": [
    {
     "name": "stdout",
     "output_type": "stream",
     "text": [
      "['__class__', '__delattr__', '__dir__', '__doc__', '__eq__', '__format__', '__ge__', '__getattribute__', '__getstate__', '__gt__', '__hash__', '__init__', '__init_subclass__', '__iter__', '__le__', '__length_hint__', '__lt__', '__ne__', '__new__', '__next__', '__reduce__', '__reduce_ex__', '__repr__', '__setattr__', '__setstate__', '__sizeof__', '__str__', '__subclasshook__']\n"
     ]
    }
   ],
   "source": [
    "names=[\"praven\",\"gaurav\",\"ram\"]\n",
    "loop=names.__iter__()\n",
    "print(dir(loop))"
   ]
  },
  {
   "cell_type": "code",
   "execution_count": 12,
   "id": "3415947b-4c56-49c2-a90e-d712d9238a8b",
   "metadata": {},
   "outputs": [
    {
     "data": {
      "text/plain": [
       "list"
      ]
     },
     "execution_count": 12,
     "metadata": {},
     "output_type": "execute_result"
    }
   ],
   "source": [
    "type(names)"
   ]
  },
  {
   "cell_type": "code",
   "execution_count": 13,
   "id": "86c2f35c-db4d-4958-8409-e138851284d2",
   "metadata": {},
   "outputs": [
    {
     "data": {
      "text/plain": [
       "list_iterator"
      ]
     },
     "execution_count": 13,
     "metadata": {},
     "output_type": "execute_result"
    }
   ],
   "source": [
    "type(loop)"
   ]
  },
  {
   "cell_type": "code",
   "execution_count": 14,
   "id": "84b6b818-7170-440c-a7df-5f2c824359b9",
   "metadata": {},
   "outputs": [],
   "source": [
    "loop=iter(names)"
   ]
  },
  {
   "cell_type": "code",
   "execution_count": 15,
   "id": "8f11ced4-8afe-4bd0-8cbe-963a9090bd63",
   "metadata": {},
   "outputs": [
    {
     "name": "stdout",
     "output_type": "stream",
     "text": [
      "praven\n"
     ]
    }
   ],
   "source": [
    "print(next(loop))"
   ]
  },
  {
   "cell_type": "code",
   "execution_count": 16,
   "id": "bf5c5155-1062-467d-a32b-f2e4a17cfabc",
   "metadata": {},
   "outputs": [
    {
     "name": "stdout",
     "output_type": "stream",
     "text": [
      "gaurav\n"
     ]
    }
   ],
   "source": [
    "print(next(loop))"
   ]
  },
  {
   "cell_type": "code",
   "execution_count": 17,
   "id": "78a46f97-ae14-4785-a279-4b367ea64e4e",
   "metadata": {},
   "outputs": [
    {
     "name": "stdout",
     "output_type": "stream",
     "text": [
      "ram\n"
     ]
    }
   ],
   "source": [
    "print(next(loop))"
   ]
  },
  {
   "cell_type": "code",
   "execution_count": 18,
   "id": "5b703768-ca29-4afc-8337-9f4c8060b6a9",
   "metadata": {},
   "outputs": [
    {
     "ename": "StopIteration",
     "evalue": "",
     "output_type": "error",
     "traceback": [
      "\u001b[0;31m---------------------------------------------------------------------------\u001b[0m",
      "\u001b[0;31mStopIteration\u001b[0m                             Traceback (most recent call last)",
      "Cell \u001b[0;32mIn[18], line 1\u001b[0m\n\u001b[0;32m----> 1\u001b[0m \u001b[38;5;28mprint\u001b[39m(\u001b[38;5;28mnext\u001b[39m(loop))\n",
      "\u001b[0;31mStopIteration\u001b[0m: "
     ]
    }
   ],
   "source": [
    "print(next(loop))"
   ]
  },
  {
   "cell_type": "code",
   "execution_count": 26,
   "id": "a1abf914-44e5-414a-9292-34f78c62f2b6",
   "metadata": {},
   "outputs": [
    {
     "name": "stdout",
     "output_type": "stream",
     "text": [
      "praven\n",
      "gaurav\n",
      "ram\n"
     ]
    }
   ],
   "source": [
    "names=[\"praven\",\"gaurav\",\"ram\"]\n",
    "loop=iter(names)\n",
    "while True:\n",
    "    try:\n",
    "        name=next(loop)\n",
    "        print(name)\n",
    "    except StopIteration:\n",
    "        break"
   ]
  },
  {
   "cell_type": "code",
   "execution_count": 34,
   "id": "a26dbffe-5450-4056-a3ca-ef97492e235b",
   "metadata": {},
   "outputs": [
    {
     "name": "stdout",
     "output_type": "stream",
     "text": [
      "[1, 4, 9, 16, 25]\n"
     ]
    }
   ],
   "source": [
    "def square (x):\n",
    "    return x*x\n",
    "numbers=[1,2,3,4,5]\n",
    "print(list(map(square,numbers)))"
   ]
  },
  {
   "cell_type": "code",
   "execution_count": 37,
   "id": "f5de09c0-d88f-4f92-83d0-dabcdab5e0ff",
   "metadata": {},
   "outputs": [
    {
     "name": "stdout",
     "output_type": "stream",
     "text": [
      "[1, 4, 9, 16, 25]\n"
     ]
    }
   ],
   "source": [
    "\n",
    "numbers=[1,2,3,4,5]\n",
    "print(list(map(lambda x:x*x,numbers)))"
   ]
  },
  {
   "cell_type": "code",
   "execution_count": 41,
   "id": "bba95a59-50ef-4d7f-b84c-e4bef56f5934",
   "metadata": {},
   "outputs": [
    {
     "name": "stdout",
     "output_type": "stream",
     "text": [
      "[4, 5]\n"
     ]
    }
   ],
   "source": [
    "print(list(filter(lambda x:x>3,numbers)))"
   ]
  },
  {
   "cell_type": "code",
   "execution_count": 42,
   "id": "755e943e-9623-462e-b5fe-d6991bdb4246",
   "metadata": {},
   "outputs": [
    {
     "name": "stdout",
     "output_type": "stream",
     "text": [
      "hello world!\n",
      "python is fun\n"
     ]
    }
   ],
   "source": [
    "def convert_to_lowercase(input_string):\n",
    "  return input_string.lower()\n",
    "my_string = \"Hello World!\"\n",
    "lowercase_string = convert_to_lowercase(my_string)\n",
    "print(lowercase_string)\n",
    "\n",
    "another_string = \"PYTHON is Fun\"\n",
    "print(convert_to_lowercase(another_string))\n"
   ]
  },
  {
   "cell_type": "code",
   "execution_count": null,
   "id": "2c07052e-4596-4904-98ae-bab205594f95",
   "metadata": {},
   "outputs": [],
   "source": []
  },
  {
   "cell_type": "code",
   "execution_count": 45,
   "id": "a0e919e2-be8f-429d-932c-0b267597651b",
   "metadata": {},
   "outputs": [
    {
     "name": "stdout",
     "output_type": "stream",
     "text": [
      "Collecting functools\n",
      "  Downloading functools-0.5.tar.gz (4.9 kB)\n",
      "  Preparing metadata (setup.py) ... \u001b[?25ldone\n",
      "\u001b[?25hBuilding wheels for collected packages: functools\n",
      "  Building wheel for functools (setup.py) ... \u001b[?25lerror\n",
      "  \u001b[1;31merror\u001b[0m: \u001b[1msubprocess-exited-with-error\u001b[0m\n",
      "  \n",
      "  \u001b[31m×\u001b[0m \u001b[32mpython setup.py bdist_wheel\u001b[0m did not run successfully.\n",
      "  \u001b[31m│\u001b[0m exit code: \u001b[1;36m1\u001b[0m\n",
      "  \u001b[31m╰─>\u001b[0m \u001b[31m[93 lines of output]\u001b[0m\n",
      "  \u001b[31m   \u001b[0m src/compose.c: In function ‘compose_dealloc’:\n",
      "  \u001b[31m   \u001b[0m src/compose.c:96:11: error: ‘struct compose’ has no member named ‘ob_type’\n",
      "  \u001b[31m   \u001b[0m    96 |         co->ob_type->tp_free(co);\n",
      "  \u001b[31m   \u001b[0m       |           ^~\n",
      "  \u001b[31m   \u001b[0m src/compose.c: In function ‘compose_repr’:\n",
      "  \u001b[31m   \u001b[0m src/compose.c:137:13: warning: implicit declaration of function ‘PyString_FromFormat’; did you mean ‘PyBytes_FromFormat’? [-Wimplicit-function-declaration]\n",
      "  \u001b[31m   \u001b[0m   137 |         s = PyString_FromFormat(\"<composition on %s at %p>\",\n",
      "  \u001b[31m   \u001b[0m       |             ^~~~~~~~~~~~~~~~~~~\n",
      "  \u001b[31m   \u001b[0m       |             PyBytes_FromFormat\n",
      "  \u001b[31m   \u001b[0m src/compose.c:138:13: warning: implicit declaration of function ‘PyString_AsString’ [-Wimplicit-function-declaration]\n",
      "  \u001b[31m   \u001b[0m   138 |             PyString_AsString(grepr), (void *)co);\n",
      "  \u001b[31m   \u001b[0m       |             ^~~~~~~~~~~~~~~~~\n",
      "  \u001b[31m   \u001b[0m src/compose.c:137:11: warning: assignment to ‘PyObject *’ {aka ‘struct _object *’} from ‘int’ makes pointer from integer without a cast [-Wint-conversion]\n",
      "  \u001b[31m   \u001b[0m   137 |         s = PyString_FromFormat(\"<composition on %s at %p>\",\n",
      "  \u001b[31m   \u001b[0m       |           ^\n",
      "  \u001b[31m   \u001b[0m src/compose.c: At top level:\n",
      "  \u001b[31m   \u001b[0m src/compose.c:143:36: warning: missing braces around initializer [-Wmissing-braces]\n",
      "  \u001b[31m   \u001b[0m   143 | static PyTypeObject compose_type = {\n",
      "  \u001b[31m   \u001b[0m       |                                    ^\n",
      "  \u001b[31m   \u001b[0m In file included from /home/software/software/include/python3.12/Python.h:44,\n",
      "  \u001b[31m   \u001b[0m                  from src/compose.c:31:\n",
      "  \u001b[31m   \u001b[0m /home/software/software/include/python3.12/object.h:142:9: warning: initialization of ‘long int’ from ‘void *’ makes integer from pointer without a cast [-Wint-conversion]\n",
      "  \u001b[31m   \u001b[0m   142 |         (type)                   \\\n",
      "  \u001b[31m   \u001b[0m       |         ^\n",
      "  \u001b[31m   \u001b[0m src/compose.c:144:9: note: in expansion of macro ‘PyObject_HEAD_INIT’\n",
      "  \u001b[31m   \u001b[0m   144 |         PyObject_HEAD_INIT(NULL)\n",
      "  \u001b[31m   \u001b[0m       |         ^~~~~~~~~~~~~~~~~~\n",
      "  \u001b[31m   \u001b[0m /home/software/software/include/python3.12/object.h:142:9: note: (near initialization for ‘compose_type.ob_base.ob_size’)\n",
      "  \u001b[31m   \u001b[0m   142 |         (type)                   \\\n",
      "  \u001b[31m   \u001b[0m       |         ^\n",
      "  \u001b[31m   \u001b[0m src/compose.c:144:9: note: in expansion of macro ‘PyObject_HEAD_INIT’\n",
      "  \u001b[31m   \u001b[0m   144 |         PyObject_HEAD_INIT(NULL)\n",
      "  \u001b[31m   \u001b[0m       |         ^~~~~~~~~~~~~~~~~~\n",
      "  \u001b[31m   \u001b[0m src/compose.c:143:36: warning: missing braces around initializer [-Wmissing-braces]\n",
      "  \u001b[31m   \u001b[0m   143 | static PyTypeObject compose_type = {\n",
      "  \u001b[31m   \u001b[0m       |                                    ^\n",
      "  \u001b[31m   \u001b[0m src/compose.c:146:9: warning: initialization of ‘long int’ from ‘char *’ makes integer from pointer without a cast [-Wint-conversion]\n",
      "  \u001b[31m   \u001b[0m   146 |         \"compose\",                      /* tp_name */\n",
      "  \u001b[31m   \u001b[0m       |         ^~~~~~~~~\n",
      "  \u001b[31m   \u001b[0m src/compose.c:146:9: note: (near initialization for ‘compose_type.tp_basicsize’)\n",
      "  \u001b[31m   \u001b[0m src/compose.c:150:9: warning: initialization of ‘long int’ from ‘void (*)(PyObject *)’ {aka ‘void (*)(struct _object *)’} makes integer from pointer without a cast [-Wint-conversion]\n",
      "  \u001b[31m   \u001b[0m   150 |         (destructor)compose_dealloc,    /* tp_dealloc */\n",
      "  \u001b[31m   \u001b[0m       |         ^\n",
      "  \u001b[31m   \u001b[0m src/compose.c:150:9: note: (near initialization for ‘compose_type.tp_vectorcall_offset’)\n",
      "  \u001b[31m   \u001b[0m src/compose.c:155:9: warning: initialization of ‘PyNumberMethods *’ from incompatible pointer type ‘PyObject * (*)(PyObject *)’ {aka ‘struct _object * (*)(struct _object *)’} [-Wincompatible-pointer-types]\n",
      "  \u001b[31m   \u001b[0m   155 |         (reprfunc)compose_repr,         /* tp_repr */\n",
      "  \u001b[31m   \u001b[0m       |         ^\n",
      "  \u001b[31m   \u001b[0m src/compose.c:155:9: note: (near initialization for ‘compose_type.tp_as_number’)\n",
      "  \u001b[31m   \u001b[0m src/compose.c:160:9: warning: initialization of ‘PyObject * (*)(PyObject *)’ {aka ‘struct _object * (*)(struct _object *)’} from incompatible pointer type ‘PyObject * (*)(PyObject *, PyObject *, PyObject *)’ {aka ‘struct _object * (*)(struct _object *, struct _object *, struct _object *)’} [-Wincompatible-pointer-types]\n",
      "  \u001b[31m   \u001b[0m   160 |         (ternaryfunc)compose_call,      /* tp_call */\n",
      "  \u001b[31m   \u001b[0m       |         ^\n",
      "  \u001b[31m   \u001b[0m src/compose.c:160:9: note: (near initialization for ‘compose_type.tp_str’)\n",
      "  \u001b[31m   \u001b[0m In file included from /home/software/software/include/python3.12/Python.h:44,\n",
      "  \u001b[31m   \u001b[0m                  from src/compose.c:31:\n",
      "  \u001b[31m   \u001b[0m /home/software/software/include/python3.12/object.h:554:29: warning: initialization of ‘const char *’ from ‘long unsigned int’ makes pointer from integer without a cast [-Wint-conversion]\n",
      "  \u001b[31m   \u001b[0m   554 | #define Py_TPFLAGS_DEFAULT  ( \\\n",
      "  \u001b[31m   \u001b[0m       |                             ^\n",
      "  \u001b[31m   \u001b[0m src/compose.c:165:9: note: in expansion of macro ‘Py_TPFLAGS_DEFAULT’\n",
      "  \u001b[31m   \u001b[0m   165 |         Py_TPFLAGS_DEFAULT | Py_TPFLAGS_HAVE_GC |\n",
      "  \u001b[31m   \u001b[0m       |         ^~~~~~~~~~~~~~~~~~\n",
      "  \u001b[31m   \u001b[0m /home/software/software/include/python3.12/object.h:554:29: note: (near initialization for ‘compose_type.tp_doc’)\n",
      "  \u001b[31m   \u001b[0m   554 | #define Py_TPFLAGS_DEFAULT  ( \\\n",
      "  \u001b[31m   \u001b[0m       |                             ^\n",
      "  \u001b[31m   \u001b[0m src/compose.c:165:9: note: in expansion of macro ‘Py_TPFLAGS_DEFAULT’\n",
      "  \u001b[31m   \u001b[0m   165 |         Py_TPFLAGS_DEFAULT | Py_TPFLAGS_HAVE_GC |\n",
      "  \u001b[31m   \u001b[0m       |         ^~~~~~~~~~~~~~~~~~\n",
      "  \u001b[31m   \u001b[0m src/compose.c:167:9: warning: initialization of ‘int (*)(PyObject *, int (*)(PyObject *, void *), void *)’ {aka ‘int (*)(struct _object *, int (*)(struct _object *, void *), void *)’} from incompatible pointer type ‘const char *’ [-Wincompatible-pointer-types]\n",
      "  \u001b[31m   \u001b[0m   167 |         compose_doc,                    /* tp_doc */\n",
      "  \u001b[31m   \u001b[0m       |         ^~~~~~~~~~~\n",
      "  \u001b[31m   \u001b[0m src/compose.c:167:9: note: (near initialization for ‘compose_type.tp_traverse’)\n",
      "  \u001b[31m   \u001b[0m src/compose.c:168:9: warning: initialization of ‘int (*)(PyObject *)’ {aka ‘int (*)(struct _object *)’} from incompatible pointer type ‘int (*)(PyObject *, int (*)(PyObject *, void *), void *)’ {aka ‘int (*)(struct _object *, int (*)(struct _object *, void *), void *)’} [-Wincompatible-pointer-types]\n",
      "  \u001b[31m   \u001b[0m   168 |         (traverseproc)compose_traverse, /* tp_traverse */\n",
      "  \u001b[31m   \u001b[0m       |         ^\n",
      "  \u001b[31m   \u001b[0m src/compose.c:168:9: note: (near initialization for ‘compose_type.tp_clear’)\n",
      "  \u001b[31m   \u001b[0m src/compose.c:179:9: warning: initialization of ‘int (*)(PyObject *, PyObject *, PyObject *)’ {aka ‘int (*)(struct _object *, struct _object *, struct _object *)’} from incompatible pointer type ‘PyObject * (*)(PyObject *, PyObject *)’ {aka ‘struct _object * (*)(struct _object *, struct _object *)’} [-Wincompatible-pointer-types]\n",
      "  \u001b[31m   \u001b[0m   179 |         PyMethod_New,                   /* tp_descr_get */\n",
      "  \u001b[31m   \u001b[0m       |         ^~~~~~~~~~~~\n",
      "  \u001b[31m   \u001b[0m src/compose.c:179:9: note: (near initialization for ‘compose_type.tp_descr_set’)\n",
      "  \u001b[31m   \u001b[0m src/compose.c:184:9: warning: initialization of ‘void (*)(void *)’ from incompatible pointer type ‘PyObject * (*)(PyTypeObject *, PyObject *, PyObject *)’ {aka ‘struct _object * (*)(struct _typeobject *, struct _object *, struct _object *)’} [-Wincompatible-pointer-types]\n",
      "  \u001b[31m   \u001b[0m   184 |         compose_new,                    /* tp_new */\n",
      "  \u001b[31m   \u001b[0m       |         ^~~~~~~~~~~\n",
      "  \u001b[31m   \u001b[0m src/compose.c:184:9: note: (near initialization for ‘compose_type.tp_free’)\n",
      "  \u001b[31m   \u001b[0m src/compose.c:185:9: warning: initialization of ‘int (*)(PyObject *)’ {aka ‘int (*)(struct _object *)’} from incompatible pointer type ‘void (*)(void *)’ [-Wincompatible-pointer-types]\n",
      "  \u001b[31m   \u001b[0m   185 |         PyObject_GC_Del,                /* tp_free */\n",
      "  \u001b[31m   \u001b[0m       |         ^~~~~~~~~~~~~~~\n",
      "  \u001b[31m   \u001b[0m src/compose.c:185:9: note: (near initialization for ‘compose_type.tp_is_gc’)\n",
      "  \u001b[31m   \u001b[0m src/compose.c:143:36: warning: missing braces around initializer [-Wmissing-braces]\n",
      "  \u001b[31m   \u001b[0m   143 | static PyTypeObject compose_type = {\n",
      "  \u001b[31m   \u001b[0m       |                                    ^\n",
      "  \u001b[31m   \u001b[0m src/compose.c:28:19: warning: ‘rcsid’ defined but not used [-Wunused-const-variable=]\n",
      "  \u001b[31m   \u001b[0m    28 | static const char rcsid[] = \"@(#)$Dima: pylib/functools/src/compose.c,v 1.3 2005/08/22 07:39:33 dima Exp $\";\n",
      "  \u001b[31m   \u001b[0m       |                   ^~~~~\n",
      "  \u001b[31m   \u001b[0m error: command '/usr/bin/gcc' failed with exit code 1\n",
      "  \u001b[31m   \u001b[0m \u001b[31m[end of output]\u001b[0m\n",
      "  \n",
      "  \u001b[1;35mnote\u001b[0m: This error originates from a subprocess, and is likely not a problem with pip.\n",
      "\u001b[31m  ERROR: Failed building wheel for functools\u001b[0m\u001b[31m\n",
      "\u001b[0m\u001b[?25h  Running setup.py clean for functools\n",
      "Failed to build functools\n",
      "\u001b[31mERROR: Could not build wheels for functools, which is required to install pyproject.toml-based projects\u001b[0m\u001b[31m\n",
      "\u001b[0mNote: you may need to restart the kernel to use updated packages.\n"
     ]
    }
   ],
   "source": [
    "pip install functools"
   ]
  },
  {
   "cell_type": "code",
   "execution_count": 51,
   "id": "aef75b39-37c0-401f-abd3-11d898ee6fad",
   "metadata": {},
   "outputs": [
    {
     "name": "stdout",
     "output_type": "stream",
     "text": [
      "15\n"
     ]
    }
   ],
   "source": [
    "from functools import reduce\n",
    "print(reduce(lambda x,y:x+y,numbers))"
   ]
  },
  {
   "cell_type": "code",
   "execution_count": 50,
   "id": "9cbc0fb0-d399-47f6-97be-223c6b9333a8",
   "metadata": {},
   "outputs": [
    {
     "name": "stdout",
     "output_type": "stream",
     "text": [
      "15\n"
     ]
    }
   ],
   "source": [
    "from functools import reduce\n",
    "\n",
    "numbers = [1, 2, 3, 4, 5]\n",
    "print(reduce(lambda x, y: x + y, numbers))"
   ]
  },
  {
   "cell_type": "code",
   "execution_count": null,
   "id": "3752a21f-e37f-4081-8395-ac9b6279151e",
   "metadata": {},
   "outputs": [],
   "source": []
  }
 ],
 "metadata": {
  "kernelspec": {
   "display_name": "Python 3 (ipykernel)",
   "language": "python",
   "name": "python3"
  },
  "language_info": {
   "codemirror_mode": {
    "name": "ipython",
    "version": 3
   },
   "file_extension": ".py",
   "mimetype": "text/x-python",
   "name": "python",
   "nbconvert_exporter": "python",
   "pygments_lexer": "ipython3",
   "version": "3.12.4"
  }
 },
 "nbformat": 4,
 "nbformat_minor": 5
}
