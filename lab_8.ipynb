{
 "cells": [
  {
   "cell_type": "code",
   "execution_count": 1,
   "id": "c0567886-6aa9-4526-a6e8-d27a87e7b1f0",
   "metadata": {},
   "outputs": [],
   "source": [
    "# Lab 8 – Common Python Errors and Fixes Using map(), lambda, and Functions\n",
    "# Author: Praveen Kumar G (22MID0300)\n",
    "# Date: August 5, 2025\n",
    "# Purpose: To understand and resolve common issues encountered when using Python's map() function,\n",
    "#          lambda expressions, and user-defined functions. This lab focuses on how return values affect\n",
    "#          the outcome of map(), the difference between print and return, and writing clean, functional code\n",
    "#          that avoids pitfalls when mapping functions to sequences."
   ]
  },
  {
   "cell_type": "markdown",
   "id": "696688d5-d096-4b64-8259-85e57b29233b",
   "metadata": {},
   "source": [
    "## 1. Lambda Functions"
   ]
  },
  {
   "cell_type": "code",
   "execution_count": 3,
   "id": "f7ff1760-96dc-4427-b78a-58fd30edf92e",
   "metadata": {},
   "outputs": [
    {
     "name": "stdout",
     "output_type": "stream",
     "text": [
      "The double of 3 is 6\n"
     ]
    }
   ],
   "source": [
    "#Defines a function `double(x)` that returns twice the input value.\n",
    "\n",
    "def double(x):\n",
    "    return x * 2\n",
    "# Example usage: test the function with a sample input\n",
    "test_value = 3\n",
    "result = double(test_value)\n",
    "print(f\"The double of {test_value} is {result}\")\n"
   ]
  },
  {
   "cell_type": "code",
   "execution_count": 4,
   "id": "2ed997bc-444d-4a58-a58c-63485bf25836",
   "metadata": {},
   "outputs": [],
   "source": [
    "# Define the same doubling function using a double expression\n",
    "def double(x: float) -> float:\n",
    "    \"\"\"Returns double the input value.\"\"\"\n",
    "    return x * 2"
   ]
  },
  {
   "cell_type": "code",
   "execution_count": 5,
   "id": "5bfada23-99aa-4b70-9e8f-79f9c3ef2bc1",
   "metadata": {},
   "outputs": [
    {
     "name": "stdout",
     "output_type": "stream",
     "text": [
      "8\n",
      "5.0\n"
     ]
    }
   ],
   "source": [
    "print(double(4))\n",
    "print(double(2.5)) "
   ]
  },
  {
   "cell_type": "code",
   "execution_count": 6,
   "id": "184dc819-9e9a-4cb9-833e-843f93d82487",
   "metadata": {},
   "outputs": [
    {
     "name": "stdout",
     "output_type": "stream",
     "text": [
      "12\n"
     ]
    }
   ],
   "source": [
    "# Define the same doubling function using a lambda expression\n",
    "double = lambda x: x * 2\n",
    "\n",
    "print(double(6))  # Test the lambda function with input 6"
   ]
  },
  {
   "cell_type": "code",
   "execution_count": 7,
   "id": "4c3b4da9-daa6-499b-943a-ac0173af3a23",
   "metadata": {},
   "outputs": [
    {
     "name": "stdout",
     "output_type": "stream",
     "text": [
      "8\n"
     ]
    }
   ],
   "source": [
    "# Define a function to add two numbers and return the sum\n",
    "def add(a, b):\n",
    "    return a + b\n",
    "\n",
    "print(add(5, 3))  # Test the add function with inputs 5 and 3"
   ]
  },
  {
   "cell_type": "code",
   "execution_count": 8,
   "id": "4c54c173-34f2-49bc-9129-00694e90cfc4",
   "metadata": {},
   "outputs": [
    {
     "name": "stdout",
     "output_type": "stream",
     "text": [
      "8\n"
     ]
    }
   ],
   "source": [
    "# Define the same add function using a lambda expression\n",
    "add = lambda a, b: a + b\n",
    "\n",
    "print(add(5, 3))  # Test the lambda add function with inputs 5 and 3"
   ]
  },
  {
   "cell_type": "code",
   "execution_count": 9,
   "id": "2cc9b712-bdc1-4e74-a293-780170fa419c",
   "metadata": {},
   "outputs": [
    {
     "name": "stdout",
     "output_type": "stream",
     "text": [
      "12\n"
     ]
    }
   ],
   "source": [
    "# Define a function to return the maximum of two numbers\n",
    "def maximum(a, b):\n",
    "    if a > b:\n",
    "        return a\n",
    "    else:\n",
    "        return b\n",
    "\n",
    "print(maximum(8, 12))  # Test the maximum function with inputs 8 and 12"
   ]
  },
  {
   "cell_type": "code",
   "execution_count": 10,
   "id": "76e20919-4008-4d66-b434-fb9bcbb7a589",
   "metadata": {},
   "outputs": [
    {
     "name": "stdout",
     "output_type": "stream",
     "text": [
      "12\n"
     ]
    }
   ],
   "source": [
    "# Define the same maximum function using a lambda expression and ternary operator\n",
    "maximum = lambda a, b: a if a > b else b\n",
    "\n",
    "print(maximum(8, 12))  # Test the lambda maximum function with inputs 8 and 12"
   ]
  },
  {
   "cell_type": "markdown",
   "id": "1534b3b2-5cbc-429a-a4e3-aaba3a5185f6",
   "metadata": {},
   "source": [
    "## 2. Iterables & Iterators"
   ]
  },
  {
   "cell_type": "markdown",
   "id": "5980d3fc-ba59-45cc-aac4-9758d6994947",
   "metadata": {},
   "source": [
    "### Important Note: \n",
    "#### - **Iterables**: Objects like `list`, `tuple`, `str`, `dict`, `set` that can return an iterator using `iter()`.\n",
    "#### - **Iterators**: Objects with `__next__()` method that return items one by one.\n",
    "#### - **The difference**: All iterators are iterables, but not all iterables are iterators.\n"
   ]
  },
  {
   "cell_type": "code",
   "execution_count": 13,
   "id": "76ce2b7d-cc32-4bd0-abd1-7ed1eb467934",
   "metadata": {},
   "outputs": [
    {
     "ename": "TypeError",
     "evalue": "'int' object is not iterable",
     "output_type": "error",
     "traceback": [
      "\u001b[1;31m---------------------------------------------------------------------------\u001b[0m",
      "\u001b[1;31mTypeError\u001b[0m                                 Traceback (most recent call last)",
      "Cell \u001b[1;32mIn[13], line 5\u001b[0m\n\u001b[0;32m      1\u001b[0m n \u001b[38;5;241m=\u001b[39m \u001b[38;5;241m45637453\u001b[39m\n\u001b[0;32m      3\u001b[0m \u001b[38;5;66;03m# Integers are NOT iterable in Python\u001b[39;00m\n\u001b[0;32m      4\u001b[0m \u001b[38;5;66;03m# The following for-loop will raise a TypeError because you cannot iterate over an int\u001b[39;00m\n\u001b[1;32m----> 5\u001b[0m \u001b[38;5;28;01mfor\u001b[39;00m i \u001b[38;5;129;01min\u001b[39;00m n:\n\u001b[0;32m      6\u001b[0m     \u001b[38;5;28mprint\u001b[39m(i)\n",
      "\u001b[1;31mTypeError\u001b[0m: 'int' object is not iterable"
     ]
    }
   ],
   "source": [
    "n = 45637453\n",
    "\n",
    "# Integers are NOT iterable in Python\n",
    "# The following for-loop will raise a TypeError because you cannot iterate over an int\n",
    "for i in n:\n",
    "    print(i)"
   ]
  },
  {
   "cell_type": "code",
   "execution_count": 24,
   "id": "e6c9465b-72ec-48ed-8c0a-a1d0a57ad9a3",
   "metadata": {},
   "outputs": [
    {
     "name": "stdout",
     "output_type": "stream",
     "text": [
      "4\n",
      "5\n",
      "6\n",
      "3\n",
      "7\n",
      "4\n",
      "5\n",
      "3\n"
     ]
    }
   ],
   "source": [
    "n = 45637453\n",
    "\n",
    "# Convert the integer to a string because strings are iterable (can be looped over)\n",
    "for i in str(n):\n",
    "    # 'i' is each character (digit) from the iterable string\n",
    "    print(i)  # Output each digit individually"
   ]
  },
  {
   "cell_type": "code",
   "execution_count": 26,
   "id": "577d2b8e-d1ce-4722-bbec-7c3b7b19871b",
   "metadata": {},
   "outputs": [
    {
     "name": "stdout",
     "output_type": "stream",
     "text": [
      "[1, 2, 3, 4, 5]\n"
     ]
    }
   ],
   "source": [
    "#Convert an integer to a list of its digits using string conversion and list comprehension.\n",
    "num = 12345\n",
    "\n",
    "# Convert the integer to string, then use list comprehension to extract digits\n",
    "digits = [int(d) for d in str(num)]\n",
    "\n",
    "print(digits)  # Output: [1, 2, 3, 4, 5]\n"
   ]
  },
  {
   "cell_type": "code",
   "execution_count": 28,
   "id": "ddb658a6-7055-4c60-a509-5c85b457cd97",
   "metadata": {},
   "outputs": [
    {
     "name": "stdout",
     "output_type": "stream",
     "text": [
      "List of digits: [4, 5, 6, 3, 7, 4, 5, 3]\n",
      "Type of digits: <class 'list'>\n",
      "\n",
      "Iterating over digits:\n",
      "Digit: 4 | Type: <class 'int'>\n",
      "Digit: 5 | Type: <class 'int'>\n",
      "Digit: 6 | Type: <class 'int'>\n",
      "Digit: 3 | Type: <class 'int'>\n",
      "Digit: 7 | Type: <class 'int'>\n",
      "Digit: 4 | Type: <class 'int'>\n",
      "Digit: 5 | Type: <class 'int'>\n",
      "Digit: 3 | Type: <class 'int'>\n"
     ]
    }
   ],
   "source": [
    "# Step 1: Define an integer\n",
    "n = 45637453\n",
    "\n",
    "# Step 2: Convert the integer to a string to make it iterable (strings are sequences of characters)\n",
    "# Then use list comprehension to convert each character back to an integer digit\n",
    "digits = [int(d) for d in str(n)]\n",
    "\n",
    "# Step 3: Print the list of digits\n",
    "print(\"List of digits:\", digits)\n",
    "\n",
    "# Step 4: Check the type of the digits variable\n",
    "print(\"Type of digits:\", type(digits))   # <class 'list'>\n",
    "\n",
    "# Step 5: Iterate over the list 'digits' and explore each element\n",
    "print(\"\\nIterating over digits:\")\n",
    "for digit in digits:\n",
    "    print(\"Digit:\", digit, \"| Type:\", type(digit))  # Each should be <class 'int'>\n"
   ]
  },
  {
   "cell_type": "code",
   "execution_count": 30,
   "id": "9afa8449-23b7-4e8f-a401-0ba1d8468765",
   "metadata": {},
   "outputs": [
    {
     "name": "stdout",
     "output_type": "stream",
     "text": [
      "['__add__', '__class__', '__class_getitem__', '__contains__', '__delattr__', '__delitem__', '__dir__', '__doc__', '__eq__', '__format__', '__ge__', '__getattribute__', '__getitem__', '__getstate__', '__gt__', '__hash__', '__iadd__', '__imul__', '__init__', '__init_subclass__', '__iter__', '__le__', '__len__', '__lt__', '__mul__', '__ne__', '__new__', '__reduce__', '__reduce_ex__', '__repr__', '__reversed__', '__rmul__', '__setattr__', '__setitem__', '__sizeof__', '__str__', '__subclasshook__', 'append', 'clear', 'copy', 'count', 'extend', 'index', 'insert', 'pop', 'remove', 'reverse', 'sort']\n"
     ]
    }
   ],
   "source": [
    "# Use dir() to list all attributes and methods available for the list object 'l'\n",
    "l = [1, 2, 3, 4, 5]\n",
    "# This shows built-in methods and special methods\n",
    "print(dir(l))"
   ]
  },
  {
   "cell_type": "markdown",
   "id": "3476be4e-cf3c-49ea-8b37-b1d7b526a69f",
   "metadata": {},
   "source": [
    "## 3) __ _iter_ __() & __ _next_ __() functions"
   ]
  },
  {
   "cell_type": "markdown",
   "id": "285596a8-4714-4126-b8e7-3b931725f987",
   "metadata": {},
   "source": [
    "### **Purpose:**\n",
    "#### These two special methods are used to create custom iterators in Python.\n",
    "\n",
    "### **Definitions:**\n",
    "#### __iter__()\n",
    "####     This method returns the iterator object itself. It is called once when the iteration starts.\n",
    "\n",
    "#### __next__()\n",
    "####     This method returns the next value from the iterator.\n",
    "####     When there are no more items to return, it raises a StopIteration exception to signal the end of the iteration."
   ]
  },
  {
   "cell_type": "code",
   "execution_count": 36,
   "id": "1175f936-4494-4e5c-94be-1bc0ea83c20a",
   "metadata": {},
   "outputs": [],
   "source": [
    "# Method 1: Using __iter__() Directly\n",
    "# This method manually calls the special __iter__() function on an iterable (like a list).\n",
    "\n",
    "# It returns an iterator object, which can then be used to get values one by one.\n",
    "\n",
    "# It's not commonly used in day-to-day practice—mostly helpful for understanding how iteration works under the hood.\n",
    "\n",
    "# These special methods with double underscores (like __iter__) are called \"dunder methods\"."
   ]
  },
  {
   "cell_type": "code",
   "execution_count": 38,
   "id": "e40b9fcf-c1ce-40a0-89dc-8448deeb0402",
   "metadata": {},
   "outputs": [
    {
     "name": "stdout",
     "output_type": "stream",
     "text": [
      "<class 'list'>\n",
      "<class 'list_iterator'>\n"
     ]
    }
   ],
   "source": [
    "names = [\"Ema\", \"Tom\", \"Hinton\"]  # Create a list of names\n",
    "\n",
    "looper = names.__iter__()  # Obtain an iterator object for the list using the __iter__() method\n",
    "\n",
    "print(type(names))   # Print the type of the 'names' variable (which is <class 'list'>)\n",
    "print(type(looper))  # Print the type of the 'looper' variable (which is <class 'list_iterator'>)"
   ]
  },
  {
   "cell_type": "code",
   "execution_count": 40,
   "id": "c5e02819-0957-4612-b2af-9da21a18eb58",
   "metadata": {},
   "outputs": [],
   "source": [
    "# Method 2: Using the Built-in iter() Function\n",
    "# Instead of calling __iter__() directly (which looks a bit technical), Python gives us a cleaner way — the iter() function.\n",
    "\n",
    "# It automatically calls the __iter__() method under the hood\n",
    "\n",
    "# This is the standard and recommended way in Python to get an iterator\n",
    "\n",
    "# Much more readable and Pythonic than using __iter__() directly"
   ]
  },
  {
   "cell_type": "code",
   "execution_count": 42,
   "id": "057f6817-c496-4fb4-ab49-919d48e818ba",
   "metadata": {},
   "outputs": [
    {
     "name": "stdout",
     "output_type": "stream",
     "text": [
      "Ema\n",
      "Tom\n",
      "Hinton\n"
     ]
    },
    {
     "ename": "StopIteration",
     "evalue": "",
     "output_type": "error",
     "traceback": [
      "\u001b[1;31m---------------------------------------------------------------------------\u001b[0m",
      "\u001b[1;31mStopIteration\u001b[0m                             Traceback (most recent call last)",
      "Cell \u001b[1;32mIn[42], line 9\u001b[0m\n\u001b[0;32m      6\u001b[0m \u001b[38;5;28mprint\u001b[39m(\u001b[38;5;28mnext\u001b[39m(looper))  \u001b[38;5;66;03m# 'Tom' - Second item\u001b[39;00m\n\u001b[0;32m      7\u001b[0m \u001b[38;5;28mprint\u001b[39m(\u001b[38;5;28mnext\u001b[39m(looper))  \u001b[38;5;66;03m# 'Hinton' - Third item\u001b[39;00m\n\u001b[1;32m----> 9\u001b[0m \u001b[38;5;28mprint\u001b[39m(\u001b[38;5;28mnext\u001b[39m(looper))\n",
      "\u001b[1;31mStopIteration\u001b[0m: "
     ]
    }
   ],
   "source": [
    "names = ['Ema', 'Tom', 'Hinton']\n",
    "\n",
    "looper = iter(names)  # Creates an iterator from the 'names' list\n",
    "\n",
    "print(next(looper))  # 'Ema' - First item\n",
    "print(next(looper))  # 'Tom' - Second item\n",
    "print(next(looper))  # 'Hinton' - Third item\n",
    "\n",
    "print(next(looper))  # Raises StopIteration because there are no more items\n"
   ]
  },
  {
   "cell_type": "code",
   "execution_count": 44,
   "id": "041982c7-34c7-47f5-bc54-3b25b000da99",
   "metadata": {},
   "outputs": [],
   "source": [
    "# Manual Iteration Using iter() and next() with Exception Handling"
   ]
  },
  {
   "cell_type": "code",
   "execution_count": 46,
   "id": "565a08cd-0dc4-4550-ac5d-04ad73ca3938",
   "metadata": {},
   "outputs": [
    {
     "name": "stdout",
     "output_type": "stream",
     "text": [
      "Ema\n",
      "Tom\n",
      "Hinton\n"
     ]
    }
   ],
   "source": [
    "looper = iter(names)  # We create an iterator from the 'names' list using the iter() function\n",
    "\n",
    "while True: \n",
    "    try:\n",
    "        name = next(looper)  # Try to get the next item from the iterator\n",
    "        print(name)          \n",
    "    except StopIteration:    # If no more items are left, a StopIteration error is raised\n",
    "        break                # We catch that error and break out of the loop\n"
   ]
  },
  {
   "cell_type": "markdown",
   "id": "aade2521-352d-4e55-8f76-51dcbc541e03",
   "metadata": {},
   "source": [
    "## 4) Map(), filter(), & reduce() functions"
   ]
  },
  {
   "cell_type": "code",
   "execution_count": 49,
   "id": "52055cea-4150-4c30-8bcf-f26f2f74886e",
   "metadata": {},
   "outputs": [],
   "source": [
    "# These are powerful functional programming tools in Python used to process iterables in a clean and concise way:\n",
    "\n",
    "# map(function, iterable): Applies a function to each item in the iterable.\n",
    "\n",
    "# filter(function, iterable): Filters elements for which the function returns True.\n",
    "\n",
    "# reduce(function, iterable): Repeatedly applies a function to the iterable and returns a single accumulated value. (Needs to be imported from functools.)"
   ]
  },
  {
   "cell_type": "markdown",
   "id": "ab2cff2a-dcfb-47e8-a55d-e0226265c0ba",
   "metadata": {},
   "source": [
    "#### map()"
   ]
  },
  {
   "cell_type": "code",
   "execution_count": 52,
   "id": "cd1f2322-d581-4541-bce9-a77830c3716b",
   "metadata": {},
   "outputs": [
    {
     "name": "stdout",
     "output_type": "stream",
     "text": [
      "[1, 4, 9, 16, 25]\n"
     ]
    }
   ],
   "source": [
    "# Using map() Function to Apply a Function to All Elements in a List\n",
    "def square(x):\n",
    "    # Function that returns the square of a number x\n",
    "    return x * x\n",
    "\n",
    "numbers = [1, 2, 3, 4, 5]  # List of numbers to be squared\n",
    "\n",
    "# Use map() to apply the 'square' function to each item in 'numbers'\n",
    "print(list(map(square, numbers)))  \n"
   ]
  },
  {
   "cell_type": "code",
   "execution_count": 54,
   "id": "c4664fdf-8e17-4c05-835b-75a134733e3f",
   "metadata": {},
   "outputs": [
    {
     "name": "stdout",
     "output_type": "stream",
     "text": [
      "[1, 4, 9, 16, 25]\n"
     ]
    }
   ],
   "source": [
    "numbers = [1, 2, 3, 4, 5]  # List of numbers to be squared\n",
    "\n",
    "# Use map() with a lambda function to square each item in 'numbers'\n",
    "# The lambda function takes an argument x and returns x*x\n",
    "# Convert the map object to a list so we can print all results\n",
    "\n",
    "print(list(map(lambda x: x * x, numbers)))  "
   ]
  },
  {
   "cell_type": "code",
   "execution_count": 56,
   "id": "7e20072e-5959-4c9d-9896-06146cd8ce55",
   "metadata": {},
   "outputs": [
    {
     "name": "stdout",
     "output_type": "stream",
     "text": [
      "['praveen', 'gaurav', 'raja']\n"
     ]
    }
   ],
   "source": [
    "def l_case(n):\n",
    "    # Function that converts a string to lowercase\n",
    "    return n.lower()\n",
    "\n",
    "name = [\"PRAVEEN\", \"Gaurav\", \"Raja\"]  # List of names with mixed case letters\n",
    "\n",
    "# Use map() to apply the l_case function to each string in the name list\n",
    "# map() returns an iterator, so we convert it to a list to print all results\n",
    "print(list(map(l_case, name)))  "
   ]
  },
  {
   "cell_type": "markdown",
   "id": "a4518c85-0492-4d48-be3a-44750922b86b",
   "metadata": {},
   "source": [
    "#### reduce()"
   ]
  },
  {
   "cell_type": "code",
   "execution_count": 59,
   "id": "4b901051-be36-42dc-8892-f0a496b42215",
   "metadata": {},
   "outputs": [
    {
     "name": "stdout",
     "output_type": "stream",
     "text": [
      "15\n"
     ]
    }
   ],
   "source": [
    "from functools import reduce  # Import reduce function from functools module\n",
    "\n",
    "n = [1, 2, 3, 4,5]  \n",
    "\n",
    "# Use reduce() to apply the lambda function cumulatively to the items of the list\n",
    "# The lambda takes two arguments x and y, and returns their sum x + y\n",
    "# reduce() applies this function cumulatively from left to right, summing all numbers\n",
    "\n",
    "print(reduce(lambda x, y: x + y, n))  # Output: 10"
   ]
  },
  {
   "cell_type": "code",
   "execution_count": 61,
   "id": "5879bc15-1435-45ff-b1c6-86f58f4f755f",
   "metadata": {},
   "outputs": [
    {
     "name": "stdout",
     "output_type": "stream",
     "text": [
      "Practice makes perfect\n"
     ]
    }
   ],
   "source": [
    "p = [\"Practice\", \"makes\", \"perfect\"]  # List of words in a proverb\n",
    "\n",
    "from functools import reduce  \n",
    "\n",
    "# Join the words into a single string with spaces\n",
    "# The lambda adds a space between two words each time\n",
    "\n",
    "print(reduce(lambda x, y: x + \" \" + y, p)) "
   ]
  },
  {
   "cell_type": "markdown",
   "id": "e2195952-566e-4226-9594-3d126bc5a8f8",
   "metadata": {},
   "source": [
    "#### filter()"
   ]
  },
  {
   "cell_type": "code",
   "execution_count": 64,
   "id": "6d5c6228-6f23-4867-af8c-a3519d38d124",
   "metadata": {},
   "outputs": [
    {
     "name": "stdout",
     "output_type": "stream",
     "text": [
      "[2, 4, 6]\n"
     ]
    }
   ],
   "source": [
    "def is_even(x):\n",
    "    # Returns True if x is even\n",
    "    return x % 2 == 0\n",
    "\n",
    "numbers = [1, 2, 3, 4, 5, 6] \n",
    "\n",
    "# Use filter() to keep only even numbers\n",
    "# Convert the result to a list to display it\n",
    "\n",
    "print(list(filter(is_even, numbers))) "
   ]
  },
  {
   "cell_type": "markdown",
   "id": "939d8cb9-3c26-4ea9-9709-9439bb89d376",
   "metadata": {},
   "source": [
    "### Possible Errors & Exceptions in map(), filter(), reduce(), and Iterators"
   ]
  },
  {
   "cell_type": "markdown",
   "id": "08137110-a10b-4f18-bf50-3cb135e7187d",
   "metadata": {},
   "source": [
    "#### 1. TypeError: 'int' object is not iterable"
   ]
  },
  {
   "cell_type": "code",
   "execution_count": 68,
   "id": "47302e2b-1a7d-4aa4-8d2b-960537b9b6e5",
   "metadata": {},
   "outputs": [
    {
     "ename": "TypeError",
     "evalue": "'int' object is not iterable",
     "output_type": "error",
     "traceback": [
      "\u001b[1;31m---------------------------------------------------------------------------\u001b[0m",
      "\u001b[1;31mTypeError\u001b[0m                                 Traceback (most recent call last)",
      "Cell \u001b[1;32mIn[68], line 1\u001b[0m\n\u001b[1;32m----> 1\u001b[0m \u001b[38;5;28mmap\u001b[39m(\u001b[38;5;28;01mlambda\u001b[39;00m x: x \u001b[38;5;241m+\u001b[39m \u001b[38;5;241m1\u001b[39m, \u001b[38;5;241m10\u001b[39m)\n",
      "\u001b[1;31mTypeError\u001b[0m: 'int' object is not iterable"
     ]
    }
   ],
   "source": [
    "map(lambda x: x + 1, 10)  #  10 is not iterable\n",
    "#Cause: Trying to use map() or filter() on a non-iterable like an integer."
   ]
  },
  {
   "cell_type": "code",
   "execution_count": 70,
   "id": "d6c47ad7-9042-4f94-bd9d-c2785535a78e",
   "metadata": {},
   "outputs": [
    {
     "data": {
      "text/plain": [
       "<map at 0x16039d07640>"
      ]
     },
     "execution_count": 70,
     "metadata": {},
     "output_type": "execute_result"
    }
   ],
   "source": [
    "#Fix: Use an iterable like a list.\n",
    "\n",
    "map(lambda x: x + 1, [10])  "
   ]
  },
  {
   "cell_type": "markdown",
   "id": "19aab08d-d83f-4a7d-90c4-38174717eb03",
   "metadata": {},
   "source": [
    "#### 2. NameError: name 'reduce' is not defined"
   ]
  },
  {
   "cell_type": "code",
   "execution_count": 73,
   "id": "e9759d53-4a0c-4f7a-b40e-8da89db3101c",
   "metadata": {},
   "outputs": [],
   "source": [
    "# Cause: Forgetting to import reduce from the functools module.\n",
    "\n",
    "from functools import reduce  "
   ]
  },
  {
   "cell_type": "markdown",
   "id": "f1efe51f-4e56-469a-bbce-26dac060b721",
   "metadata": {},
   "source": [
    "#### 3. TypeError: <lambda>() missing 1 required positional argument"
   ]
  },
  {
   "cell_type": "code",
   "execution_count": 76,
   "id": "b9ba9415-f75d-422f-9ce3-2883df5b5e59",
   "metadata": {},
   "outputs": [
    {
     "ename": "TypeError",
     "evalue": "<lambda>() takes 1 positional argument but 2 were given",
     "output_type": "error",
     "traceback": [
      "\u001b[1;31m---------------------------------------------------------------------------\u001b[0m",
      "\u001b[1;31mTypeError\u001b[0m                                 Traceback (most recent call last)",
      "Cell \u001b[1;32mIn[76], line 3\u001b[0m\n\u001b[0;32m      1\u001b[0m \u001b[38;5;66;03m# Cause: Lambda function expecting two arguments, but only one provided in reduce().\u001b[39;00m\n\u001b[1;32m----> 3\u001b[0m reduce(\u001b[38;5;28;01mlambda\u001b[39;00m x: x \u001b[38;5;241m+\u001b[39m y, [\u001b[38;5;241m1\u001b[39m, \u001b[38;5;241m2\u001b[39m, \u001b[38;5;241m3\u001b[39m])\n",
      "\u001b[1;31mTypeError\u001b[0m: <lambda>() takes 1 positional argument but 2 were given"
     ]
    }
   ],
   "source": [
    "# Cause: Lambda function expecting two arguments, but only one provided in reduce().\n",
    "\n",
    "reduce(lambda x: x + y, [1, 2, 3])  #  y is undefined"
   ]
  },
  {
   "cell_type": "code",
   "execution_count": 78,
   "id": "79bf56b7-4d23-40ca-9a34-128df2599409",
   "metadata": {},
   "outputs": [
    {
     "data": {
      "text/plain": [
       "6"
      ]
     },
     "execution_count": 78,
     "metadata": {},
     "output_type": "execute_result"
    }
   ],
   "source": [
    "# Fix:\n",
    "reduce(lambda x, y: x + y, [1, 2, 3])  "
   ]
  },
  {
   "cell_type": "markdown",
   "id": "468f60fb-3fc0-4eba-93b2-12b3d2ca2c21",
   "metadata": {},
   "source": [
    "#### 4. StopIteration"
   ]
  },
  {
   "cell_type": "code",
   "execution_count": 81,
   "id": "2cedb9dd-b2d7-4927-8d50-71eb723166c5",
   "metadata": {},
   "outputs": [
    {
     "name": "stdout",
     "output_type": "stream",
     "text": [
      "1\n"
     ]
    },
    {
     "ename": "StopIteration",
     "evalue": "",
     "output_type": "error",
     "traceback": [
      "\u001b[1;31m---------------------------------------------------------------------------\u001b[0m",
      "\u001b[1;31mStopIteration\u001b[0m                             Traceback (most recent call last)",
      "Cell \u001b[1;32mIn[81], line 5\u001b[0m\n\u001b[0;32m      3\u001b[0m it \u001b[38;5;241m=\u001b[39m \u001b[38;5;28miter\u001b[39m([\u001b[38;5;241m1\u001b[39m])\n\u001b[0;32m      4\u001b[0m \u001b[38;5;28mprint\u001b[39m(\u001b[38;5;28mnext\u001b[39m(it))  \u001b[38;5;66;03m#  1\u001b[39;00m\n\u001b[1;32m----> 5\u001b[0m \u001b[38;5;28mprint\u001b[39m(\u001b[38;5;28mnext\u001b[39m(it))\n",
      "\u001b[1;31mStopIteration\u001b[0m: "
     ]
    }
   ],
   "source": [
    "# Cause: Calling next() on an exhausted iterator.\n",
    "\n",
    "it = iter([1])\n",
    "print(next(it))  #  1\n",
    "print(next(it))  #  Raises StopIteration\n"
   ]
  },
  {
   "cell_type": "code",
   "execution_count": 83,
   "id": "fe4c7688-c425-4ba8-81e4-b4c544c675c9",
   "metadata": {},
   "outputs": [
    {
     "name": "stdout",
     "output_type": "stream",
     "text": [
      "End of iterator\n"
     ]
    }
   ],
   "source": [
    "# Fix: Use a loop or handle with try-except:\n",
    "\n",
    "try:\n",
    "    print(next(it))\n",
    "except StopIteration:\n",
    "    print(\"End of iterator\")"
   ]
  },
  {
   "cell_type": "markdown",
   "id": "e9f30d83-c9fb-416e-a285-10fd828000e7",
   "metadata": {},
   "source": [
    "#### 5. TypeError: 'NoneType' object is not iterable"
   ]
  },
  {
   "cell_type": "code",
   "execution_count": 86,
   "id": "e24a8745-20e5-4d08-ad25-e3ed91a7610c",
   "metadata": {},
   "outputs": [
    {
     "name": "stdout",
     "output_type": "stream",
     "text": [
      "1\n",
      "2\n",
      "3\n"
     ]
    },
    {
     "data": {
      "text/plain": [
       "[None, None, None]"
      ]
     },
     "execution_count": 86,
     "metadata": {},
     "output_type": "execute_result"
    }
   ],
   "source": [
    "# Cause: Accidentally using a function that returns None in map() or filter().\n",
    "def no_return(x):\n",
    "    print(x)  # Prints but returns None\n",
    "\n",
    "list(map(no_return, [1, 2, 3])) \n"
   ]
  },
  {
   "cell_type": "code",
   "execution_count": 88,
   "id": "eab852ae-906f-4717-bd14-6a7c5783bb9b",
   "metadata": {},
   "outputs": [
    {
     "name": "stdout",
     "output_type": "stream",
     "text": [
      "[2, 4, 6]\n"
     ]
    }
   ],
   "source": [
    "# Fix: Make sure the function returns a value.\n",
    "\n",
    "def with_return(x):\n",
    "    return x * 2  # Example: double the value\n",
    "\n",
    "result = list(map(with_return, [1, 2, 3]))  # Output: [2, 4, 6]\n",
    "\n",
    "print(result)\n"
   ]
  },
  {
   "cell_type": "markdown",
   "id": "5bb4badb-06dc-4e54-80d2-cb4a479e4375",
   "metadata": {},
   "source": [
    "#### 6. TypeError: 'function' object is not iterable"
   ]
  },
  {
   "cell_type": "code",
   "execution_count": 91,
   "id": "102d9423-a0d5-4134-be26-ef27b7a5a449",
   "metadata": {},
   "outputs": [
    {
     "ename": "TypeError",
     "evalue": "'builtin_function_or_method' object is not iterable",
     "output_type": "error",
     "traceback": [
      "\u001b[1;31m---------------------------------------------------------------------------\u001b[0m",
      "\u001b[1;31mTypeError\u001b[0m                                 Traceback (most recent call last)",
      "Cell \u001b[1;32mIn[91], line 3\u001b[0m\n\u001b[0;32m      1\u001b[0m \u001b[38;5;66;03m# Cause: Passing a function itself instead of calling it.\u001b[39;00m\n\u001b[1;32m----> 3\u001b[0m \u001b[38;5;28mmap\u001b[39m(\u001b[38;5;28;01mlambda\u001b[39;00m x: x \u001b[38;5;241m*\u001b[39m x, \u001b[38;5;28msum\u001b[39m)\n",
      "\u001b[1;31mTypeError\u001b[0m: 'builtin_function_or_method' object is not iterable"
     ]
    }
   ],
   "source": [
    "# Cause: Passing a function itself instead of calling it.\n",
    "\n",
    "map(lambda x: x * x, sum)  # 'sum' is a function\n"
   ]
  },
  {
   "cell_type": "code",
   "execution_count": 93,
   "id": "7aa2bdcf-6f10-4c50-975d-10177fcd1f78",
   "metadata": {},
   "outputs": [
    {
     "data": {
      "text/plain": [
       "<map at 0x16039fad3f0>"
      ]
     },
     "execution_count": 93,
     "metadata": {},
     "output_type": "execute_result"
    }
   ],
   "source": [
    "# Fix:\n",
    "\n",
    "map(lambda x: x * x, [1, 2, 3])  "
   ]
  }
 ],
 "metadata": {
  "kernelspec": {
   "display_name": "Python 3 (ipykernel)",
   "language": "python",
   "name": "python3"
  },
  "language_info": {
   "codemirror_mode": {
    "name": "ipython",
    "version": 3
   },
   "file_extension": ".py",
   "mimetype": "text/x-python",
   "name": "python",
   "nbconvert_exporter": "python",
   "pygments_lexer": "ipython3",
   "version": "3.12.4"
  }
 },
 "nbformat": 4,
 "nbformat_minor": 5
}
